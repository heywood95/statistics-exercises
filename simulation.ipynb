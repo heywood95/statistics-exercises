{
 "cells": [
  {
   "cell_type": "markdown",
   "id": "d1f30d10",
   "metadata": {},
   "source": [
    "# Exercises"
   ]
  },
  {
   "cell_type": "code",
   "execution_count": 96,
   "id": "c463f969",
   "metadata": {},
   "outputs": [],
   "source": [
    "\n",
    "import numpy as np\n",
    "import pandas as pd\n",
    "\n",
    "\n",
    "np.random.seed(1000)\n"
   ]
  },
  {
   "cell_type": "markdown",
   "id": "a9e71ee4",
   "metadata": {},
   "source": [
    "1. How likely is it that you roll doubles when rolling two dice?\n"
   ]
  },
  {
   "cell_type": "code",
   "execution_count": 97,
   "id": "50594bdf",
   "metadata": {},
   "outputs": [
    {
     "data": {
      "text/plain": [
       "0.1603"
      ]
     },
     "execution_count": 97,
     "metadata": {},
     "output_type": "execute_result"
    }
   ],
   "source": [
    "n_trials = nrows = 10_000\n",
    "n_dice = ncols = 2\n",
    "rolls = np.random.choice([1, 2, 3, 4, 5, 6], n_trials * n_dice).reshape(nrows, ncols)\n",
    "diff_rolls = rolls.std(axis=1)\n",
    "(pd.DataFrame(diff_rolls)\n",
    " .apply(lambda row: 0 in row.values, axis=1)\n",
    " .mean())"
   ]
  },
  {
   "cell_type": "markdown",
   "id": "036ad2f9",
   "metadata": {},
   "source": [
    "2. If you flip 8 coins, what is the probability of getting exactly 3 heads? What is the probability of getting more than 3 heads?"
   ]
  },
  {
   "cell_type": "code",
   "execution_count": 18,
   "id": "8d311f77",
   "metadata": {},
   "outputs": [
    {
     "data": {
      "text/plain": [
       "(0.2184, 0.6335)"
      ]
     },
     "execution_count": 18,
     "metadata": {},
     "output_type": "execute_result"
    }
   ],
   "source": [
    "n_flips = nrows = 10_000\n",
    "n_coins = ncols = 8\n",
    "flips = np.random.choice([0, 1], n_flips * n_coins).reshape(nrows, ncols)\n",
    "exactly_3_heads = (flips.sum(axis=1) == 3).mean()\n",
    "more_than_3_heads = (flips.sum(axis=1) > 3).mean()\n",
    "exactly_3_heads, more_than_3_heads"
   ]
  },
  {
   "cell_type": "markdown",
   "id": "97d0908f",
   "metadata": {},
   "source": [
    "3. There are approximitely 3 web development cohorts for every 1 data science cohort at Codeup. Assuming that Codeup randomly selects an alumni to put on a billboard, what are the odds that the two billboards I drive past both have data science students on them?"
   ]
  },
  {
   "cell_type": "code",
   "execution_count": 26,
   "id": "42a27054",
   "metadata": {},
   "outputs": [
    {
     "data": {
      "text/plain": [
       "0.8917"
      ]
     },
     "execution_count": 26,
     "metadata": {},
     "output_type": "execute_result"
    }
   ],
   "source": [
    "n_chance = .33\n",
    "n_cohort = ncols = 2\n",
    "n_billboards = nrows = 10_000\n",
    "data = np.random.random((nrows, ncols))\n",
    "ds = data >= n_chance\n",
    "(ds.sum(axis=1) >= 1).mean()\n"
   ]
  },
  {
   "cell_type": "code",
   "execution_count": 101,
   "id": "1dc934d7",
   "metadata": {},
   "outputs": [
    {
     "data": {
      "text/plain": [
       "0.0623"
      ]
     },
     "execution_count": 101,
     "metadata": {},
     "output_type": "execute_result"
    }
   ],
   "source": [
    "n_simulations = 10_000\n",
    "\n",
    "outcomes = ['wd', 'wd', 'wd', 'ds']\n",
    "\n",
    "n_billboards =2\n",
    "\n",
    "billboards = np.random.choice(outcomes, size=(n_simulations, n_billboards))\n",
    "outcomes = ['wd', 'ds']\n",
    "billboards = np.random.choice(outcomes, size=(n_simulations, n_billboards), p=[.75, .25])\n",
    "(billboards == 'ds').sum(axis=1)\n",
    "prob = ((billboards == 'ds').sum(axis=1) ==2).mean()\n",
    "prob"
   ]
  },
  {
   "cell_type": "markdown",
   "id": "be70c871",
   "metadata": {},
   "source": [
    "4. Codeup students buy, on average, 3 poptart packages with a standard deviation of 1.5 a day from the snack vending machine. If on monday the machine is restocked with 17 poptart packages, how likely is it that I will be able to buy some poptarts on Friday afternoon? (Remember, if you have mean and standard deviation, use the np.random.normal) You'll need to make a judgement call on how to handle some of your values"
   ]
  },
  {
   "cell_type": "code",
   "execution_count": 62,
   "id": "07c09612",
   "metadata": {},
   "outputs": [
    {
     "data": {
      "text/plain": [
       "0.5597"
      ]
     },
     "execution_count": 62,
     "metadata": {},
     "output_type": "execute_result"
    }
   ],
   "source": [
    "\n",
    "data2 = 17 - (n_days * (np.random.normal(size = 10_000, loc = 3, scale = 1.5)))\n",
    "get_a_poptart_chances = data2 >= 1\n",
    "get_a_poptart_chances.mean()"
   ]
  },
  {
   "cell_type": "code",
   "execution_count": 104,
   "id": "6569566e",
   "metadata": {},
   "outputs": [
    {
     "data": {
      "text/plain": [
       "0.726"
      ]
     },
     "execution_count": 104,
     "metadata": {},
     "output_type": "execute_result"
    }
   ],
   "source": [
    "mean = 3\n",
    "sd = 1.5\n",
    "n_days = 5\n",
    "pop_per_day = np.random.normal(mean, sd, size=(n_simulations, n_days))\n",
    "poptarts_per_week = pop_per_day.sum(axis=1)\n",
    "(poptarts_per_week < 17).mean()"
   ]
  },
  {
   "cell_type": "markdown",
   "id": "bea12df1",
   "metadata": {},
   "source": [
    "5. Compare Heights\n",
    "\n",
    "- Men have an average height of 178 cm and standard deviation of 8cm.\n",
    "\n",
    "- Women have a mean of 170, sd = 6cm.\n",
    "\n",
    "- Since you have means and standard deviations, you can use np.random.normal to generate observations.\n",
    "\n",
    "- If a man and woman are chosen at random, what is the likelihood the woman is taller than the man?"
   ]
  },
  {
   "cell_type": "code",
   "execution_count": 63,
   "id": "f2e062dd",
   "metadata": {},
   "outputs": [
    {
     "data": {
      "text/plain": [
       "0.2152"
      ]
     },
     "execution_count": 63,
     "metadata": {},
     "output_type": "execute_result"
    }
   ],
   "source": [
    "men_height = np.random.normal(size = 10_000, loc = 178, scale = 8)\n",
    "women_height = np.random.normal(size = 10_000, loc = 170, scale = 6)\n",
    "taller = women_height > men_height\n",
    "taller.mean()"
   ]
  },
  {
   "cell_type": "code",
   "execution_count": 105,
   "id": "a976160c",
   "metadata": {},
   "outputs": [],
   "source": [
    "men_avg = 178\n",
    "men_std = 8\n",
    "women_avg = 170\n",
    "women_std = 6"
   ]
  },
  {
   "cell_type": "code",
   "execution_count": 106,
   "id": "c00d417d",
   "metadata": {},
   "outputs": [
    {
     "data": {
      "text/plain": [
       "0.2186"
      ]
     },
     "execution_count": 106,
     "metadata": {},
     "output_type": "execute_result"
    }
   ],
   "source": [
    "height_men = np.random.normal(men_avg, men_std, n_simulations)\n",
    "height_women = np.random.normal(women_avg, women_std, n_simulations)\n",
    "(height_women > height_men).mean()"
   ]
  },
  {
   "cell_type": "markdown",
   "id": "b1a9af2a",
   "metadata": {},
   "source": [
    "6. When installing anaconda on a student's computer, there's a 1 in 250 chance that the download is corrupted and the installation fails. What are the odds that after having 50 students download anaconda, no one has an installation issue? 100 students?\n",
    "\n",
    "What is the probability that we observe an installation issue within the first 150 students that download anaconda?\n",
    "\n",
    "How likely is it that 450 students all download anaconda without an issue?"
   ]
  },
  {
   "cell_type": "code",
   "execution_count": 64,
   "id": "774cd8ef",
   "metadata": {},
   "outputs": [
    {
     "data": {
      "text/plain": [
       "0.996038"
      ]
     },
     "execution_count": 64,
     "metadata": {},
     "output_type": "execute_result"
    }
   ],
   "source": [
    "n_chance2 = .004\n",
    "n_students = ncols = 50\n",
    "n_attempts = nrows = 10_000\n",
    "data3 = np.random.random((nrows, ncols))\n",
    "odds = data3 >= n_chance2\n",
    "odds.mean()"
   ]
  },
  {
   "cell_type": "code",
   "execution_count": 65,
   "id": "e5b66e2b",
   "metadata": {},
   "outputs": [
    {
     "data": {
      "text/plain": [
       "0.996041"
      ]
     },
     "execution_count": 65,
     "metadata": {},
     "output_type": "execute_result"
    }
   ],
   "source": [
    "n_chance2 = .004\n",
    "n_students = ncols = 100\n",
    "n_attempts = nrows = 10_000\n",
    "data3 = np.random.random((nrows, ncols))\n",
    "odds = data3 >= n_chance2\n",
    "odds.mean()"
   ]
  },
  {
   "cell_type": "code",
   "execution_count": 66,
   "id": "9b9a0bec",
   "metadata": {},
   "outputs": [
    {
     "data": {
      "text/plain": [
       "0.004044"
      ]
     },
     "execution_count": 66,
     "metadata": {},
     "output_type": "execute_result"
    }
   ],
   "source": [
    "n_chance2 = .004\n",
    "n_students = ncols = 150\n",
    "n_attempts = nrows = 10_000\n",
    "data3 = np.random.random((nrows, ncols))\n",
    "odds = data3 <= n_chance2\n",
    "odds.mean()"
   ]
  },
  {
   "cell_type": "code",
   "execution_count": 67,
   "id": "40b71bc9",
   "metadata": {},
   "outputs": [
    {
     "data": {
      "text/plain": [
       "0.004026222222222222"
      ]
     },
     "execution_count": 67,
     "metadata": {},
     "output_type": "execute_result"
    }
   ],
   "source": [
    "n_chance2 = .004\n",
    "n_students = ncols = 450\n",
    "n_attempts = nrows = 10_000\n",
    "data3 = np.random.random((nrows, ncols))\n",
    "odds = data3 <= n_chance2\n",
    "odds.mean()"
   ]
  },
  {
   "cell_type": "code",
   "execution_count": 112,
   "id": "8edaa845",
   "metadata": {},
   "outputs": [
    {
     "data": {
      "text/plain": [
       "0.8179"
      ]
     },
     "execution_count": 112,
     "metadata": {},
     "output_type": "execute_result"
    }
   ],
   "source": [
    "n_simulation = 10_000\n",
    "outcomes = ['S', 'F']\n",
    "n_students = 50\n",
    "downloads = np.random.choice(outcomes, size=(n_simulation, n_students), p = [249/250, 1/250])\n",
    "(downloads == \"S\").sum(axis=1)\n",
    "((downloads == 'S').sum(axis=1) == 50).mean()"
   ]
  },
  {
   "cell_type": "markdown",
   "id": "66cd6a1b",
   "metadata": {},
   "source": [
    "7. There's a 70% chance on any given day that there will be at least one food truck at Travis Park. However, you haven't seen a food truck there in 3 days. How unlikely is this?\n",
    "\n",
    "How likely is it that a food truck will show up sometime this week?"
   ]
  },
  {
   "cell_type": "code",
   "execution_count": 76,
   "id": "dbab35ea",
   "metadata": {},
   "outputs": [
    {
     "data": {
      "text/plain": [
       "0.30145714285714287"
      ]
     },
     "execution_count": 76,
     "metadata": {},
     "output_type": "execute_result"
    }
   ],
   "source": [
    "n_percent = .7\n",
    "n_days_of_week = ncols = 7\n",
    "n_random = nrows = 10_000\n",
    "data4 = np.random.random((nrows, ncols))\n",
    "unlikely = data4 > n_percent\n",
    "unlikely.mean()"
   ]
  },
  {
   "cell_type": "code",
   "execution_count": 77,
   "id": "cf44b886",
   "metadata": {},
   "outputs": [
    {
     "data": {
      "text/plain": [
       "0.6978857142857143"
      ]
     },
     "execution_count": 77,
     "metadata": {},
     "output_type": "execute_result"
    }
   ],
   "source": [
    "n_percent = .7\n",
    "n_days_of_week = ncols = 7\n",
    "n_random = nrows = 10_000\n",
    "data4 = np.random.random((nrows, ncols))\n",
    "likely = data4 <= n_percent\n",
    "likely.mean()"
   ]
  },
  {
   "cell_type": "code",
   "execution_count": 110,
   "id": "2472505c",
   "metadata": {},
   "outputs": [
    {
     "data": {
      "text/plain": [
       "0.0262"
      ]
     },
     "execution_count": 110,
     "metadata": {},
     "output_type": "execute_result"
    }
   ],
   "source": [
    "n_days = 3\n",
    "trucks = np.random.choice([0, 1], size =(n_simulations, n_days), p = [.3, .7])\n",
    "(trucks.sum(axis=1) == 0).mean()"
   ]
  },
  {
   "cell_type": "code",
   "execution_count": 111,
   "id": "81ec3dc1",
   "metadata": {},
   "outputs": [
    {
     "data": {
      "text/plain": [
       "0.9738"
      ]
     },
     "execution_count": 111,
     "metadata": {},
     "output_type": "execute_result"
    }
   ],
   "source": [
    "(trucks.sum(axis=1) >= 1).mean()"
   ]
  },
  {
   "cell_type": "markdown",
   "id": "9a244eb4",
   "metadata": {},
   "source": [
    "8. If 23 people are in the same room, what are the odds that two of them share a birthday? What if it's 20 people? 40?"
   ]
  },
  {
   "cell_type": "code",
   "execution_count": 89,
   "id": "9e799cd7",
   "metadata": {},
   "outputs": [
    {
     "data": {
      "text/plain": [
       "(0.5072972343239854, 0.41143838358057994, 0.891231809817949)"
      ]
     },
     "execution_count": 89,
     "metadata": {},
     "output_type": "execute_result"
    }
   ],
   "source": [
    "#odds2 = \n",
    "#people = ncols = 23\n",
    "#n_attempts_inroom = nrows = 10_000\n",
    "#data5 = np.random.random((nrows, ncols))\n",
    "\n",
    "from math import factorial\n",
    "1 - (factorial(365) / (factorial(342) * 365**23)), 1 - (factorial(365) / (factorial(345) * 365**20)), 1 - (factorial(365) / (factorial(325) * 365**40))"
   ]
  },
  {
   "cell_type": "code",
   "execution_count": 87,
   "id": "84cc8b6f",
   "metadata": {},
   "outputs": [
    {
     "name": "stdout",
     "output_type": "stream",
     "text": [
      "23 Random people have a 51.1% chance of having a birthday on the same day\n",
      "20 Random people have a 40.8% chance of having a birthday on the same day\n",
      "40 Random people have a 88.9% chance of having a birthday on the same day\n"
     ]
    }
   ],
   "source": [
    "from random import randint\n",
    "from datetime import datetime, timedelta\n",
    "\n",
    "def random_birthdays(number_of_people):\n",
    "    first_day_of_year = datetime(2017, 1, 1)\n",
    "    return [first_day_of_year + timedelta(days=randint(0, 365))\n",
    "            for _ in range(number_of_people)]\n",
    "\n",
    "def determine_probability(number_of_people, run_amount=10_000):\n",
    "    dups_found = 0\n",
    "    for _ in range(run_amount):\n",
    "        birthdays = random_birthdays(number_of_people)\n",
    "        duplicates = set(x for x in birthdays if birthdays.count(x) > 1)\n",
    "        if len(duplicates) >= 1:\n",
    "            dups_found += 1\n",
    "\n",
    "    return dups_found/run_amount * 100\n",
    "\n",
    "if __name__ == '__main__':\n",
    "    msg = (\"{people} Random people have a {chance:.1f}%\"\n",
    "           \" chance of having a birthday on the same day\")\n",
    "    for people in (23, 20, 40):\n",
    "        print(msg.format(people=people, chance=determine_probability(people)))"
   ]
  },
  {
   "cell_type": "code",
   "execution_count": null,
   "id": "20e37740",
   "metadata": {},
   "outputs": [],
   "source": [
    "#odds2 = \n",
    "#people = ncols = 23\n",
    "#n_attempts_inroom = nrows = 10_000\n",
    "#data5 = np.random.random((nrows, ncols))"
   ]
  },
  {
   "cell_type": "code",
   "execution_count": 113,
   "id": "e8a177e5",
   "metadata": {},
   "outputs": [
    {
     "data": {
      "text/plain": [
       "0.5076"
      ]
     },
     "execution_count": 113,
     "metadata": {},
     "output_type": "execute_result"
    }
   ],
   "source": [
    "outcomes = range(1, 366)\n",
    "n_students = 23\n",
    "birthdays = np.random.choice(outcomes, size=(n_simulations, n_students))\n",
    "birthdays = pd.DataFrame(birthdays)\n",
    "(birthdays.nunique(axis=1) < 23).mean()"
   ]
  },
  {
   "cell_type": "code",
   "execution_count": 115,
   "id": "418ca036",
   "metadata": {},
   "outputs": [
    {
     "data": {
      "text/plain": [
       "0.4119"
      ]
     },
     "execution_count": 115,
     "metadata": {},
     "output_type": "execute_result"
    }
   ],
   "source": [
    "outcomes = range(1, 366)\n",
    "n_students = 20\n",
    "birthdays = np.random.choice(outcomes, size=(n_simulations, n_students))\n",
    "birthdays = pd.DataFrame(birthdays)\n",
    "(birthdays.nunique(axis=1) < 20).mean()"
   ]
  },
  {
   "cell_type": "code",
   "execution_count": 116,
   "id": "5b0b6a88",
   "metadata": {},
   "outputs": [
    {
     "data": {
      "text/plain": [
       "0.893"
      ]
     },
     "execution_count": 116,
     "metadata": {},
     "output_type": "execute_result"
    }
   ],
   "source": [
    "outcomes = range(1, 366)\n",
    "n_students = 40\n",
    "birthdays = np.random.choice(outcomes, size=(n_simulations, n_students))\n",
    "birthdays = pd.DataFrame(birthdays)\n",
    "(birthdays.nunique(axis=1) < 40).mean()"
   ]
  },
  {
   "cell_type": "code",
   "execution_count": null,
   "id": "a3b449ad",
   "metadata": {},
   "outputs": [],
   "source": []
  }
 ],
 "metadata": {
  "kernelspec": {
   "display_name": "Python 3 (ipykernel)",
   "language": "python",
   "name": "python3"
  },
  "language_info": {
   "codemirror_mode": {
    "name": "ipython",
    "version": 3
   },
   "file_extension": ".py",
   "mimetype": "text/x-python",
   "name": "python",
   "nbconvert_exporter": "python",
   "pygments_lexer": "ipython3",
   "version": "3.9.13"
  }
 },
 "nbformat": 4,
 "nbformat_minor": 5
}
