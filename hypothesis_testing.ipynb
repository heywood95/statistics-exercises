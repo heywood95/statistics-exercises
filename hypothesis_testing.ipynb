{
 "cells": [
  {
   "cell_type": "markdown",
   "id": "0a0f1fd1",
   "metadata": {},
   "source": [
    "# Exercises"
   ]
  },
  {
   "cell_type": "markdown",
   "id": "fe11bc22",
   "metadata": {},
   "source": [
    "Do your work for this exercise in a jupyter notebook named hypothesis_testing.ipynb.\n",
    "\n",
    "For each of the following questions, formulate a null and alternative hypothesis (be as specific as you can be), then give an example of what a true positive, true negative, type I and type II errors would look like. Note that some of the questions are intentionally phrased in a vague way. It is your job to reword these as more precise questions that could be tested."
   ]
  },
  {
   "cell_type": "markdown",
   "id": "73d17fc3",
   "metadata": {},
   "source": [
    "- Has the network latency gone up since we switched internet service providers?"
   ]
  },
  {
   "cell_type": "markdown",
   "id": "13138d3a",
   "metadata": {},
   "source": [
    "1. Null = The latency between the new and old service providers remained the same.\n",
    "\n",
    "2. Alternative = The latency between the new and old service providers has increased.\n",
    "\n",
    "3. true positive = The latency shows an average difference of 10 seconds\n",
    "\n",
    "4. true negative = The latency shows an average difference of .00001 seconds\n",
    "\n",
    "5. type I = The latency shows an average difference of .05 seconds but it is not noticeable\n",
    "\n",
    "6. type II = The latency shows an average difference of .03"
   ]
  },
  {
   "cell_type": "markdown",
   "id": "294cfa5d",
   "metadata": {},
   "source": [
    "- Is the website redesign any good?"
   ]
  },
  {
   "cell_type": "markdown",
   "id": "2dbaa635",
   "metadata": {},
   "source": [
    "1. Null = Click through rate is the same.\n",
    "2. Alternative = Higher click through rate.\n",
    "3. true positive = Click rates did not change\n",
    "4. true negative = Click rates increased by 1000\n",
    "5. type I = Click rates only increased by 10.\n",
    "6. type II = Click rates decreased by 10.\n"
   ]
  },
  {
   "cell_type": "markdown",
   "id": "f4be768e",
   "metadata": {},
   "source": [
    "- Is our television ad driving more sales"
   ]
  },
  {
   "cell_type": "markdown",
   "id": "dd1aa64a",
   "metadata": {},
   "source": [
    "1. Null = Sales have remained the same, did not increase or decrease.\n",
    "2. Alternative = Sales have increased.\n",
    "3. true positive = Sales remained the same.\n",
    "4. true negative = Sales increased by $10, 000 from last year.\n",
    "5. type I = Sales only increased by $100.\n",
    "6. type II = Sales decreased by $100."
   ]
  },
  {
   "cell_type": "markdown",
   "id": "97a501df",
   "metadata": {},
   "source": [
    "# Exercises T-Test"
   ]
  },
  {
   "cell_type": "markdown",
   "id": "a1ca750f",
   "metadata": {},
   "source": [
    "1. Answer with the type of test you would use (assume normal distribution):\n",
    "\n",
    "- Is there a difference in grades of students on the second floor compared to grades of all students?"
   ]
  },
  {
   "cell_type": "markdown",
   "id": "eb6b4e5f",
   "metadata": {},
   "source": [
    "A. One sample T-Test, 2-tail"
   ]
  },
  {
   "cell_type": "markdown",
   "id": "f26e1ca2",
   "metadata": {},
   "source": [
    "- Are adults who drink milk taller than adults who dont drink milk?"
   ]
  },
  {
   "cell_type": "markdown",
   "id": "3290a967",
   "metadata": {},
   "source": [
    "A. Independent T-Test, 1-tail"
   ]
  },
  {
   "cell_type": "markdown",
   "id": "93f5f380",
   "metadata": {},
   "source": [
    "- Is the the price of gas higher in texas or in new mexico?"
   ]
  },
  {
   "cell_type": "markdown",
   "id": "e108388b",
   "metadata": {},
   "source": [
    "A. Independent t-test, 1-tail"
   ]
  },
  {
   "cell_type": "markdown",
   "id": "6eaabdd5",
   "metadata": {},
   "source": [
    "- Are there differences in stress levels between students who take data science vs students who take web development vs students who take cloud academy?"
   ]
  },
  {
   "cell_type": "markdown",
   "id": "913b34d2",
   "metadata": {},
   "source": [
    "A. ANOVA"
   ]
  },
  {
   "cell_type": "markdown",
   "id": "947fe6db",
   "metadata": {},
   "source": [
    "2. Ace Realty wants to determine whether the average time it takes to sell homes is different for its two offices. A sample of 40 sales from office #1 revealed a mean of 90 days and a standard deviation of 15 days. A sample of 50 sales from office #2 revealed a mean of 100 days and a standard deviation of 20 days. Use a .05 level of significance."
   ]
  },
  {
   "cell_type": "code",
   "execution_count": 17,
   "id": "59716eec",
   "metadata": {},
   "outputs": [],
   "source": [
    "alpha = .05"
   ]
  },
  {
   "cell_type": "code",
   "execution_count": 18,
   "id": "49520364",
   "metadata": {},
   "outputs": [],
   "source": [
    "sample1 = 40\n",
    "mean1 = 90\n",
    "std_dev1 = 15\n",
    "\n",
    "sample2 = 50\n",
    "mean2 = 100\n",
    "std_dev2 = 20\n",
    "\n",
    "office1 = stats.norm(mean1, std_dev1).cdf(sample1)\n",
    "office2 = stats.norm(mean2, std_dev2).cdf(sample2)"
   ]
  },
  {
   "cell_type": "code",
   "execution_count": 19,
   "id": "90584d3b",
   "metadata": {},
   "outputs": [
    {
     "data": {
      "text/plain": [
       "(0.0004290603331968372, 0.006209665325776132)"
      ]
     },
     "execution_count": 19,
     "metadata": {},
     "output_type": "execute_result"
    }
   ],
   "source": [
    "office1, office2"
   ]
  },
  {
   "cell_type": "code",
   "execution_count": 20,
   "id": "9afe5132",
   "metadata": {},
   "outputs": [
    {
     "data": {
      "text/plain": [
       "(array([0., 0., 0., 0., 1., 0., 0., 0., 0., 0.]),\n",
       " array([-0.49379033, -0.39379033, -0.29379033, -0.19379033, -0.09379033,\n",
       "         0.00620967,  0.10620967,  0.20620967,  0.30620967,  0.40620967,\n",
       "         0.50620967]),\n",
       " <BarContainer object of 10 artists>)"
      ]
     },
     "execution_count": 20,
     "metadata": {},
     "output_type": "execute_result"
    },
    {
     "data": {
      "image/png": "[encoded data removed]",
      "text/plain": [
       "<Figure size 640x480 with 1 Axes>"
      ]
     },
     "metadata": {},
     "output_type": "display_data"
    }
   ],
   "source": [
    "plt.hist(office1)\n",
    "plt.hist(office2)"
   ]
  },
  {
   "cell_type": "code",
   "execution_count": 21,
   "id": "7939eb93",
   "metadata": {},
   "outputs": [],
   "source": [
    "from scipy import stats\n",
    "from pydataset import data"
   ]
  },
  {
   "cell_type": "code",
   "execution_count": 22,
   "id": "850dd594",
   "metadata": {},
   "outputs": [],
   "source": [
    "office_one = stats.norm(90, 15)\n",
    "office_two = stats.norm(100, 20)"
   ]
  },
  {
   "cell_type": "code",
   "execution_count": 23,
   "id": "39680ffa",
   "metadata": {},
   "outputs": [],
   "source": [
    "dist_one = office_one.rvs(40)\n",
    "dist_two = office_two.rvs(50)"
   ]
  },
  {
   "cell_type": "code",
   "execution_count": 24,
   "id": "7f80bc55",
   "metadata": {},
   "outputs": [
    {
     "data": {
      "text/plain": [
       "(256.57223863639837, 392.95594706567607)"
      ]
     },
     "execution_count": 24,
     "metadata": {},
     "output_type": "execute_result"
    }
   ],
   "source": [
    "dist_one.var(), dist_two.var()"
   ]
  },
  {
   "cell_type": "code",
   "execution_count": 25,
   "id": "8330d3d1",
   "metadata": {},
   "outputs": [
    {
     "data": {
      "text/plain": [
       "LeveneResult(statistic=1.3272714849710208, pvalue=0.25241143186725107)"
      ]
     },
     "execution_count": 25,
     "metadata": {},
     "output_type": "execute_result"
    }
   ],
   "source": [
    "stats.levene(dist_one, dist_two)"
   ]
  },
  {
   "cell_type": "code",
   "execution_count": 26,
   "id": "599d69e3",
   "metadata": {},
   "outputs": [
    {
     "data": {
      "text/plain": [
       "(2.263357752046794, 0.02607389814953144)"
      ]
     },
     "execution_count": 26,
     "metadata": {},
     "output_type": "execute_result"
    }
   ],
   "source": [
    "t, p = stats.ttest_ind(dist_two, dist_one, equal_var=False)\n",
    "t, p"
   ]
  },
  {
   "cell_type": "markdown",
   "id": "389dbe84",
   "metadata": {},
   "source": [
    "Null: There's no diference between the two distrtibutions\n",
    "Alternative: there's a significant difference between the two distributions"
   ]
  },
  {
   "cell_type": "code",
   "execution_count": 27,
   "id": "6fd4cc28",
   "metadata": {},
   "outputs": [
    {
     "name": "stdout",
     "output_type": "stream",
     "text": [
      "Reject null\n"
     ]
    }
   ],
   "source": [
    "alpha = .05\n",
    "\n",
    "if p <= alpha:\n",
    "    print('Reject null')\n",
    "else:\n",
    "    print('Fail to reject null')\n",
    "    # "
   ]
  },
  {
   "cell_type": "markdown",
   "id": "737537b3",
   "metadata": {},
   "source": [
    "Takeaway: we rejected the null hypothesis, there is a signficant difference between the two offices"
   ]
  },
  {
   "cell_type": "markdown",
   "id": "38b9d63f",
   "metadata": {},
   "source": [
    "3. Load the mpg dataset and use it to answer the following questions:"
   ]
  },
  {
   "cell_type": "code",
   "execution_count": 28,
   "id": "0ac65306",
   "metadata": {},
   "outputs": [],
   "source": [
    "#import seaborn as sns\n",
    "#mpg = sns.load_dataset('mpg')\n",
    "from pydataset import data\n",
    "mpg = data('mpg')\n",
    "import pandas as pd\n",
    "import matplotlib.pyplot as plt\n",
    "import scipy.stats as stats\n",
    "import seaborn as sns\n",
    "import env\n"
   ]
  },
  {
   "cell_type": "markdown",
   "id": "ae780ed6",
   "metadata": {},
   "source": [
    "- Is there a difference in fuel-efficiency in cars from 2008 vs 1999? Independent Test"
   ]
  },
  {
   "cell_type": "code",
   "execution_count": 29,
   "id": "3eda7a8f",
   "metadata": {},
   "outputs": [
    {
     "data": {
      "text/html": [
       "<div>\n",
       "<style scoped>\n",
       "    .dataframe tbody tr th:only-of-type {\n",
       "        vertical-align: middle;\n",
       "    }\n",
       "\n",
       "    .dataframe tbody tr th {\n",
       "        vertical-align: top;\n",
       "    }\n",
       "\n",
       "    .dataframe thead th {\n",
       "        text-align: right;\n",
       "    }\n",
       "</style>\n",
       "<table border=\"1\" class=\"dataframe\">\n",
       "  <thead>\n",
       "    <tr style=\"text-align: right;\">\n",
       "      <th></th>\n",
       "      <th>manufacturer</th>\n",
       "      <th>model</th>\n",
       "      <th>displ</th>\n",
       "      <th>year</th>\n",
       "      <th>cyl</th>\n",
       "      <th>trans</th>\n",
       "      <th>drv</th>\n",
       "      <th>cty</th>\n",
       "      <th>hwy</th>\n",
       "      <th>fl</th>\n",
       "      <th>class</th>\n",
       "    </tr>\n",
       "  </thead>\n",
       "  <tbody>\n",
       "    <tr>\n",
       "      <th>1</th>\n",
       "      <td>audi</td>\n",
       "      <td>a4</td>\n",
       "      <td>1.8</td>\n",
       "      <td>1999</td>\n",
       "      <td>4</td>\n",
       "      <td>auto(l5)</td>\n",
       "      <td>f</td>\n",
       "      <td>18</td>\n",
       "      <td>29</td>\n",
       "      <td>p</td>\n",
       "      <td>compact</td>\n",
       "    </tr>\n",
       "    <tr>\n",
       "      <th>2</th>\n",
       "      <td>audi</td>\n",
       "      <td>a4</td>\n",
       "      <td>1.8</td>\n",
       "      <td>1999</td>\n",
       "      <td>4</td>\n",
       "      <td>manual(m5)</td>\n",
       "      <td>f</td>\n",
       "      <td>21</td>\n",
       "      <td>29</td>\n",
       "      <td>p</td>\n",
       "      <td>compact</td>\n",
       "    </tr>\n",
       "    <tr>\n",
       "      <th>3</th>\n",
       "      <td>audi</td>\n",
       "      <td>a4</td>\n",
       "      <td>2.0</td>\n",
       "      <td>2008</td>\n",
       "      <td>4</td>\n",
       "      <td>manual(m6)</td>\n",
       "      <td>f</td>\n",
       "      <td>20</td>\n",
       "      <td>31</td>\n",
       "      <td>p</td>\n",
       "      <td>compact</td>\n",
       "    </tr>\n",
       "    <tr>\n",
       "      <th>4</th>\n",
       "      <td>audi</td>\n",
       "      <td>a4</td>\n",
       "      <td>2.0</td>\n",
       "      <td>2008</td>\n",
       "      <td>4</td>\n",
       "      <td>auto(av)</td>\n",
       "      <td>f</td>\n",
       "      <td>21</td>\n",
       "      <td>30</td>\n",
       "      <td>p</td>\n",
       "      <td>compact</td>\n",
       "    </tr>\n",
       "    <tr>\n",
       "      <th>5</th>\n",
       "      <td>audi</td>\n",
       "      <td>a4</td>\n",
       "      <td>2.8</td>\n",
       "      <td>1999</td>\n",
       "      <td>6</td>\n",
       "      <td>auto(l5)</td>\n",
       "      <td>f</td>\n",
       "      <td>16</td>\n",
       "      <td>26</td>\n",
       "      <td>p</td>\n",
       "      <td>compact</td>\n",
       "    </tr>\n",
       "  </tbody>\n",
       "</table>\n",
       "</div>"
      ],
      "text/plain": [
       "  manufacturer model  displ  year  cyl       trans drv  cty  hwy fl    class\n",
       "1         audi    a4    1.8  1999    4    auto(l5)   f   18   29  p  compact\n",
       "2         audi    a4    1.8  1999    4  manual(m5)   f   21   29  p  compact\n",
       "3         audi    a4    2.0  2008    4  manual(m6)   f   20   31  p  compact\n",
       "4         audi    a4    2.0  2008    4    auto(av)   f   21   30  p  compact\n",
       "5         audi    a4    2.8  1999    6    auto(l5)   f   16   26  p  compact"
      ]
     },
     "execution_count": 29,
     "metadata": {},
     "output_type": "execute_result"
    }
   ],
   "source": [
    "mpg.head()"
   ]
  },
  {
   "cell_type": "code",
   "execution_count": 30,
   "id": "290adaf6",
   "metadata": {},
   "outputs": [],
   "source": [
    "alpha = .05"
   ]
  },
  {
   "cell_type": "code",
   "execution_count": 31,
   "id": "8ef12b92",
   "metadata": {},
   "outputs": [
    {
     "data": {
      "text/plain": [
       "1999    117\n",
       "2008    117\n",
       "Name: year, dtype: int64"
      ]
     },
     "execution_count": 31,
     "metadata": {},
     "output_type": "execute_result"
    }
   ],
   "source": [
    "mpg.year.value_counts()"
   ]
  },
  {
   "cell_type": "code",
   "execution_count": 32,
   "id": "2b701ab6",
   "metadata": {},
   "outputs": [
    {
     "data": {
      "text/plain": [
       "manufacturer    0\n",
       "model           0\n",
       "displ           0\n",
       "year            0\n",
       "cyl             0\n",
       "trans           0\n",
       "drv             0\n",
       "cty             0\n",
       "hwy             0\n",
       "fl              0\n",
       "class           0\n",
       "dtype: int64"
      ]
     },
     "execution_count": 32,
     "metadata": {},
     "output_type": "execute_result"
    }
   ],
   "source": [
    "mpg.isna().sum()\n",
    "\n",
    "mpg = mpg[~mpg.hwy.isna()]\n",
    "mpg = mpg[~mpg.year.isna()]\n",
    "mpg.isna().sum()"
   ]
  },
  {
   "cell_type": "code",
   "execution_count": 33,
   "id": "8760c842",
   "metadata": {},
   "outputs": [
    {
     "data": {
      "text/plain": [
       "<AxesSubplot:>"
      ]
     },
     "execution_count": 33,
     "metadata": {},
     "output_type": "execute_result"
    },
    {
     "data": {
      "image/png": "[encoded data removed]",
      "text/plain": [
       "<Figure size 640x480 with 1 Axes>"
      ]
     },
     "metadata": {},
     "output_type": "display_data"
    }
   ],
   "source": [
    "mpg[mpg.year==1999].hwy.hist()\n",
    "mpg[mpg.year==2008].hwy.hist()"
   ]
  },
  {
   "cell_type": "code",
   "execution_count": 34,
   "id": "35e4b1ec",
   "metadata": {},
   "outputs": [],
   "source": [
    "ninety_nine = mpg[mpg.year==1999].hwy\n",
    "zero_eight = mpg[mpg.year==2008].hwy"
   ]
  },
  {
   "cell_type": "code",
   "execution_count": 35,
   "id": "f986ad8c",
   "metadata": {},
   "outputs": [
    {
     "data": {
      "text/plain": [
       "3     31\n",
       "4     30\n",
       "7     27\n",
       "10    28\n",
       "11    27\n",
       "Name: hwy, dtype: int64"
      ]
     },
     "execution_count": 35,
     "metadata": {},
     "output_type": "execute_result"
    }
   ],
   "source": [
    "zero_eight.head()\n",
    "#ninety_nine.head()"
   ]
  },
  {
   "cell_type": "code",
   "execution_count": 36,
   "id": "f3451fe2",
   "metadata": {},
   "outputs": [
    {
     "data": {
      "text/plain": [
       "LeveneResult(statistic=0.0212016152523693, pvalue=0.8843574825616618)"
      ]
     },
     "execution_count": 36,
     "metadata": {},
     "output_type": "execute_result"
    }
   ],
   "source": [
    "stats.levene(ninety_nine, zero_eight)"
   ]
  },
  {
   "cell_type": "code",
   "execution_count": 37,
   "id": "9a263e2c",
   "metadata": {},
   "outputs": [
    {
     "name": "stdout",
     "output_type": "stream",
     "text": [
      "We fail to find a signficant difference\n"
     ]
    }
   ],
   "source": [
    "t, p = stats.ttest_ind(ninety_nine, zero_eight, equal_var=False)\n",
    "\n",
    "if p < .05:\n",
    "    print('There is a significant difference between the fuel-efficiency of vehicles in 1999 and 2008')\n",
    "else:\n",
    "    print('We fail to find a signficant difference')"
   ]
  },
  {
   "cell_type": "code",
   "execution_count": 38,
   "id": "b2372100",
   "metadata": {},
   "outputs": [
    {
     "data": {
      "text/html": [
       "<div>\n",
       "<style scoped>\n",
       "    .dataframe tbody tr th:only-of-type {\n",
       "        vertical-align: middle;\n",
       "    }\n",
       "\n",
       "    .dataframe tbody tr th {\n",
       "        vertical-align: top;\n",
       "    }\n",
       "\n",
       "    .dataframe thead th {\n",
       "        text-align: right;\n",
       "    }\n",
       "</style>\n",
       "<table border=\"1\" class=\"dataframe\">\n",
       "  <thead>\n",
       "    <tr style=\"text-align: right;\">\n",
       "      <th></th>\n",
       "      <th>manufacturer</th>\n",
       "      <th>model</th>\n",
       "      <th>displ</th>\n",
       "      <th>year</th>\n",
       "      <th>cyl</th>\n",
       "      <th>trans</th>\n",
       "      <th>drv</th>\n",
       "      <th>cty</th>\n",
       "      <th>hwy</th>\n",
       "      <th>fl</th>\n",
       "      <th>class</th>\n",
       "      <th>fuel_eff</th>\n",
       "    </tr>\n",
       "  </thead>\n",
       "  <tbody>\n",
       "    <tr>\n",
       "      <th>1</th>\n",
       "      <td>audi</td>\n",
       "      <td>a4</td>\n",
       "      <td>1.8</td>\n",
       "      <td>1999</td>\n",
       "      <td>4</td>\n",
       "      <td>auto(l5)</td>\n",
       "      <td>f</td>\n",
       "      <td>18</td>\n",
       "      <td>29</td>\n",
       "      <td>p</td>\n",
       "      <td>compact</td>\n",
       "      <td>23.5</td>\n",
       "    </tr>\n",
       "    <tr>\n",
       "      <th>2</th>\n",
       "      <td>audi</td>\n",
       "      <td>a4</td>\n",
       "      <td>1.8</td>\n",
       "      <td>1999</td>\n",
       "      <td>4</td>\n",
       "      <td>manual(m5)</td>\n",
       "      <td>f</td>\n",
       "      <td>21</td>\n",
       "      <td>29</td>\n",
       "      <td>p</td>\n",
       "      <td>compact</td>\n",
       "      <td>25.0</td>\n",
       "    </tr>\n",
       "    <tr>\n",
       "      <th>3</th>\n",
       "      <td>audi</td>\n",
       "      <td>a4</td>\n",
       "      <td>2.0</td>\n",
       "      <td>2008</td>\n",
       "      <td>4</td>\n",
       "      <td>manual(m6)</td>\n",
       "      <td>f</td>\n",
       "      <td>20</td>\n",
       "      <td>31</td>\n",
       "      <td>p</td>\n",
       "      <td>compact</td>\n",
       "      <td>25.5</td>\n",
       "    </tr>\n",
       "    <tr>\n",
       "      <th>4</th>\n",
       "      <td>audi</td>\n",
       "      <td>a4</td>\n",
       "      <td>2.0</td>\n",
       "      <td>2008</td>\n",
       "      <td>4</td>\n",
       "      <td>auto(av)</td>\n",
       "      <td>f</td>\n",
       "      <td>21</td>\n",
       "      <td>30</td>\n",
       "      <td>p</td>\n",
       "      <td>compact</td>\n",
       "      <td>25.5</td>\n",
       "    </tr>\n",
       "    <tr>\n",
       "      <th>5</th>\n",
       "      <td>audi</td>\n",
       "      <td>a4</td>\n",
       "      <td>2.8</td>\n",
       "      <td>1999</td>\n",
       "      <td>6</td>\n",
       "      <td>auto(l5)</td>\n",
       "      <td>f</td>\n",
       "      <td>16</td>\n",
       "      <td>26</td>\n",
       "      <td>p</td>\n",
       "      <td>compact</td>\n",
       "      <td>21.0</td>\n",
       "    </tr>\n",
       "  </tbody>\n",
       "</table>\n",
       "</div>"
      ],
      "text/plain": [
       "  manufacturer model  displ  year  cyl       trans drv  cty  hwy fl    class  \\\n",
       "1         audi    a4    1.8  1999    4    auto(l5)   f   18   29  p  compact   \n",
       "2         audi    a4    1.8  1999    4  manual(m5)   f   21   29  p  compact   \n",
       "3         audi    a4    2.0  2008    4  manual(m6)   f   20   31  p  compact   \n",
       "4         audi    a4    2.0  2008    4    auto(av)   f   21   30  p  compact   \n",
       "5         audi    a4    2.8  1999    6    auto(l5)   f   16   26  p  compact   \n",
       "\n",
       "   fuel_eff  \n",
       "1      23.5  \n",
       "2      25.0  \n",
       "3      25.5  \n",
       "4      25.5  \n",
       "5      21.0  "
      ]
     },
     "execution_count": 38,
     "metadata": {},
     "output_type": "execute_result"
    }
   ],
   "source": [
    "mpg['fuel_eff'] = (mpg['cty'] + mpg['hwy']) / 2\n",
    "mpg.head()"
   ]
  },
  {
   "cell_type": "code",
   "execution_count": 39,
   "id": "d6e2851b",
   "metadata": {},
   "outputs": [],
   "source": [
    "new_eff = mpg[mpg['year'] == 2008]['fuel_eff']\n",
    "old_eff = mpg[mpg['year'] == 1999]['fuel_eff']"
   ]
  },
  {
   "cell_type": "code",
   "execution_count": 40,
   "id": "8516e4e9",
   "metadata": {},
   "outputs": [
    {
     "data": {
      "text/plain": [
       "(24.097480106100797, 27.122605363984682)"
      ]
     },
     "execution_count": 40,
     "metadata": {},
     "output_type": "execute_result"
    }
   ],
   "source": [
    "new_eff.var(), old_eff.var()"
   ]
  },
  {
   "cell_type": "markdown",
   "id": "2d4e21e5",
   "metadata": {},
   "source": [
    "Null: there is no difference in fuel efficiency between cars made in 2008 and 1999\n",
    "Alternative: there is a significant difference in fuel efficiency between cars made in 2008 and 1999"
   ]
  },
  {
   "cell_type": "code",
   "execution_count": 41,
   "id": "99ca1fd1",
   "metadata": {},
   "outputs": [
    {
     "data": {
      "text/plain": [
       "(-0.21960177245940962, 0.8263750772060638)"
      ]
     },
     "execution_count": 41,
     "metadata": {},
     "output_type": "execute_result"
    }
   ],
   "source": [
    "t2, p2 = stats.ttest_ind(new_eff, old_eff, equal_var=False)\n",
    "t2, p2"
   ]
  },
  {
   "cell_type": "code",
   "execution_count": 42,
   "id": "58650714",
   "metadata": {},
   "outputs": [
    {
     "name": "stdout",
     "output_type": "stream",
     "text": [
      "Fail to reject null\n"
     ]
    }
   ],
   "source": [
    "alpha = .05\n",
    "\n",
    "if p <= alpha:\n",
    "    print('Reject null')\n",
    "else:\n",
    "    print('Fail to reject null')"
   ]
  },
  {
   "cell_type": "markdown",
   "id": "70e1f9cf",
   "metadata": {},
   "source": [
    "Takeaway: we failed to reject the null hypothesis, there is no signficant difference in fuel efficiency between cars made in 1999 and 2008."
   ]
  },
  {
   "cell_type": "markdown",
   "id": "594c9e12",
   "metadata": {},
   "source": [
    "- Are compact cars more fuel-efficient than the average car? one-sample test, 1-tail"
   ]
  },
  {
   "cell_type": "code",
   "execution_count": 43,
   "id": "d641ffe0",
   "metadata": {},
   "outputs": [
    {
     "data": {
      "text/plain": [
       "manufacturer    0\n",
       "model           0\n",
       "displ           0\n",
       "year            0\n",
       "cyl             0\n",
       "trans           0\n",
       "drv             0\n",
       "cty             0\n",
       "hwy             0\n",
       "fl              0\n",
       "class           0\n",
       "fuel_eff        0\n",
       "dtype: int64"
      ]
     },
     "execution_count": 43,
     "metadata": {},
     "output_type": "execute_result"
    }
   ],
   "source": [
    "mpg.isna().sum()\n",
    "mpg = mpg[~mpg.hwy.isna()]\n",
    "mpg.isna().sum()"
   ]
  },
  {
   "cell_type": "code",
   "execution_count": 44,
   "id": "57534562",
   "metadata": {},
   "outputs": [
    {
     "data": {
      "text/plain": [
       "suv           62\n",
       "compact       47\n",
       "midsize       41\n",
       "subcompact    35\n",
       "pickup        33\n",
       "minivan       11\n",
       "2seater        5\n",
       "Name: class, dtype: int64"
      ]
     },
     "execution_count": 44,
     "metadata": {},
     "output_type": "execute_result"
    }
   ],
   "source": [
    "mpg['class'].value_counts()"
   ]
  },
  {
   "cell_type": "code",
   "execution_count": 45,
   "id": "5c6d2080",
   "metadata": {},
   "outputs": [
    {
     "data": {
      "text/plain": [
       "<AxesSubplot:>"
      ]
     },
     "execution_count": 45,
     "metadata": {},
     "output_type": "execute_result"
    },
    {
     "data": {
      "image/png": "[encoded data removed]",
      "text/plain": [
       "<Figure size 640x480 with 1 Axes>"
      ]
     },
     "metadata": {},
     "output_type": "display_data"
    }
   ],
   "source": [
    "mpg[mpg['class'] != 'compact'].hwy.hist()\n",
    "mpg[mpg['class'] == 'compact'].hwy.hist()"
   ]
  },
  {
   "cell_type": "code",
   "execution_count": 46,
   "id": "60245908",
   "metadata": {},
   "outputs": [],
   "source": [
    "normal_car = mpg[mpg['class'] != 'compact'].hwy\n",
    "compact_car = mpg[mpg['class'] == 'compact'].hwy"
   ]
  },
  {
   "cell_type": "code",
   "execution_count": 47,
   "id": "538a362b",
   "metadata": {},
   "outputs": [
    {
     "data": {
      "text/plain": [
       "LeveneResult(statistic=20.48883757052893, pvalue=9.586415103710692e-06)"
      ]
     },
     "execution_count": 47,
     "metadata": {},
     "output_type": "execute_result"
    }
   ],
   "source": [
    "stats.levene(normal_car, compact_car)"
   ]
  },
  {
   "cell_type": "code",
   "execution_count": 48,
   "id": "0002a8c9",
   "metadata": {},
   "outputs": [
    {
     "name": "stdout",
     "output_type": "stream",
     "text": [
      "There is a significant difference between the fuel-efficiency of normal cars and compact cars\n"
     ]
    }
   ],
   "source": [
    "t, p = stats.ttest_ind(normal_car, compact_car, equal_var=False)\n",
    "\n",
    "if p < .05:\n",
    "    print('There is a significant difference between the fuel-efficiency of normal cars and compact cars')\n",
    "else:\n",
    "    print('We fail to find a signficant difference')"
   ]
  },
  {
   "cell_type": "markdown",
   "id": "fe04136a",
   "metadata": {},
   "source": [
    "null: compact cars are not more efficeint than the average car\n",
    "alternative: compact cars are more efficient than the average car"
   ]
  },
  {
   "cell_type": "code",
   "execution_count": 49,
   "id": "1d91e597",
   "metadata": {},
   "outputs": [],
   "source": [
    "compact_eff = mpg[mpg['class'] == 'compact']['fuel_eff']\n",
    "mean_eff = mpg['fuel_eff'].mean()\n"
   ]
  },
  {
   "cell_type": "code",
   "execution_count": 50,
   "id": "7d2e02c1",
   "metadata": {},
   "outputs": [
    {
     "data": {
      "text/plain": [
       "(7.896888573132533, 4.198563794317163e-10)"
      ]
     },
     "execution_count": 50,
     "metadata": {},
     "output_type": "execute_result"
    }
   ],
   "source": [
    "t3, p3 = stats.ttest_1samp(compact_eff, mean_eff)\n",
    "t3, p3"
   ]
  },
  {
   "cell_type": "code",
   "execution_count": 51,
   "id": "677c341f",
   "metadata": {},
   "outputs": [
    {
     "name": "stdout",
     "output_type": "stream",
     "text": [
      "Reject null\n"
     ]
    }
   ],
   "source": [
    "alpha = .05\n",
    "\n",
    "if t3 > 0 and p3/2 <= alpha:\n",
    "    print('Reject null')\n",
    "else:\n",
    "    print('Fail to reject null')"
   ]
  },
  {
   "cell_type": "markdown",
   "id": "9554c803",
   "metadata": {},
   "source": [
    "Takeaway: reject the null hypothesis, compact cars are significantly more efficient than the average car"
   ]
  },
  {
   "cell_type": "markdown",
   "id": "176a28f5",
   "metadata": {},
   "source": [
    "- Do manual cars get better gas mileage than automatic cars? Independent test, 1-tail"
   ]
  },
  {
   "cell_type": "code",
   "execution_count": 52,
   "id": "3056a0db",
   "metadata": {},
   "outputs": [
    {
     "data": {
      "text/plain": [
       "auto(l4)      83\n",
       "manual(m5)    58\n",
       "auto(l5)      39\n",
       "manual(m6)    19\n",
       "auto(s6)      16\n",
       "auto(l6)       6\n",
       "auto(av)       5\n",
       "auto(s5)       3\n",
       "auto(s4)       3\n",
       "auto(l3)       2\n",
       "Name: trans, dtype: int64"
      ]
     },
     "execution_count": 52,
     "metadata": {},
     "output_type": "execute_result"
    }
   ],
   "source": [
    "mpg.trans.value_counts()"
   ]
  },
  {
   "cell_type": "code",
   "execution_count": 53,
   "id": "7583bda3",
   "metadata": {},
   "outputs": [
    {
     "data": {
      "text/plain": [
       "<AxesSubplot:>"
      ]
     },
     "execution_count": 53,
     "metadata": {},
     "output_type": "execute_result"
    },
    {
     "data": {
      "image/png": "[encoded data removed]",
      "text/plain": [
       "<Figure size 640x480 with 1 Axes>"
      ]
     },
     "metadata": {},
     "output_type": "display_data"
    }
   ],
   "source": [
    "mpg[mpg['trans'].str.startswith('a')].hwy.hist()\n",
    "mpg[mpg['trans'].str.startswith('m')].hwy.hist()"
   ]
  },
  {
   "cell_type": "code",
   "execution_count": 54,
   "id": "4c117c88",
   "metadata": {},
   "outputs": [],
   "source": [
    "automatic = mpg[mpg['trans'].str.startswith('a')].hwy\n",
    "manual = mpg[mpg['trans'].str.startswith('m')].hwy"
   ]
  },
  {
   "cell_type": "code",
   "execution_count": 55,
   "id": "d3036e12",
   "metadata": {},
   "outputs": [
    {
     "data": {
      "text/plain": [
       "1    29\n",
       "4    30\n",
       "5    26\n",
       "7    27\n",
       "9    25\n",
       "Name: hwy, dtype: int64"
      ]
     },
     "execution_count": 55,
     "metadata": {},
     "output_type": "execute_result"
    }
   ],
   "source": [
    "automatic.head()"
   ]
  },
  {
   "cell_type": "code",
   "execution_count": 56,
   "id": "ffff47d8",
   "metadata": {},
   "outputs": [
    {
     "data": {
      "text/plain": [
       "LeveneResult(statistic=1.190286842268245, pvalue=0.2764034768395809)"
      ]
     },
     "execution_count": 56,
     "metadata": {},
     "output_type": "execute_result"
    }
   ],
   "source": [
    "stats.levene(automatic, manual)"
   ]
  },
  {
   "cell_type": "code",
   "execution_count": 57,
   "id": "dbe699dc",
   "metadata": {},
   "outputs": [
    {
     "name": "stdout",
     "output_type": "stream",
     "text": [
      "There is a significant difference between the fuel-efficiency of automatic and manual transmissions\n"
     ]
    }
   ],
   "source": [
    "t, p = stats.ttest_ind(automatic, manual, equal_var=False)\n",
    "\n",
    "if p < .05:\n",
    "    print('There is a significant difference between the fuel-efficiency of automatic and manual transmissions')\n",
    "else:\n",
    "    print('We fail to find a signficant difference')"
   ]
  },
  {
   "cell_type": "markdown",
   "id": "bad567c6",
   "metadata": {},
   "source": [
    "Null: manual cars are not more efficient than automatics\n",
    "Alternative: manual cars are more efficient than automatics"
   ]
  },
  {
   "cell_type": "code",
   "execution_count": 58,
   "id": "be68c579",
   "metadata": {},
   "outputs": [],
   "source": [
    "manual_eff = mpg[mpg['trans'].str.startswith('m')]['fuel_eff']\n",
    "auto_eff = mpg[mpg['trans'].str.startswith('a')]['fuel_eff']"
   ]
  },
  {
   "cell_type": "code",
   "execution_count": 59,
   "id": "11a9f85e",
   "metadata": {},
   "outputs": [
    {
     "data": {
      "text/plain": [
       "(26.635167464114826, 21.942777233382337)"
      ]
     },
     "execution_count": 59,
     "metadata": {},
     "output_type": "execute_result"
    }
   ],
   "source": [
    "manual_eff.var(), auto_eff.var()"
   ]
  },
  {
   "cell_type": "code",
   "execution_count": 60,
   "id": "12fd3c25",
   "metadata": {},
   "outputs": [
    {
     "data": {
      "text/plain": [
       "(4.443514012903072, 1.7952248999917893e-05)"
      ]
     },
     "execution_count": 60,
     "metadata": {},
     "output_type": "execute_result"
    }
   ],
   "source": [
    "t4, p4 = stats.ttest_ind(manual_eff, auto_eff, equal_var=False)\n",
    "t4, p4"
   ]
  },
  {
   "cell_type": "code",
   "execution_count": 61,
   "id": "65f456d2",
   "metadata": {},
   "outputs": [
    {
     "name": "stdout",
     "output_type": "stream",
     "text": [
      "Reject null\n"
     ]
    }
   ],
   "source": [
    "alpha = .05\n",
    "\n",
    "if t4 > 0 and p4/2 < alpha:\n",
    "    print('Reject null')\n",
    "else:\n",
    "    print('Fail to reject null')"
   ]
  },
  {
   "cell_type": "markdown",
   "id": "d4fb2d3f",
   "metadata": {},
   "source": [
    "Takeaway: manual cars are significantly more efficient than automatic cars"
   ]
  },
  {
   "cell_type": "markdown",
   "id": "5e1dbfd2",
   "metadata": {},
   "source": [
    "# Exercises - Correlation"
   ]
  },
  {
   "cell_type": "markdown",
   "id": "5d3833a7",
   "metadata": {},
   "source": [
    "ttest : var1 = cat./discreet, var2 = continuous\n",
    "ANOVA: var1 = cat./discreet, var2 = continous\n",
    "\n",
    "Above compares the means\n",
    "\n",
    "PearsonsR = var1 = continuous, var2 = continuous\n",
    "\n",
    "Above compares linear correlation"
   ]
  },
  {
   "cell_type": "markdown",
   "id": "fd4e09ff",
   "metadata": {},
   "source": [
    "1. Answer with the type of stats test you would use (assume normal distribution):\n",
    "\n",
    "- Is there a relationship between the length of your arm and the length of your foot?"
   ]
  },
  {
   "cell_type": "markdown",
   "id": "4202da23",
   "metadata": {},
   "source": [
    "A. Pearson's R or Pearmans"
   ]
  },
  {
   "cell_type": "markdown",
   "id": "a29880d1",
   "metadata": {},
   "source": [
    "- Do guys and gals quit their jobs at the same rate?"
   ]
  },
  {
   "cell_type": "markdown",
   "id": "9d8cb53f",
   "metadata": {},
   "source": [
    "A. Independent t-test, 2-tail"
   ]
  },
  {
   "cell_type": "markdown",
   "id": "6e672087",
   "metadata": {},
   "source": [
    "- Does the length of time of the lecture correlate with a students grade?"
   ]
  },
  {
   "cell_type": "markdown",
   "id": "fbd45f31",
   "metadata": {},
   "source": [
    "A. Pearson's R or Spearmans"
   ]
  },
  {
   "cell_type": "markdown",
   "id": "e79a6230",
   "metadata": {},
   "source": [
    "2. Use the telco_churn data"
   ]
  },
  {
   "cell_type": "code",
   "execution_count": 62,
   "id": "5fe7daab",
   "metadata": {},
   "outputs": [],
   "source": [
    "import pandas as pd\n",
    "import numpy as np\n",
    "import matplotlib.pyplot as plt\n",
    "import seaborn as sns\n",
    "\n",
    "from math import sqrt\n",
    "\n",
    "from scipy import stats\n",
    "from pydataset import data"
   ]
  },
  {
   "cell_type": "code",
   "execution_count": 63,
   "id": "aabdf16a",
   "metadata": {},
   "outputs": [
    {
     "data": {
      "text/html": [
       "<div>\n",
       "<style scoped>\n",
       "    .dataframe tbody tr th:only-of-type {\n",
       "        vertical-align: middle;\n",
       "    }\n",
       "\n",
       "    .dataframe tbody tr th {\n",
       "        vertical-align: top;\n",
       "    }\n",
       "\n",
       "    .dataframe thead th {\n",
       "        text-align: right;\n",
       "    }\n",
       "</style>\n",
       "<table border=\"1\" class=\"dataframe\">\n",
       "  <thead>\n",
       "    <tr style=\"text-align: right;\">\n",
       "      <th></th>\n",
       "      <th>customer_id</th>\n",
       "      <th>gender</th>\n",
       "      <th>senior_citizen</th>\n",
       "      <th>partner</th>\n",
       "      <th>dependents</th>\n",
       "      <th>tenure</th>\n",
       "      <th>phone_service</th>\n",
       "      <th>multiple_lines</th>\n",
       "      <th>internet_service_type_id</th>\n",
       "      <th>online_security</th>\n",
       "      <th>...</th>\n",
       "      <th>device_protection</th>\n",
       "      <th>tech_support</th>\n",
       "      <th>streaming_tv</th>\n",
       "      <th>streaming_movies</th>\n",
       "      <th>contract_type_id</th>\n",
       "      <th>paperless_billing</th>\n",
       "      <th>payment_type_id</th>\n",
       "      <th>monthly_charges</th>\n",
       "      <th>total_charges</th>\n",
       "      <th>churn</th>\n",
       "    </tr>\n",
       "  </thead>\n",
       "  <tbody>\n",
       "    <tr>\n",
       "      <th>0</th>\n",
       "      <td>0002-ORFBO</td>\n",
       "      <td>Female</td>\n",
       "      <td>0</td>\n",
       "      <td>Yes</td>\n",
       "      <td>Yes</td>\n",
       "      <td>9</td>\n",
       "      <td>Yes</td>\n",
       "      <td>No</td>\n",
       "      <td>1</td>\n",
       "      <td>No</td>\n",
       "      <td>...</td>\n",
       "      <td>No</td>\n",
       "      <td>Yes</td>\n",
       "      <td>Yes</td>\n",
       "      <td>No</td>\n",
       "      <td>2</td>\n",
       "      <td>Yes</td>\n",
       "      <td>2</td>\n",
       "      <td>65.60</td>\n",
       "      <td>593.3</td>\n",
       "      <td>No</td>\n",
       "    </tr>\n",
       "    <tr>\n",
       "      <th>1</th>\n",
       "      <td>0003-MKNFE</td>\n",
       "      <td>Male</td>\n",
       "      <td>0</td>\n",
       "      <td>No</td>\n",
       "      <td>No</td>\n",
       "      <td>9</td>\n",
       "      <td>Yes</td>\n",
       "      <td>Yes</td>\n",
       "      <td>1</td>\n",
       "      <td>No</td>\n",
       "      <td>...</td>\n",
       "      <td>No</td>\n",
       "      <td>No</td>\n",
       "      <td>No</td>\n",
       "      <td>Yes</td>\n",
       "      <td>1</td>\n",
       "      <td>No</td>\n",
       "      <td>2</td>\n",
       "      <td>59.90</td>\n",
       "      <td>542.4</td>\n",
       "      <td>No</td>\n",
       "    </tr>\n",
       "    <tr>\n",
       "      <th>2</th>\n",
       "      <td>0004-TLHLJ</td>\n",
       "      <td>Male</td>\n",
       "      <td>0</td>\n",
       "      <td>No</td>\n",
       "      <td>No</td>\n",
       "      <td>4</td>\n",
       "      <td>Yes</td>\n",
       "      <td>No</td>\n",
       "      <td>2</td>\n",
       "      <td>No</td>\n",
       "      <td>...</td>\n",
       "      <td>Yes</td>\n",
       "      <td>No</td>\n",
       "      <td>No</td>\n",
       "      <td>No</td>\n",
       "      <td>1</td>\n",
       "      <td>Yes</td>\n",
       "      <td>1</td>\n",
       "      <td>73.90</td>\n",
       "      <td>280.85</td>\n",
       "      <td>Yes</td>\n",
       "    </tr>\n",
       "    <tr>\n",
       "      <th>3</th>\n",
       "      <td>0011-IGKFF</td>\n",
       "      <td>Male</td>\n",
       "      <td>1</td>\n",
       "      <td>Yes</td>\n",
       "      <td>No</td>\n",
       "      <td>13</td>\n",
       "      <td>Yes</td>\n",
       "      <td>No</td>\n",
       "      <td>2</td>\n",
       "      <td>No</td>\n",
       "      <td>...</td>\n",
       "      <td>Yes</td>\n",
       "      <td>No</td>\n",
       "      <td>Yes</td>\n",
       "      <td>Yes</td>\n",
       "      <td>1</td>\n",
       "      <td>Yes</td>\n",
       "      <td>1</td>\n",
       "      <td>98.00</td>\n",
       "      <td>1237.85</td>\n",
       "      <td>Yes</td>\n",
       "    </tr>\n",
       "    <tr>\n",
       "      <th>4</th>\n",
       "      <td>0013-EXCHZ</td>\n",
       "      <td>Female</td>\n",
       "      <td>1</td>\n",
       "      <td>Yes</td>\n",
       "      <td>No</td>\n",
       "      <td>3</td>\n",
       "      <td>Yes</td>\n",
       "      <td>No</td>\n",
       "      <td>2</td>\n",
       "      <td>No</td>\n",
       "      <td>...</td>\n",
       "      <td>No</td>\n",
       "      <td>Yes</td>\n",
       "      <td>Yes</td>\n",
       "      <td>No</td>\n",
       "      <td>1</td>\n",
       "      <td>Yes</td>\n",
       "      <td>2</td>\n",
       "      <td>83.90</td>\n",
       "      <td>267.4</td>\n",
       "      <td>Yes</td>\n",
       "    </tr>\n",
       "    <tr>\n",
       "      <th>...</th>\n",
       "      <td>...</td>\n",
       "      <td>...</td>\n",
       "      <td>...</td>\n",
       "      <td>...</td>\n",
       "      <td>...</td>\n",
       "      <td>...</td>\n",
       "      <td>...</td>\n",
       "      <td>...</td>\n",
       "      <td>...</td>\n",
       "      <td>...</td>\n",
       "      <td>...</td>\n",
       "      <td>...</td>\n",
       "      <td>...</td>\n",
       "      <td>...</td>\n",
       "      <td>...</td>\n",
       "      <td>...</td>\n",
       "      <td>...</td>\n",
       "      <td>...</td>\n",
       "      <td>...</td>\n",
       "      <td>...</td>\n",
       "      <td>...</td>\n",
       "    </tr>\n",
       "    <tr>\n",
       "      <th>7038</th>\n",
       "      <td>9987-LUTYD</td>\n",
       "      <td>Female</td>\n",
       "      <td>0</td>\n",
       "      <td>No</td>\n",
       "      <td>No</td>\n",
       "      <td>13</td>\n",
       "      <td>Yes</td>\n",
       "      <td>No</td>\n",
       "      <td>1</td>\n",
       "      <td>Yes</td>\n",
       "      <td>...</td>\n",
       "      <td>No</td>\n",
       "      <td>Yes</td>\n",
       "      <td>No</td>\n",
       "      <td>No</td>\n",
       "      <td>2</td>\n",
       "      <td>No</td>\n",
       "      <td>2</td>\n",
       "      <td>55.15</td>\n",
       "      <td>742.9</td>\n",
       "      <td>No</td>\n",
       "    </tr>\n",
       "    <tr>\n",
       "      <th>7039</th>\n",
       "      <td>9992-RRAMN</td>\n",
       "      <td>Male</td>\n",
       "      <td>0</td>\n",
       "      <td>Yes</td>\n",
       "      <td>No</td>\n",
       "      <td>22</td>\n",
       "      <td>Yes</td>\n",
       "      <td>Yes</td>\n",
       "      <td>2</td>\n",
       "      <td>No</td>\n",
       "      <td>...</td>\n",
       "      <td>No</td>\n",
       "      <td>No</td>\n",
       "      <td>No</td>\n",
       "      <td>Yes</td>\n",
       "      <td>1</td>\n",
       "      <td>Yes</td>\n",
       "      <td>1</td>\n",
       "      <td>85.10</td>\n",
       "      <td>1873.7</td>\n",
       "      <td>Yes</td>\n",
       "    </tr>\n",
       "    <tr>\n",
       "      <th>7040</th>\n",
       "      <td>9992-UJOEL</td>\n",
       "      <td>Male</td>\n",
       "      <td>0</td>\n",
       "      <td>No</td>\n",
       "      <td>No</td>\n",
       "      <td>2</td>\n",
       "      <td>Yes</td>\n",
       "      <td>No</td>\n",
       "      <td>1</td>\n",
       "      <td>No</td>\n",
       "      <td>...</td>\n",
       "      <td>No</td>\n",
       "      <td>No</td>\n",
       "      <td>No</td>\n",
       "      <td>No</td>\n",
       "      <td>1</td>\n",
       "      <td>Yes</td>\n",
       "      <td>2</td>\n",
       "      <td>50.30</td>\n",
       "      <td>92.75</td>\n",
       "      <td>No</td>\n",
       "    </tr>\n",
       "    <tr>\n",
       "      <th>7041</th>\n",
       "      <td>9993-LHIEB</td>\n",
       "      <td>Male</td>\n",
       "      <td>0</td>\n",
       "      <td>Yes</td>\n",
       "      <td>Yes</td>\n",
       "      <td>67</td>\n",
       "      <td>Yes</td>\n",
       "      <td>No</td>\n",
       "      <td>1</td>\n",
       "      <td>Yes</td>\n",
       "      <td>...</td>\n",
       "      <td>Yes</td>\n",
       "      <td>Yes</td>\n",
       "      <td>No</td>\n",
       "      <td>Yes</td>\n",
       "      <td>3</td>\n",
       "      <td>No</td>\n",
       "      <td>2</td>\n",
       "      <td>67.85</td>\n",
       "      <td>4627.65</td>\n",
       "      <td>No</td>\n",
       "    </tr>\n",
       "    <tr>\n",
       "      <th>7042</th>\n",
       "      <td>9995-HOTOH</td>\n",
       "      <td>Male</td>\n",
       "      <td>0</td>\n",
       "      <td>Yes</td>\n",
       "      <td>Yes</td>\n",
       "      <td>63</td>\n",
       "      <td>No</td>\n",
       "      <td>No phone service</td>\n",
       "      <td>1</td>\n",
       "      <td>Yes</td>\n",
       "      <td>...</td>\n",
       "      <td>Yes</td>\n",
       "      <td>No</td>\n",
       "      <td>Yes</td>\n",
       "      <td>Yes</td>\n",
       "      <td>3</td>\n",
       "      <td>No</td>\n",
       "      <td>1</td>\n",
       "      <td>59.00</td>\n",
       "      <td>3707.6</td>\n",
       "      <td>No</td>\n",
       "    </tr>\n",
       "  </tbody>\n",
       "</table>\n",
       "<p>7043 rows × 21 columns</p>\n",
       "</div>"
      ],
      "text/plain": [
       "     customer_id  gender  senior_citizen partner dependents  tenure  \\\n",
       "0     0002-ORFBO  Female               0     Yes        Yes       9   \n",
       "1     0003-MKNFE    Male               0      No         No       9   \n",
       "2     0004-TLHLJ    Male               0      No         No       4   \n",
       "3     0011-IGKFF    Male               1     Yes         No      13   \n",
       "4     0013-EXCHZ  Female               1     Yes         No       3   \n",
       "...          ...     ...             ...     ...        ...     ...   \n",
       "7038  9987-LUTYD  Female               0      No         No      13   \n",
       "7039  9992-RRAMN    Male               0     Yes         No      22   \n",
       "7040  9992-UJOEL    Male               0      No         No       2   \n",
       "7041  9993-LHIEB    Male               0     Yes        Yes      67   \n",
       "7042  9995-HOTOH    Male               0     Yes        Yes      63   \n",
       "\n",
       "     phone_service    multiple_lines  internet_service_type_id  \\\n",
       "0              Yes                No                         1   \n",
       "1              Yes               Yes                         1   \n",
       "2              Yes                No                         2   \n",
       "3              Yes                No                         2   \n",
       "4              Yes                No                         2   \n",
       "...            ...               ...                       ...   \n",
       "7038           Yes                No                         1   \n",
       "7039           Yes               Yes                         2   \n",
       "7040           Yes                No                         1   \n",
       "7041           Yes                No                         1   \n",
       "7042            No  No phone service                         1   \n",
       "\n",
       "     online_security  ... device_protection tech_support streaming_tv  \\\n",
       "0                 No  ...                No          Yes          Yes   \n",
       "1                 No  ...                No           No           No   \n",
       "2                 No  ...               Yes           No           No   \n",
       "3                 No  ...               Yes           No          Yes   \n",
       "4                 No  ...                No          Yes          Yes   \n",
       "...              ...  ...               ...          ...          ...   \n",
       "7038             Yes  ...                No          Yes           No   \n",
       "7039              No  ...                No           No           No   \n",
       "7040              No  ...                No           No           No   \n",
       "7041             Yes  ...               Yes          Yes           No   \n",
       "7042             Yes  ...               Yes           No          Yes   \n",
       "\n",
       "     streaming_movies contract_type_id  paperless_billing payment_type_id  \\\n",
       "0                  No                2                Yes               2   \n",
       "1                 Yes                1                 No               2   \n",
       "2                  No                1                Yes               1   \n",
       "3                 Yes                1                Yes               1   \n",
       "4                  No                1                Yes               2   \n",
       "...               ...              ...                ...             ...   \n",
       "7038               No                2                 No               2   \n",
       "7039              Yes                1                Yes               1   \n",
       "7040               No                1                Yes               2   \n",
       "7041              Yes                3                 No               2   \n",
       "7042              Yes                3                 No               1   \n",
       "\n",
       "      monthly_charges  total_charges churn  \n",
       "0               65.60          593.3    No  \n",
       "1               59.90          542.4    No  \n",
       "2               73.90         280.85   Yes  \n",
       "3               98.00        1237.85   Yes  \n",
       "4               83.90          267.4   Yes  \n",
       "...               ...            ...   ...  \n",
       "7038            55.15          742.9    No  \n",
       "7039            85.10         1873.7   Yes  \n",
       "7040            50.30          92.75    No  \n",
       "7041            67.85        4627.65    No  \n",
       "7042            59.00         3707.6    No  \n",
       "\n",
       "[7043 rows x 21 columns]"
      ]
     },
     "execution_count": 63,
     "metadata": {},
     "output_type": "execute_result"
    }
   ],
   "source": [
    "db_url = f'mysql+pymysql://{env.user}:{env.password}@{env.host}/telco_churn'\n",
    "df = pd.read_sql('SELECT * FROM customers', db_url)  \n",
    "df"
   ]
  },
  {
   "cell_type": "markdown",
   "id": "b588121f",
   "metadata": {},
   "source": [
    "- Does tenure correlate with monthly charges?"
   ]
  },
  {
   "cell_type": "code",
   "execution_count": 64,
   "id": "db41ac0c",
   "metadata": {},
   "outputs": [
    {
     "data": {
      "image/png": "[encoded data removed]",
      "text/plain": [
       "<Figure size 640x480 with 1 Axes>"
      ]
     },
     "metadata": {},
     "output_type": "display_data"
    }
   ],
   "source": [
    "r, p = stats.pearsonr(df.tenure, df.monthly_charges)\n",
    "\n",
    "\n",
    "df.plot.scatter('tenure', 'monthly_charges')\n",
    "\n",
    "\n",
    "plt.title('tenure vs monthly_charges')\n",
    "\n",
    "\n",
    "plt.text(8, 80, f'r = {r:.3f}')\n",
    "\n",
    "plt.show()"
   ]
  },
  {
   "cell_type": "code",
   "execution_count": 65,
   "id": "ee20241a",
   "metadata": {},
   "outputs": [
    {
     "name": "stdout",
     "output_type": "stream",
     "text": [
      "Correlation between tenure and monthly_charges\n",
      "  r = 0.248\n"
     ]
    }
   ],
   "source": [
    "\n",
    "\n",
    "r_tenure_monthly_charges, _ = stats.pearsonr(df.tenure, df.monthly_charges)\n",
    "\n",
    "\n",
    "\n",
    "print('Correlation between tenure and monthly_charges')\n",
    "print(f'  r = {r_tenure_monthly_charges:.3f}')\n",
    "\n",
    "\n"
   ]
  },
  {
   "cell_type": "markdown",
   "id": "db0c5960",
   "metadata": {},
   "source": [
    "1. state our hypothesis, set our alpha value\n",
    "2. select the data\n",
    "3. plot the data\n",
    "4. test for assumptions (normal distribution for correlation) \n",
    "5. run test\n",
    "6. draw conclusions\n"
   ]
  },
  {
   "cell_type": "markdown",
   "id": "e49d2dbf",
   "metadata": {},
   "source": [
    "Hypothesis:\n",
    "    \n",
    "H_0: there is no linear correlation between tenure and monthly charges.\n",
    "H_a: there is a lnear correlation between tenure and monthly charges."
   ]
  },
  {
   "cell_type": "code",
   "execution_count": 66,
   "id": "f8013944",
   "metadata": {},
   "outputs": [
    {
     "data": {
      "text/plain": [
       "<AxesSubplot:xlabel='tenure', ylabel='monthly_charges'>"
      ]
     },
     "execution_count": 66,
     "metadata": {},
     "output_type": "execute_result"
    },
    {
     "data": {
      "image/png": "[encoded data removed]",
      "text/plain": [
       "<Figure size 640x480 with 1 Axes>"
      ]
     },
     "metadata": {},
     "output_type": "display_data"
    }
   ],
   "source": [
    "charges_df = df[['monthly_charges', 'tenure']]\n",
    "charges_df\n",
    "\n",
    "# Plot the datat\n",
    "sns.regplot(x='tenure', y='monthly_charges', data=charges_df, marker='.', line_kws={'color': 'rebeccapurple'})\n"
   ]
  },
  {
   "cell_type": "code",
   "execution_count": 67,
   "id": "3af3f3c7",
   "metadata": {},
   "outputs": [
    {
     "data": {
      "text/plain": [
       "<AxesSubplot:>"
      ]
     },
     "execution_count": 67,
     "metadata": {},
     "output_type": "execute_result"
    },
    {
     "data": {
      "image/png": "[encoded data removed]",
      "text/plain": [
       "<Figure size 640x480 with 1 Axes>"
      ]
     },
     "metadata": {},
     "output_type": "display_data"
    }
   ],
   "source": [
    "# distributions of the data to check for normalcy\n",
    "charges_df.monthly_charges.hist()\n",
    "charges_df.tenure.hist()"
   ]
  },
  {
   "cell_type": "markdown",
   "id": "f678230a",
   "metadata": {},
   "source": [
    "These distributions are not normal, so we will use a Spearmans test."
   ]
  },
  {
   "cell_type": "code",
   "execution_count": 68,
   "id": "ed5f99bf",
   "metadata": {},
   "outputs": [],
   "source": [
    "alpha = .05\n",
    "r, p = stats.spearmanr(charges_df.tenure, charges_df.monthly_charges)\n",
    "\n",
    "def eval_result(alpha, p): # use a function so that you do not have to keep copying and pasting the if loop\n",
    "    \n",
    "    if p < alpha: # test the hypothesis for rejecting or accepting the null hypothesis\n",
    "        return print(f'reject the null hypothesis. there is a linear correlation. (p-value: {p})')\n",
    "    else:\n",
    "        return print(f'we fail to reject the null hypothesis that there is a linear correlation between monthly charges and tenure. (p-vlaue: {p})')"
   ]
  },
  {
   "cell_type": "code",
   "execution_count": 69,
   "id": "d2c2ee63",
   "metadata": {},
   "outputs": [
    {
     "name": "stdout",
     "output_type": "stream",
     "text": [
      "reject the null hypothesis. there is a linear correlation. (p-value: 1.0271266876409408e-123)\n"
     ]
    }
   ],
   "source": [
    "eval_result(alpha, p) # we call on our function to show the results"
   ]
  },
  {
   "cell_type": "markdown",
   "id": "4cb5a887",
   "metadata": {},
   "source": [
    "**Takeaways**\n",
    "\n",
    "There is a correlation between monthly charges and tenure.\n",
    "With a r of .28, we can say the correlation is weak to moderate # The lower the r value the less evidence to support the correlation between the two variables. The closer the value is to 1, the stronger the correlation."
   ]
  },
  {
   "cell_type": "markdown",
   "id": "8777ede4",
   "metadata": {},
   "source": [
    "- Total charges?"
   ]
  },
  {
   "cell_type": "markdown",
   "id": "547a73e7",
   "metadata": {},
   "source": [
    "1. state our hypothesis, set our alpha value\n",
    "2. select the data, check for nulls through .info()\n",
    "3. plot the data\n",
    "4. test for assumptions (normal distribution for correlation) \n",
    "5. run test\n",
    "6. draw conclusions\n",
    "\n",
    "Hypothesis:\n",
    "    \n",
    "H_0: There is no linear correlation between tenure and total charges.  \n",
    "H_a: There is a linear correlation between tenure and total charges.\n",
    "\n"
   ]
  },
  {
   "cell_type": "code",
   "execution_count": 70,
   "id": "dc5fff85",
   "metadata": {},
   "outputs": [
    {
     "name": "stdout",
     "output_type": "stream",
     "text": [
      "<class 'pandas.core.frame.DataFrame'>\n",
      "RangeIndex: 7043 entries, 0 to 7042\n",
      "Data columns (total 2 columns):\n",
      " #   Column         Non-Null Count  Dtype  \n",
      "---  ------         --------------  -----  \n",
      " 0   tenure         7043 non-null   int64  \n",
      " 1   total_charges  7043 non-null   float64\n",
      "dtypes: float64(1), int64(1)\n",
      "memory usage: 110.2 KB\n"
     ]
    },
    {
     "name": "stderr",
     "output_type": "stream",
     "text": [
      "/var/folders/2g/_40bymd11_x47n42bls8ypmr0000gn/T/ipykernel_848/3041904605.py:13: SettingWithCopyWarning: \n",
      "A value is trying to be set on a copy of a slice from a DataFrame.\n",
      "Try using .loc[row_indexer,col_indexer] = value instead\n",
      "\n",
      "See the caveats in the documentation: https://pandas.pydata.org/pandas-docs/stable/user_guide/indexing.html#returning-a-view-versus-a-copy\n",
      "  ttl_charges_df['total_charges'] = ttl_charges_df['total_charges'].str.replace(' ', '0').astype('float')\n"
     ]
    }
   ],
   "source": [
    "alpha = .05\n",
    "\n",
    "# select the data\n",
    "ttl_charges_df = df[['tenure', 'total_charges']]\n",
    "\n",
    "# look at a summary of the dataframe\n",
    "#ttl_charges_df.info()\n",
    "\n",
    "# try to find the data errors\n",
    "ttl_charges_df.total_charges.sort_values()\n",
    "\n",
    "# convert the empty space to '0' by replacing the spaces with a '0' we eliminate the null and then turn the string to a float using the .astype method.\n",
    "ttl_charges_df['total_charges'] = ttl_charges_df['total_charges'].str.replace(' ', '0').astype('float')\n",
    "\n",
    "# confirm our datatypes\n",
    "ttl_charges_df.info()"
   ]
  },
  {
   "cell_type": "code",
   "execution_count": 45,
   "id": "6caa1810",
   "metadata": {},
   "outputs": [
    {
     "data": {
      "text/plain": [
       "<AxesSubplot:xlabel='tenure', ylabel='total_charges'>"
      ]
     },
     "execution_count": 45,
     "metadata": {},
     "output_type": "execute_result"
    },
    {
     "data": {
      "image/png": "[encoded data removed]",
      "text/plain": [
       "<Figure size 640x480 with 1 Axes>"
      ]
     },
     "metadata": {},
     "output_type": "display_data"
    }
   ],
   "source": [
    "# plot the data\n",
    "sns.regplot(x='tenure', y='total_charges', data = ttl_charges_df, marker='.', line_kws = {'color': 'rebeccapurple'})"
   ]
  },
  {
   "cell_type": "code",
   "execution_count": 71,
   "id": "43f2c77d",
   "metadata": {},
   "outputs": [
    {
     "data": {
      "image/png": "[encoded data removed]",
      "text/plain": [
       "<Figure size 640x480 with 1 Axes>"
      ]
     },
     "metadata": {},
     "output_type": "display_data"
    },
    {
     "data": {
      "text/plain": [
       "<function matplotlib.pyplot.show(close=None, block=None)>"
      ]
     },
     "execution_count": 71,
     "metadata": {},
     "output_type": "execute_result"
    },
    {
     "data": {
      "image/png": "[encoded data removed]",
      "text/plain": [
       "<Figure size 640x480 with 1 Axes>"
      ]
     },
     "metadata": {},
     "output_type": "display_data"
    }
   ],
   "source": [
    "# check assumptions\n",
    "ttl_charges_df.total_charges.hist()\n",
    "plt.show()\n",
    "ttl_charges_df.tenure.hist()\n",
    "plt.show"
   ]
  },
  {
   "cell_type": "markdown",
   "id": "35c4f036",
   "metadata": {},
   "source": [
    "Because these are not normally distributed, we will use a speaman's test."
   ]
  },
  {
   "cell_type": "code",
   "execution_count": 72,
   "id": "a5a712a9",
   "metadata": {},
   "outputs": [
    {
     "name": "stdout",
     "output_type": "stream",
     "text": [
      "reject the null hypothesis. there is a linear correlation. (p-value: 0.0)\n"
     ]
    },
    {
     "data": {
      "text/plain": [
       "0.8896957900597577"
      ]
     },
     "execution_count": 72,
     "metadata": {},
     "output_type": "execute_result"
    }
   ],
   "source": [
    "# run our test\n",
    "r, p = stats.spearmanr(ttl_charges_df.tenure, ttl_charges_df.total_charges)\n",
    "eval_result(alpha, p)\n",
    "r"
   ]
  },
  {
   "cell_type": "markdown",
   "id": "4b1a6645",
   "metadata": {},
   "source": [
    "**Takeaway**\n",
    "\n",
    "There is a linear correlation between tenure and total charges.  \n",
    "With a r of .89, we can say the correlation is strong."
   ]
  },
  {
   "cell_type": "markdown",
   "id": "16ae204b",
   "metadata": {},
   "source": [
    "- What happens if you control for phone and internet service?"
   ]
  },
  {
   "cell_type": "markdown",
   "id": "0ef79702",
   "metadata": {},
   "source": [
    "Let's look at customers who have phone service and no internet."
   ]
  },
  {
   "cell_type": "markdown",
   "id": "34dc79e9",
   "metadata": {},
   "source": [
    "1. state our hypothesis, set our alpha value\n",
    "2. select the data, check for nulls run a .info()\n",
    "3. plot the data\n",
    "4. test for assumptions (normal distribution for correlation) \n",
    "5. run test\n",
    "6. draw conclusions\n",
    "\n",
    "Of customers who have only phone service:\n",
    "H_0: there is no linear correlation between tenure and montly charges.\n",
    "H_a: there is a linear correlation between tenure and montly charges."
   ]
  },
  {
   "cell_type": "code",
   "execution_count": 73,
   "id": "940a9bbf",
   "metadata": {},
   "outputs": [
    {
     "name": "stdout",
     "output_type": "stream",
     "text": [
      "<class 'pandas.core.frame.DataFrame'>\n",
      "Int64Index: 1739 entries, 0 to 7041\n",
      "Data columns (total 2 columns):\n",
      " #   Column           Non-Null Count  Dtype  \n",
      "---  ------           --------------  -----  \n",
      " 0   tenure           1739 non-null   int64  \n",
      " 1   monthly_charges  1739 non-null   float64\n",
      "dtypes: float64(1), int64(1)\n",
      "memory usage: 40.8 KB\n"
     ]
    },
    {
     "data": {
      "image/png": "[encoded data removed]",
      "text/plain": [
       "<Figure size 640x480 with 1 Axes>"
      ]
     },
     "metadata": {},
     "output_type": "display_data"
    },
    {
     "data": {
      "image/png": "[encoded data removed]",
      "text/plain": [
       "<Figure size 640x480 with 1 Axes>"
      ]
     },
     "metadata": {},
     "output_type": "display_data"
    }
   ],
   "source": [
    "# set alhpa\n",
    "alpha = .05\n",
    "\n",
    "#select the data where the column phone_service says \"yes\" and where the column internet_service_type_id is a one.\n",
    "phone_df = df[(df.phone_service == 'Yes') & (df.internet_service_type_id == 1)][['tenure', 'monthly_charges']]\n",
    "\n",
    "# look at info\n",
    "phone_df.info()\n",
    "\n",
    "# plot the data\n",
    "sns.regplot(x='tenure', y='monthly_charges', data=phone_df, marker='.', line_kws={'color': 'rebeccapurple'})\n",
    "\n",
    "# check for normal distribution\n",
    "phone_df.tenure.hist()\n",
    "plt.show()\n",
    "phone_df.monthly_charges.hist()\n",
    "plt.show()"
   ]
  },
  {
   "cell_type": "markdown",
   "id": "eeb0ac04",
   "metadata": {},
   "source": [
    "We will use Spearmans tst due to violation of assumption of normality."
   ]
  },
  {
   "cell_type": "code",
   "execution_count": 74,
   "id": "012679d9",
   "metadata": {},
   "outputs": [
    {
     "name": "stdout",
     "output_type": "stream",
     "text": [
      "reject the null hypothesis. there is a linear correlation. (p-value: 5.423601644635052e-222)\n",
      "r value = 0.6644708508462759\n"
     ]
    }
   ],
   "source": [
    "r, p = stats.spearmanr(phone_df.tenure, phone_df.monthly_charges) # running the spearman test to check for the r and p values and the strength of the correlation.\n",
    "eval_result(alpha, p)\n",
    "print(f'r value = {r}')"
   ]
  },
  {
   "cell_type": "markdown",
   "id": "fe7ccf3b",
   "metadata": {},
   "source": [
    "**Takeaways**\n",
    "There is a moderage-strong correlation beween tenure and monthly charges for customers who\n",
    "have only phone service."
   ]
  },
  {
   "cell_type": "markdown",
   "id": "f7185f12",
   "metadata": {},
   "source": [
    "3. Use the employees database"
   ]
  },
  {
   "cell_type": "code",
   "execution_count": 75,
   "id": "5a3b3725",
   "metadata": {},
   "outputs": [
    {
     "ename": "NameError",
     "evalue": "name 'get_db_url' is not defined",
     "output_type": "error",
     "traceback": [
      "\u001b[0;31m---------------------------------------------------------------------------\u001b[0m",
      "\u001b[0;31mNameError\u001b[0m                                 Traceback (most recent call last)",
      "\u001b[0;32m/var/folders/2g/_40bymd11_x47n42bls8ypmr0000gn/T/ipykernel_848/2811038387.py\u001b[0m in \u001b[0;36m<module>\u001b[0;34m\u001b[0m\n\u001b[0;32m----> 1\u001b[0;31m \u001b[0murl\u001b[0m \u001b[0;34m=\u001b[0m \u001b[0mget_db_url\u001b[0m\u001b[0;34m(\u001b[0m\u001b[0menv\u001b[0m\u001b[0;34m.\u001b[0m\u001b[0muser\u001b[0m\u001b[0;34m,\u001b[0m \u001b[0menv\u001b[0m\u001b[0;34m.\u001b[0m\u001b[0mpassword\u001b[0m\u001b[0;34m,\u001b[0m \u001b[0menv\u001b[0m\u001b[0;34m.\u001b[0m\u001b[0mhost\u001b[0m\u001b[0;34m,\u001b[0m \u001b[0mdb\u001b[0m\u001b[0;34m=\u001b[0m\u001b[0;34m'employees'\u001b[0m\u001b[0;34m)\u001b[0m \u001b[0;31m# run a sql querry joining the salaries table to the employees table to retrieve the from and to date columns along with the salaries.\u001b[0m\u001b[0;34m\u001b[0m\u001b[0;34m\u001b[0m\u001b[0m\n\u001b[0m\u001b[1;32m      2\u001b[0m \u001b[0;34m\u001b[0m\u001b[0m\n\u001b[1;32m      3\u001b[0m query = '''\n\u001b[1;32m      4\u001b[0m \u001b[0mSELECT\u001b[0m \u001b[0;34m*\u001b[0m\u001b[0;34m\u001b[0m\u001b[0;34m\u001b[0m\u001b[0m\n\u001b[1;32m      5\u001b[0m \u001b[0mFROM\u001b[0m \u001b[0memployees\u001b[0m\u001b[0;34m\u001b[0m\u001b[0;34m\u001b[0m\u001b[0m\n",
      "\u001b[0;31mNameError\u001b[0m: name 'get_db_url' is not defined"
     ]
    }
   ],
   "source": [
    "url = get_db_url(env.user, env.password, env.host, db='employees') # run a sql querry joining the salaries table to the employees table to retrieve the from and to date columns along with the salaries.\n",
    "\n",
    "query = '''\n",
    "SELECT * \n",
    "FROM employees\n",
    "JOIN salaries USING (emp_no)\n",
    "WHERE to_date = '9999-01-01';\n",
    "'''\n",
    "\n",
    "df = pd.read_sql(query, url)\n",
    "df.head()"
   ]
  },
  {
   "cell_type": "markdown",
   "id": "3149225c",
   "metadata": {},
   "source": [
    "- Is there a relationship between how long an employee has been with the company and their salary?"
   ]
  },
  {
   "cell_type": "markdown",
   "id": "58b63914",
   "metadata": {},
   "source": [
    "1. state our hypothesis, set our alpha value\n",
    "2. select the data, check for nulls run a .info()\n",
    "3. plot the data\n",
    "4. test for assumptions (normal distribution for correlation) \n",
    "5. run test\n",
    "6. draw conclusions\n",
    "\n",
    "Is there a relationship between an employee's tenure and their salary?\n",
    "\n",
    "H_0: there is no linear correlation bertween employee tenure and salary.\n",
    "H_a: there is a linear correlation between employee tenure and salary"
   ]
  },
  {
   "cell_type": "code",
   "execution_count": 80,
   "id": "03d154f4",
   "metadata": {},
   "outputs": [
    {
     "data": {
      "text/plain": [
       "<AxesSubplot:xlabel='tenure', ylabel='salary'>"
      ]
     },
     "execution_count": 80,
     "metadata": {},
     "output_type": "execute_result"
    },
    {
     "data": {
      "image/png": "[encoded data removed]",
      "text/plain": [
       "<Figure size 640x480 with 1 Axes>"
      ]
     },
     "metadata": {},
     "output_type": "display_data"
    }
   ],
   "source": [
    "alpha = .05\n",
    "\n",
    "# select our data, calulate tenure\n",
    "df['tenure'] = pd.to_datetime('today') - pd.to_datetime(df.hire_date)\n",
    "df['tenure'] = df.tenure.astype('str').str.split(' ', expand=True)[0].astype('int')\n",
    "#df.info()\n",
    "tenure_df = df[['tenure', 'salary']]\n",
    "\n",
    "# plot the data\n",
    "sns.regplot(x='tenure', y='salary', data = tenure_df, marker='.', line_kws=({'color': 'firebrick'}))"
   ]
  },
  {
   "cell_type": "code",
   "execution_count": 82,
   "id": "0ea3c6f6",
   "metadata": {},
   "outputs": [
    {
     "data": {
      "text/plain": [
       "<function matplotlib.pyplot.show(close=None, block=None)>"
      ]
     },
     "execution_count": 82,
     "metadata": {},
     "output_type": "execute_result"
    },
    {
     "data": {
      "image/png": "[encoded data removed]",
      "text/plain": [
       "<Figure size 640x480 with 1 Axes>"
      ]
     },
     "metadata": {},
     "output_type": "display_data"
    }
   ],
   "source": [
    "# look at the distribution, look for normality\n",
    "\n",
    "tenure_df.tenure.hist()\n",
    "plt.show\n",
    "tenure_df.salary.hist()\n",
    "plt.show"
   ]
  },
  {
   "cell_type": "markdown",
   "id": "49dcc768",
   "metadata": {},
   "source": [
    "Distributions are not normal, so we will use spearmans test."
   ]
  },
  {
   "cell_type": "code",
   "execution_count": 83,
   "id": "27a95b91",
   "metadata": {},
   "outputs": [
    {
     "name": "stdout",
     "output_type": "stream",
     "text": [
      "reject the null hypothesis. there is a linear correlation. (p-value: 0.0)\n",
      "r value 0.3128783525010577\n"
     ]
    }
   ],
   "source": [
    "# run the test\n",
    "r, p = stats.spearmanr(tenure_df.tenure, tenure_df.salary)\n",
    "\n",
    "# evaluate results\n",
    "eval_result(alpha, p)\n",
    "print('r value', r)"
   ]
  },
  {
   "cell_type": "markdown",
   "id": "6e8b4674",
   "metadata": {},
   "source": [
    "**takeaways**\n",
    "\n",
    "There is moderate correlation between tenure and salary."
   ]
  },
  {
   "cell_type": "markdown",
   "id": "79183618",
   "metadata": {},
   "source": [
    "- Is there a relationship between how long an employee has been with the company and the number of titles they have had?"
   ]
  },
  {
   "cell_type": "markdown",
   "id": "7c30b30f",
   "metadata": {},
   "source": [
    "H_0: there is no linear correlation between tenure and number of titles.\n",
    "H_a: there is a linear correlation between tenure and number of titles."
   ]
  },
  {
   "cell_type": "code",
   "execution_count": 77,
   "id": "52a0001f",
   "metadata": {},
   "outputs": [
    {
     "ename": "NameError",
     "evalue": "name 'get_db_url' is not defined",
     "output_type": "error",
     "traceback": [
      "\u001b[0;31m---------------------------------------------------------------------------\u001b[0m",
      "\u001b[0;31mNameError\u001b[0m                                 Traceback (most recent call last)",
      "\u001b[0;32m/var/folders/2g/_40bymd11_x47n42bls8ypmr0000gn/T/ipykernel_848/1936263301.py\u001b[0m in \u001b[0;36m<module>\u001b[0;34m\u001b[0m\n\u001b[1;32m      3\u001b[0m \u001b[0;31m# select the data\u001b[0m\u001b[0;34m\u001b[0m\u001b[0;34m\u001b[0m\u001b[0m\n\u001b[1;32m      4\u001b[0m \u001b[0;34m\u001b[0m\u001b[0m\n\u001b[0;32m----> 5\u001b[0;31m \u001b[0murl\u001b[0m \u001b[0;34m=\u001b[0m \u001b[0mget_db_url\u001b[0m\u001b[0;34m(\u001b[0m\u001b[0menv\u001b[0m\u001b[0;34m.\u001b[0m\u001b[0muser\u001b[0m\u001b[0;34m,\u001b[0m \u001b[0menv\u001b[0m\u001b[0;34m.\u001b[0m\u001b[0mpassword\u001b[0m\u001b[0;34m,\u001b[0m \u001b[0menv\u001b[0m\u001b[0;34m.\u001b[0m\u001b[0mhost\u001b[0m\u001b[0;34m,\u001b[0m \u001b[0mdb\u001b[0m\u001b[0;34m=\u001b[0m\u001b[0;34m'employees'\u001b[0m\u001b[0;34m)\u001b[0m\u001b[0;34m\u001b[0m\u001b[0;34m\u001b[0m\u001b[0m\n\u001b[0m\u001b[1;32m      6\u001b[0m \u001b[0;34m\u001b[0m\u001b[0m\n\u001b[1;32m      7\u001b[0m query = '''\n",
      "\u001b[0;31mNameError\u001b[0m: name 'get_db_url' is not defined"
     ]
    }
   ],
   "source": [
    "alpha = .05\n",
    "\n",
    "# select the data\n",
    "\n",
    "url = get_db_url(env.user, env.password, env.host, db='employees')\n",
    "\n",
    "query = '''\n",
    "select t.emp_no, count(t.title) as num_titles, te.tenure\n",
    "from titles t\n",
    "join (select emp_no, datediff(now(), min(from_date)) AS tenure\n",
    "from titles\n",
    "group by emp_no\n",
    "having max(to_date) = '9999-01-01'\n",
    ") te using (emp_no)\n",
    "group by t.emp_no;\n",
    "'''\n",
    "df = pd.read_sql(query, url)\n",
    "df = df[['num_titles', 'tenure']]\n",
    "\n",
    "# plot the data\n",
    "sns.regplot(x='tenure', y = 'num_titles', data=df, marker='.', line_kws=({'color': 'seagreen'}))\n"
   ]
  },
  {
   "cell_type": "markdown",
   "id": "cfe3af94",
   "metadata": {},
   "source": [
    "Because the number of titles is a discrete value, we should run an ANOVA or a krusal\n",
    "Wallis test to test whether the average salary of those with 1 title is different\n",
    "from those with 2, or 2 different from 3, etc.\n",
    "\n",
    "Assuumptions: do they have equal variance ? are there enough observations? YES are they indepenent\n",
    "    of each other YES"
   ]
  },
  {
   "cell_type": "code",
   "execution_count": 91,
   "id": "f4b44963",
   "metadata": {},
   "outputs": [
    {
     "data": {
      "text/plain": [
       "2    125345\n",
       "1    111892\n",
       "3      2887\n",
       "Name: num_titles, dtype: int64"
      ]
     },
     "execution_count": 91,
     "metadata": {},
     "output_type": "execute_result"
    }
   ],
   "source": [
    "# observations:\n",
    "df.num_titles.value_counts()"
   ]
  },
  {
   "cell_type": "code",
   "execution_count": 92,
   "id": "7ab6b9d5",
   "metadata": {},
   "outputs": [
    {
     "data": {
      "text/plain": [
       "LeveneResult(statistic=718602.1569097865, pvalue=0.0)"
      ]
     },
     "execution_count": 92,
     "metadata": {},
     "output_type": "execute_result"
    }
   ],
   "source": [
    "# equal variance?\n",
    "# h_o the variance is equal\n",
    "\n",
    "stats.levene(df.num_titles, df.tenure)"
   ]
  },
  {
   "cell_type": "markdown",
   "id": "caf602d0",
   "metadata": {},
   "source": [
    "The variances are significantly differnt; therefore we will use the Kruskal Wallis test."
   ]
  },
  {
   "cell_type": "code",
   "execution_count": 93,
   "id": "0b52be12",
   "metadata": {},
   "outputs": [
    {
     "data": {
      "text/plain": [
       "KruskalResult(statistic=371488.64419334417, pvalue=0.0)"
      ]
     },
     "execution_count": 93,
     "metadata": {},
     "output_type": "execute_result"
    }
   ],
   "source": [
    "stats.kruskal(df.num_titles, df.tenure)"
   ]
  },
  {
   "cell_type": "markdown",
   "id": "9f6c656f",
   "metadata": {},
   "source": [
    "**takeaway**\n",
    "There is a difference in tenure and number of titles an employee has held."
   ]
  },
  {
   "cell_type": "markdown",
   "id": "b1c0d11b",
   "metadata": {},
   "source": [
    "4. Use the sleepstudy data"
   ]
  },
  {
   "cell_type": "code",
   "execution_count": 74,
   "id": "7ee8aa2b",
   "metadata": {},
   "outputs": [
    {
     "name": "stdout",
     "output_type": "stream",
     "text": [
      "<class 'pandas.core.frame.DataFrame'>\n",
      "Int64Index: 180 entries, 1 to 180\n",
      "Data columns (total 3 columns):\n",
      " #   Column    Non-Null Count  Dtype  \n",
      "---  ------    --------------  -----  \n",
      " 0   Reaction  180 non-null    float64\n",
      " 1   Days      180 non-null    int64  \n",
      " 2   Subject   180 non-null    int64  \n",
      "dtypes: float64(1), int64(2)\n",
      "memory usage: 5.6 KB\n"
     ]
    },
    {
     "data": {
      "text/html": [
       "<div>\n",
       "<style scoped>\n",
       "    .dataframe tbody tr th:only-of-type {\n",
       "        vertical-align: middle;\n",
       "    }\n",
       "\n",
       "    .dataframe tbody tr th {\n",
       "        vertical-align: top;\n",
       "    }\n",
       "\n",
       "    .dataframe thead th {\n",
       "        text-align: right;\n",
       "    }\n",
       "</style>\n",
       "<table border=\"1\" class=\"dataframe\">\n",
       "  <thead>\n",
       "    <tr style=\"text-align: right;\">\n",
       "      <th></th>\n",
       "      <th>Reaction</th>\n",
       "      <th>Days</th>\n",
       "      <th>Subject</th>\n",
       "    </tr>\n",
       "  </thead>\n",
       "  <tbody>\n",
       "    <tr>\n",
       "      <th>1</th>\n",
       "      <td>249.5600</td>\n",
       "      <td>0</td>\n",
       "      <td>308</td>\n",
       "    </tr>\n",
       "    <tr>\n",
       "      <th>2</th>\n",
       "      <td>258.7047</td>\n",
       "      <td>1</td>\n",
       "      <td>308</td>\n",
       "    </tr>\n",
       "    <tr>\n",
       "      <th>3</th>\n",
       "      <td>250.8006</td>\n",
       "      <td>2</td>\n",
       "      <td>308</td>\n",
       "    </tr>\n",
       "    <tr>\n",
       "      <th>4</th>\n",
       "      <td>321.4398</td>\n",
       "      <td>3</td>\n",
       "      <td>308</td>\n",
       "    </tr>\n",
       "    <tr>\n",
       "      <th>5</th>\n",
       "      <td>356.8519</td>\n",
       "      <td>4</td>\n",
       "      <td>308</td>\n",
       "    </tr>\n",
       "  </tbody>\n",
       "</table>\n",
       "</div>"
      ],
      "text/plain": [
       "   Reaction  Days  Subject\n",
       "1  249.5600     0      308\n",
       "2  258.7047     1      308\n",
       "3  250.8006     2      308\n",
       "4  321.4398     3      308\n",
       "5  356.8519     4      308"
      ]
     },
     "execution_count": 74,
     "metadata": {},
     "output_type": "execute_result"
    }
   ],
   "source": [
    "from pydataset import data\n",
    "df = data('sleepstudy')\n",
    "df.info()\n",
    "df.head()"
   ]
  },
  {
   "cell_type": "markdown",
   "id": "290f8958",
   "metadata": {},
   "source": [
    "- Is there a relationship between days and reaction time?"
   ]
  },
  {
   "cell_type": "markdown",
   "id": "bd276883",
   "metadata": {},
   "source": [
    "- H_0: there is no linear correlation between days and reaction time\n",
    "- H_a: there is a linear correlation between days and reaction time"
   ]
  },
  {
   "cell_type": "code",
   "execution_count": 75,
   "id": "5e2952cf",
   "metadata": {},
   "outputs": [
    {
     "data": {
      "text/plain": [
       "<AxesSubplot:xlabel='Days', ylabel='Reaction'>"
      ]
     },
     "execution_count": 75,
     "metadata": {},
     "output_type": "execute_result"
    },
    {
     "data": {
      "image/png": "[encoded data removed]",
      "text/plain": [
       "<Figure size 640x480 with 1 Axes>"
      ]
     },
     "metadata": {},
     "output_type": "display_data"
    }
   ],
   "source": [
    "alpha = .05\n",
    "\n",
    "# select the data\n",
    "df = df[['Reaction', 'Days']]\n",
    "\n",
    "# plot the data\n",
    "sns.regplot(x='Days', y='Reaction', data=df, marker='.', line_kws=({'color': 'seagreen'}))"
   ]
  },
  {
   "cell_type": "code",
   "execution_count": 76,
   "id": "82f9c155",
   "metadata": {},
   "outputs": [
    {
     "data": {
      "image/png": "[encoded data removed]",
      "text/plain": [
       "<Figure size 640x480 with 1 Axes>"
      ]
     },
     "metadata": {},
     "output_type": "display_data"
    },
    {
     "data": {
      "image/png": "[encoded data removed]",
      "text/plain": [
       "<Figure size 640x480 with 1 Axes>"
      ]
     },
     "metadata": {},
     "output_type": "display_data"
    }
   ],
   "source": [
    "# check for normal distribution, plot histograms\n",
    "df.Days.hist()\n",
    "plt.show()\n",
    "df.Reaction.hist()\n",
    "plt.show()"
   ]
  },
  {
   "cell_type": "markdown",
   "id": "83a9f497",
   "metadata": {},
   "source": [
    "Days is uniformly distributed, and reaction time is normally distributed."
   ]
  },
  {
   "cell_type": "code",
   "execution_count": 77,
   "id": "3ceaaf48",
   "metadata": {},
   "outputs": [
    {
     "name": "stdout",
     "output_type": "stream",
     "text": [
      "reject the null hypothesis. there is a linear correlation. (p-value: 5.132878057706873e-14)\n",
      "r value:  0.5228138502259547\n"
     ]
    }
   ],
   "source": [
    "# run the spearman test\n",
    "r, p = stats.spearmanr(df.Days, df.Reaction)\n",
    "eval_result(alpha, p)\n",
    "print('r value: ', r)"
   ]
  },
  {
   "cell_type": "markdown",
   "id": "5acf6732",
   "metadata": {},
   "source": [
    "**Takeaway**\n",
    "There is a moderate correlation between days and reaction time."
   ]
  },
  {
   "cell_type": "markdown",
   "id": "37422847",
   "metadata": {},
   "source": [
    "# Exercises - Chi Square"
   ]
  },
  {
   "cell_type": "markdown",
   "id": "96960881",
   "metadata": {},
   "source": [
    "1. Answer with the type of stats test you would use (assume normal distribution):\n",
    "- Do students get better test grades if they have a rubber duck on their desk?"
   ]
  },
  {
   "cell_type": "markdown",
   "id": "978c20a8",
   "metadata": {},
   "source": [
    "A. one-sample or independent t-test (1 tail)"
   ]
  },
  {
   "cell_type": "markdown",
   "id": "d0db0376",
   "metadata": {},
   "source": [
    "- Does smoking affect when or not someone has lung cancer?"
   ]
  },
  {
   "cell_type": "markdown",
   "id": "f6b65b79",
   "metadata": {},
   "source": [
    "A. Chi Square"
   ]
  },
  {
   "cell_type": "markdown",
   "id": "af6ce8d4",
   "metadata": {},
   "source": [
    "- Is gender independent of a person’s blood type?"
   ]
  },
  {
   "cell_type": "markdown",
   "id": "46cf39aa",
   "metadata": {},
   "source": [
    "A. Chi Square"
   ]
  },
  {
   "cell_type": "markdown",
   "id": "215f86d3",
   "metadata": {},
   "source": [
    "- A farming company wants to know if a new fertilizer has improved crop yield or not"
   ]
  },
  {
   "cell_type": "markdown",
   "id": "9de0f761",
   "metadata": {},
   "source": [
    "A. Chi Square, independent t-test (1 or 2 tailed)"
   ]
  },
  {
   "cell_type": "markdown",
   "id": "fc8ce95a",
   "metadata": {},
   "source": [
    "- Does the length of time of the lecture correlate with a students grade?"
   ]
  },
  {
   "cell_type": "markdown",
   "id": "dd7d3404",
   "metadata": {},
   "source": [
    "A. Pearson's R"
   ]
  },
  {
   "cell_type": "markdown",
   "id": "7013297a",
   "metadata": {},
   "source": [
    "- Do people with dogs live in apartments more than people with cats?"
   ]
  },
  {
   "cell_type": "markdown",
   "id": "60c321e8",
   "metadata": {},
   "source": [
    "A. Chi Square"
   ]
  },
  {
   "cell_type": "markdown",
   "id": "9c7538e1",
   "metadata": {},
   "source": [
    "2. Use the following contingency table to help answer the question of whether using a macbook and being a codeup student are independent of each other."
   ]
  },
  {
   "cell_type": "code",
   "execution_count": 156,
   "id": "464df32a",
   "metadata": {},
   "outputs": [
    {
     "data": {
      "text/html": [
       "<div>\n",
       "<style scoped>\n",
       "    .dataframe tbody tr th:only-of-type {\n",
       "        vertical-align: middle;\n",
       "    }\n",
       "\n",
       "    .dataframe tbody tr th {\n",
       "        vertical-align: top;\n",
       "    }\n",
       "\n",
       "    .dataframe thead th {\n",
       "        text-align: right;\n",
       "    }\n",
       "</style>\n",
       "<table border=\"1\" class=\"dataframe\">\n",
       "  <thead>\n",
       "    <tr style=\"text-align: right;\">\n",
       "      <th>macbook</th>\n",
       "      <th>31</th>\n",
       "      <th>69</th>\n",
       "    </tr>\n",
       "    <tr>\n",
       "      <th>codeup</th>\n",
       "      <th></th>\n",
       "      <th></th>\n",
       "    </tr>\n",
       "  </thead>\n",
       "  <tbody>\n",
       "    <tr>\n",
       "      <th>50</th>\n",
       "      <td>1</td>\n",
       "      <td>1</td>\n",
       "    </tr>\n",
       "  </tbody>\n",
       "</table>\n",
       "</div>"
      ],
      "text/plain": [
       "macbook  31  69\n",
       "codeup         \n",
       "50        1   1"
      ]
     },
     "execution_count": 156,
     "metadata": {},
     "output_type": "execute_result"
    }
   ],
   "source": [
    "df = pd.DataFrame({'codeup': [50, 50], 'macbook': [69, 31]})\n",
    "\n",
    "observed = pd.crosstab(df.codeup, df.macbook)\n",
    "observed"
   ]
  },
  {
   "cell_type": "code",
   "execution_count": 157,
   "id": "59afa883",
   "metadata": {},
   "outputs": [],
   "source": [
    "alpha = .05\n",
    "chi2, p, df, expected = stats.chi2_contingency(observed)"
   ]
  },
  {
   "cell_type": "code",
   "execution_count": 158,
   "id": "754178b5",
   "metadata": {},
   "outputs": [
    {
     "name": "stdout",
     "output_type": "stream",
     "text": [
      "Observed Values\n",
      "\n",
      "[[1 1]]\n",
      "---\n",
      "Expected Values\n",
      "\n",
      "[[1. 1.]]\n",
      "---\n",
      "\n",
      "chi^2 = 0.0000\n",
      "p-value = 1.0000\n",
      "Is p-value < alpha? False\n"
     ]
    }
   ],
   "source": [
    "# print 'Observed Values' followed by a new line\n",
    "print('Observed Values\\n')\n",
    "\n",
    "# print the values from the 'observed' dataframe\n",
    "print(observed.values)\n",
    "\n",
    "# print --- and then a new line, 'Expected Values', followed by another new line\n",
    "print('---\\nExpected Values\\n')\n",
    "\n",
    "# print the expected values array\n",
    "print(expected)\n",
    "\n",
    "# print a new line\n",
    "print('---\\n')\n",
    "\n",
    "# print the chi2 value, formatted to a float with 4 digits. \n",
    "print(f'chi^2 = {chi2:.4f}') \n",
    "\n",
    "# print the p-value, formatted to a float with 4 digits. \n",
    "print(f'p-value = {p:.4f}')\n",
    "print('Is p-value < alpha?', p < alpha)"
   ]
  },
  {
   "cell_type": "markdown",
   "id": "8f487e89",
   "metadata": {},
   "source": [
    "**Takeaways**\n",
    "\n",
    "We can see by comparing the contingency tables that the observed values are very close to the expected values. We can confirm that, with the data available, there does not appear to be a significant relationship between codeup students and using a macbook."
   ]
  },
  {
   "cell_type": "markdown",
   "id": "9e724c56",
   "metadata": {},
   "source": [
    "# Review Question 2"
   ]
  },
  {
   "cell_type": "code",
   "execution_count": 159,
   "id": "a3642628",
   "metadata": {},
   "outputs": [
    {
     "data": {
      "text/html": [
       "<div>\n",
       "<style scoped>\n",
       "    .dataframe tbody tr th:only-of-type {\n",
       "        vertical-align: middle;\n",
       "    }\n",
       "\n",
       "    .dataframe tbody tr th {\n",
       "        vertical-align: top;\n",
       "    }\n",
       "\n",
       "    .dataframe thead th {\n",
       "        text-align: right;\n",
       "    }\n",
       "</style>\n",
       "<table border=\"1\" class=\"dataframe\">\n",
       "  <thead>\n",
       "    <tr style=\"text-align: right;\">\n",
       "      <th></th>\n",
       "      <th>Codeup student</th>\n",
       "      <th>Not Codeup student</th>\n",
       "    </tr>\n",
       "  </thead>\n",
       "  <tbody>\n",
       "    <tr>\n",
       "      <th>0</th>\n",
       "      <td>49</td>\n",
       "      <td>20</td>\n",
       "    </tr>\n",
       "    <tr>\n",
       "      <th>1</th>\n",
       "      <td>1</td>\n",
       "      <td>30</td>\n",
       "    </tr>\n",
       "  </tbody>\n",
       "</table>\n",
       "</div>"
      ],
      "text/plain": [
       "   Codeup student  Not Codeup student\n",
       "0              49                  20\n",
       "1               1                  30"
      ]
     },
     "execution_count": 159,
     "metadata": {},
     "output_type": "execute_result"
    }
   ],
   "source": [
    "df = pd.DataFrame({'Codeup student': [49, 1], 'Not Codeup student': [20, 30]})\n",
    "df"
   ]
  },
  {
   "cell_type": "code",
   "execution_count": 161,
   "id": "7ba85e1e",
   "metadata": {},
   "outputs": [
    {
     "data": {
      "text/html": [
       "<div>\n",
       "<style scoped>\n",
       "    .dataframe tbody tr th:only-of-type {\n",
       "        vertical-align: middle;\n",
       "    }\n",
       "\n",
       "    .dataframe tbody tr th {\n",
       "        vertical-align: top;\n",
       "    }\n",
       "\n",
       "    .dataframe thead th {\n",
       "        text-align: right;\n",
       "    }\n",
       "</style>\n",
       "<table border=\"1\" class=\"dataframe\">\n",
       "  <thead>\n",
       "    <tr style=\"text-align: right;\">\n",
       "      <th></th>\n",
       "      <th>Codeup student</th>\n",
       "      <th>Not Codeup student</th>\n",
       "    </tr>\n",
       "  </thead>\n",
       "  <tbody>\n",
       "    <tr>\n",
       "      <th>Mac user</th>\n",
       "      <td>49</td>\n",
       "      <td>20</td>\n",
       "    </tr>\n",
       "    <tr>\n",
       "      <th>Not mac user</th>\n",
       "      <td>1</td>\n",
       "      <td>30</td>\n",
       "    </tr>\n",
       "  </tbody>\n",
       "</table>\n",
       "</div>"
      ],
      "text/plain": [
       "              Codeup student  Not Codeup student\n",
       "Mac user                  49                  20\n",
       "Not mac user               1                  30"
      ]
     },
     "execution_count": 161,
     "metadata": {},
     "output_type": "execute_result"
    }
   ],
   "source": [
    "df.index = ['Mac user', 'Not mac user']\n",
    "df"
   ]
  },
  {
   "cell_type": "markdown",
   "id": "2f0eafa4",
   "metadata": {},
   "source": [
    "Null: using a macbook and being a Codeup student are independent of each other  \n",
    "Alternative: using a macbook and being a Codeup student are NOT independent of each other"
   ]
  },
  {
   "cell_type": "code",
   "execution_count": 162,
   "id": "d88ff35f",
   "metadata": {},
   "outputs": [
    {
     "data": {
      "text/plain": [
       "(36.65264142122487, 1.4116760526193828e-09)"
      ]
     },
     "execution_count": 162,
     "metadata": {},
     "output_type": "execute_result"
    }
   ],
   "source": [
    "chi2, p, degf, expected = stats.chi2_contingency(df)\n",
    "chi2, p"
   ]
  },
  {
   "cell_type": "code",
   "execution_count": 163,
   "id": "6b9b7d07",
   "metadata": {},
   "outputs": [
    {
     "name": "stdout",
     "output_type": "stream",
     "text": [
      "Reject the null\n"
     ]
    }
   ],
   "source": [
    "alpha = .05\n",
    "\n",
    "if p < alpha:\n",
    "    print('Reject the null')\n",
    "else:\n",
    "    print('Fail to reject the null')"
   ]
  },
  {
   "cell_type": "code",
   "execution_count": 164,
   "id": "1b9efbc2",
   "metadata": {},
   "outputs": [
    {
     "data": {
      "text/plain": [
       "array([[34.5, 34.5],\n",
       "       [15.5, 15.5]])"
      ]
     },
     "execution_count": 164,
     "metadata": {},
     "output_type": "execute_result"
    }
   ],
   "source": [
    "expected"
   ]
  },
  {
   "cell_type": "markdown",
   "id": "043b960e",
   "metadata": {},
   "source": [
    "3. Choose another 2 categorical variables from the mpg dataset and perform a  𝑐ℎ𝑖2  contingency table test with them. Be sure to state your null and alternative hypotheses."
   ]
  },
  {
   "cell_type": "code",
   "execution_count": 1,
   "id": "3c4ce2d7",
   "metadata": {},
   "outputs": [
    {
     "data": {
      "text/html": [
       "<div>\n",
       "<style scoped>\n",
       "    .dataframe tbody tr th:only-of-type {\n",
       "        vertical-align: middle;\n",
       "    }\n",
       "\n",
       "    .dataframe tbody tr th {\n",
       "        vertical-align: top;\n",
       "    }\n",
       "\n",
       "    .dataframe thead th {\n",
       "        text-align: right;\n",
       "    }\n",
       "</style>\n",
       "<table border=\"1\" class=\"dataframe\">\n",
       "  <thead>\n",
       "    <tr style=\"text-align: right;\">\n",
       "      <th></th>\n",
       "      <th>manufacturer</th>\n",
       "      <th>model</th>\n",
       "      <th>displ</th>\n",
       "      <th>year</th>\n",
       "      <th>cyl</th>\n",
       "      <th>trans</th>\n",
       "      <th>drv</th>\n",
       "      <th>cty</th>\n",
       "      <th>hwy</th>\n",
       "      <th>fl</th>\n",
       "      <th>class</th>\n",
       "    </tr>\n",
       "  </thead>\n",
       "  <tbody>\n",
       "    <tr>\n",
       "      <th>1</th>\n",
       "      <td>audi</td>\n",
       "      <td>a4</td>\n",
       "      <td>1.8</td>\n",
       "      <td>1999</td>\n",
       "      <td>4</td>\n",
       "      <td>auto(l5)</td>\n",
       "      <td>f</td>\n",
       "      <td>18</td>\n",
       "      <td>29</td>\n",
       "      <td>p</td>\n",
       "      <td>compact</td>\n",
       "    </tr>\n",
       "    <tr>\n",
       "      <th>2</th>\n",
       "      <td>audi</td>\n",
       "      <td>a4</td>\n",
       "      <td>1.8</td>\n",
       "      <td>1999</td>\n",
       "      <td>4</td>\n",
       "      <td>manual(m5)</td>\n",
       "      <td>f</td>\n",
       "      <td>21</td>\n",
       "      <td>29</td>\n",
       "      <td>p</td>\n",
       "      <td>compact</td>\n",
       "    </tr>\n",
       "    <tr>\n",
       "      <th>3</th>\n",
       "      <td>audi</td>\n",
       "      <td>a4</td>\n",
       "      <td>2.0</td>\n",
       "      <td>2008</td>\n",
       "      <td>4</td>\n",
       "      <td>manual(m6)</td>\n",
       "      <td>f</td>\n",
       "      <td>20</td>\n",
       "      <td>31</td>\n",
       "      <td>p</td>\n",
       "      <td>compact</td>\n",
       "    </tr>\n",
       "    <tr>\n",
       "      <th>4</th>\n",
       "      <td>audi</td>\n",
       "      <td>a4</td>\n",
       "      <td>2.0</td>\n",
       "      <td>2008</td>\n",
       "      <td>4</td>\n",
       "      <td>auto(av)</td>\n",
       "      <td>f</td>\n",
       "      <td>21</td>\n",
       "      <td>30</td>\n",
       "      <td>p</td>\n",
       "      <td>compact</td>\n",
       "    </tr>\n",
       "    <tr>\n",
       "      <th>5</th>\n",
       "      <td>audi</td>\n",
       "      <td>a4</td>\n",
       "      <td>2.8</td>\n",
       "      <td>1999</td>\n",
       "      <td>6</td>\n",
       "      <td>auto(l5)</td>\n",
       "      <td>f</td>\n",
       "      <td>16</td>\n",
       "      <td>26</td>\n",
       "      <td>p</td>\n",
       "      <td>compact</td>\n",
       "    </tr>\n",
       "  </tbody>\n",
       "</table>\n",
       "</div>"
      ],
      "text/plain": [
       "  manufacturer model  displ  year  cyl       trans drv  cty  hwy fl    class\n",
       "1         audi    a4    1.8  1999    4    auto(l5)   f   18   29  p  compact\n",
       "2         audi    a4    1.8  1999    4  manual(m5)   f   21   29  p  compact\n",
       "3         audi    a4    2.0  2008    4  manual(m6)   f   20   31  p  compact\n",
       "4         audi    a4    2.0  2008    4    auto(av)   f   21   30  p  compact\n",
       "5         audi    a4    2.8  1999    6    auto(l5)   f   16   26  p  compact"
      ]
     },
     "execution_count": 1,
     "metadata": {},
     "output_type": "execute_result"
    }
   ],
   "source": [
    "import pandas as pd\n",
    "from scipy import stats\n",
    "from pydataset import data\n",
    "import numpy as np\n",
    "\n",
    "mpg = data('mpg')\n",
    "mpg.head()"
   ]
  },
  {
   "cell_type": "markdown",
   "id": "4efb8d21",
   "metadata": {},
   "source": [
    "𝐻0  (Null Hypothesis): year is independent of hwy.\n",
    "\n",
    "𝐻𝑎  (Alternative Hypothesis): year is dependent on hwy."
   ]
  },
  {
   "cell_type": "code",
   "execution_count": 2,
   "id": "43f3f525",
   "metadata": {},
   "outputs": [
    {
     "data": {
      "text/plain": [
       "1999    117\n",
       "2008    117\n",
       "Name: year, dtype: int64"
      ]
     },
     "execution_count": 2,
     "metadata": {},
     "output_type": "execute_result"
    }
   ],
   "source": [
    "mpg['year'].value_counts()"
   ]
  },
  {
   "cell_type": "code",
   "execution_count": 3,
   "id": "4f451ee1",
   "metadata": {},
   "outputs": [
    {
     "data": {
      "text/plain": [
       "26    32\n",
       "17    31\n",
       "29    22\n",
       "25    15\n",
       "27    14\n",
       "19    13\n",
       "24    13\n",
       "20    11\n",
       "18    10\n",
       "15    10\n",
       "23     7\n",
       "28     7\n",
       "31     7\n",
       "22     7\n",
       "16     7\n",
       "12     5\n",
       "30     4\n",
       "32     4\n",
       "36     2\n",
       "44     2\n",
       "35     2\n",
       "14     2\n",
       "33     2\n",
       "21     2\n",
       "34     1\n",
       "37     1\n",
       "41     1\n",
       "Name: hwy, dtype: int64"
      ]
     },
     "execution_count": 3,
     "metadata": {},
     "output_type": "execute_result"
    }
   ],
   "source": [
    "mpg['hwy'].value_counts()"
   ]
  },
  {
   "cell_type": "code",
   "execution_count": 4,
   "id": "fc7566a7",
   "metadata": {},
   "outputs": [
    {
     "data": {
      "text/html": [
       "<div>\n",
       "<style scoped>\n",
       "    .dataframe tbody tr th:only-of-type {\n",
       "        vertical-align: middle;\n",
       "    }\n",
       "\n",
       "    .dataframe tbody tr th {\n",
       "        vertical-align: top;\n",
       "    }\n",
       "\n",
       "    .dataframe thead th {\n",
       "        text-align: right;\n",
       "    }\n",
       "</style>\n",
       "<table border=\"1\" class=\"dataframe\">\n",
       "  <thead>\n",
       "    <tr style=\"text-align: right;\">\n",
       "      <th>hwy</th>\n",
       "      <th>12</th>\n",
       "      <th>14</th>\n",
       "      <th>15</th>\n",
       "      <th>16</th>\n",
       "      <th>17</th>\n",
       "      <th>18</th>\n",
       "      <th>19</th>\n",
       "      <th>20</th>\n",
       "      <th>21</th>\n",
       "      <th>22</th>\n",
       "      <th>...</th>\n",
       "      <th>30</th>\n",
       "      <th>31</th>\n",
       "      <th>32</th>\n",
       "      <th>33</th>\n",
       "      <th>34</th>\n",
       "      <th>35</th>\n",
       "      <th>36</th>\n",
       "      <th>37</th>\n",
       "      <th>41</th>\n",
       "      <th>44</th>\n",
       "    </tr>\n",
       "    <tr>\n",
       "      <th>year</th>\n",
       "      <th></th>\n",
       "      <th></th>\n",
       "      <th></th>\n",
       "      <th></th>\n",
       "      <th></th>\n",
       "      <th></th>\n",
       "      <th></th>\n",
       "      <th></th>\n",
       "      <th></th>\n",
       "      <th></th>\n",
       "      <th></th>\n",
       "      <th></th>\n",
       "      <th></th>\n",
       "      <th></th>\n",
       "      <th></th>\n",
       "      <th></th>\n",
       "      <th></th>\n",
       "      <th></th>\n",
       "      <th></th>\n",
       "      <th></th>\n",
       "      <th></th>\n",
       "    </tr>\n",
       "  </thead>\n",
       "  <tbody>\n",
       "    <tr>\n",
       "      <th>1999</th>\n",
       "      <td>0</td>\n",
       "      <td>0</td>\n",
       "      <td>9</td>\n",
       "      <td>5</td>\n",
       "      <td>21</td>\n",
       "      <td>0</td>\n",
       "      <td>3</td>\n",
       "      <td>5</td>\n",
       "      <td>2</td>\n",
       "      <td>4</td>\n",
       "      <td>...</td>\n",
       "      <td>1</td>\n",
       "      <td>0</td>\n",
       "      <td>3</td>\n",
       "      <td>2</td>\n",
       "      <td>0</td>\n",
       "      <td>1</td>\n",
       "      <td>0</td>\n",
       "      <td>0</td>\n",
       "      <td>1</td>\n",
       "      <td>2</td>\n",
       "    </tr>\n",
       "    <tr>\n",
       "      <th>2008</th>\n",
       "      <td>5</td>\n",
       "      <td>2</td>\n",
       "      <td>1</td>\n",
       "      <td>2</td>\n",
       "      <td>10</td>\n",
       "      <td>10</td>\n",
       "      <td>10</td>\n",
       "      <td>6</td>\n",
       "      <td>0</td>\n",
       "      <td>3</td>\n",
       "      <td>...</td>\n",
       "      <td>3</td>\n",
       "      <td>7</td>\n",
       "      <td>1</td>\n",
       "      <td>0</td>\n",
       "      <td>1</td>\n",
       "      <td>1</td>\n",
       "      <td>2</td>\n",
       "      <td>1</td>\n",
       "      <td>0</td>\n",
       "      <td>0</td>\n",
       "    </tr>\n",
       "  </tbody>\n",
       "</table>\n",
       "<p>2 rows × 27 columns</p>\n",
       "</div>"
      ],
      "text/plain": [
       "hwy   12  14  15  16  17  18  19  20  21  22  ...  30  31  32  33  34  35  36  \\\n",
       "year                                          ...                               \n",
       "1999   0   0   9   5  21   0   3   5   2   4  ...   1   0   3   2   0   1   0   \n",
       "2008   5   2   1   2  10  10  10   6   0   3  ...   3   7   1   0   1   1   2   \n",
       "\n",
       "hwy   37  41  44  \n",
       "year              \n",
       "1999   0   1   2  \n",
       "2008   1   0   0  \n",
       "\n",
       "[2 rows x 27 columns]"
      ]
     },
     "execution_count": 4,
     "metadata": {},
     "output_type": "execute_result"
    }
   ],
   "source": [
    "observed = pd.crosstab(mpg.year, mpg.hwy)\n",
    "observed"
   ]
  },
  {
   "cell_type": "code",
   "execution_count": 5,
   "id": "ad1fbf4d",
   "metadata": {},
   "outputs": [],
   "source": [
    "alpha = .05\n",
    "chi2, p, df, expected = stats.chi2_contingency(observed)"
   ]
  },
  {
   "cell_type": "code",
   "execution_count": 6,
   "id": "f14b1282",
   "metadata": {},
   "outputs": [
    {
     "name": "stdout",
     "output_type": "stream",
     "text": [
      "Observed Values\n",
      "\n",
      "[[ 0  0  9  5 21  0  3  5  2  4  2  6  6 26  6  0 12  1  0  3  2  0  1  0\n",
      "   0  1  2]\n",
      " [ 5  2  1  2 10 10 10  6  0  3  5  7  9  6  8  7 10  3  7  1  0  1  1  2\n",
      "   1  0  0]]\n",
      "---\n",
      "Expected Values\n",
      "\n",
      "[[ 2.5  1.   5.   3.5 15.5  5.   6.5  5.5  1.   3.5  3.5  6.5  7.5 16.\n",
      "   7.   3.5 11.   2.   3.5  2.   1.   0.5  1.   1.   0.5  0.5  1. ]\n",
      " [ 2.5  1.   5.   3.5 15.5  5.   6.5  5.5  1.   3.5  3.5  6.5  7.5 16.\n",
      "   7.   3.5 11.   2.   3.5  2.   1.   0.5  1.   1.   0.5  0.5  1. ]]\n",
      "---\n",
      "\n",
      "chi^2 = 74.5221\n",
      "p-value = 0.0000\n",
      "Is p-value < alpha? True\n"
     ]
    }
   ],
   "source": [
    "# print 'Observed Values' followed by a new line\n",
    "print('Observed Values\\n')\n",
    "\n",
    "# print the values from the 'observed' dataframe\n",
    "print(observed.values)\n",
    "\n",
    "# print --- and then a new line, 'Expected Values', followed by another new line\n",
    "print('---\\nExpected Values\\n')\n",
    "\n",
    "# print the expected values array\n",
    "print(expected)\n",
    "\n",
    "# print a new line\n",
    "print('---\\n')\n",
    "\n",
    "# print the chi2 value, formatted to a float with 4 digits. \n",
    "print(f'chi^2 = {chi2:.4f}') \n",
    "\n",
    "# print the p-value, formatted to a float with 4 digits. \n",
    "print(f'p-value = {p:.4f}')\n",
    "print('Is p-value < alpha?', p < alpha)"
   ]
  },
  {
   "cell_type": "markdown",
   "id": "213c6287",
   "metadata": {},
   "source": [
    "**Takeaways**\n",
    "\n",
    "We can see by comparing the contingency tables that the observed values are very close to the expected values. We can confirm that, with the data available, there does appear to be a significant relationship between the year of the vehicle and the hwy mileage. We reject the null hypothesis."
   ]
  },
  {
   "cell_type": "markdown",
   "id": "551c701a",
   "metadata": {},
   "source": [
    "# Review Question 3"
   ]
  },
  {
   "cell_type": "code",
   "execution_count": 165,
   "id": "702e9fdf",
   "metadata": {},
   "outputs": [
    {
     "data": {
      "text/html": [
       "<div>\n",
       "<style scoped>\n",
       "    .dataframe tbody tr th:only-of-type {\n",
       "        vertical-align: middle;\n",
       "    }\n",
       "\n",
       "    .dataframe tbody tr th {\n",
       "        vertical-align: top;\n",
       "    }\n",
       "\n",
       "    .dataframe thead th {\n",
       "        text-align: right;\n",
       "    }\n",
       "</style>\n",
       "<table border=\"1\" class=\"dataframe\">\n",
       "  <thead>\n",
       "    <tr style=\"text-align: right;\">\n",
       "      <th></th>\n",
       "      <th>manufacturer</th>\n",
       "      <th>model</th>\n",
       "      <th>displ</th>\n",
       "      <th>year</th>\n",
       "      <th>cyl</th>\n",
       "      <th>trans</th>\n",
       "      <th>drv</th>\n",
       "      <th>cty</th>\n",
       "      <th>hwy</th>\n",
       "      <th>fl</th>\n",
       "      <th>class</th>\n",
       "    </tr>\n",
       "  </thead>\n",
       "  <tbody>\n",
       "    <tr>\n",
       "      <th>1</th>\n",
       "      <td>audi</td>\n",
       "      <td>a4</td>\n",
       "      <td>1.8</td>\n",
       "      <td>1999</td>\n",
       "      <td>4</td>\n",
       "      <td>auto(l5)</td>\n",
       "      <td>f</td>\n",
       "      <td>18</td>\n",
       "      <td>29</td>\n",
       "      <td>p</td>\n",
       "      <td>compact</td>\n",
       "    </tr>\n",
       "    <tr>\n",
       "      <th>2</th>\n",
       "      <td>audi</td>\n",
       "      <td>a4</td>\n",
       "      <td>1.8</td>\n",
       "      <td>1999</td>\n",
       "      <td>4</td>\n",
       "      <td>manual(m5)</td>\n",
       "      <td>f</td>\n",
       "      <td>21</td>\n",
       "      <td>29</td>\n",
       "      <td>p</td>\n",
       "      <td>compact</td>\n",
       "    </tr>\n",
       "    <tr>\n",
       "      <th>3</th>\n",
       "      <td>audi</td>\n",
       "      <td>a4</td>\n",
       "      <td>2.0</td>\n",
       "      <td>2008</td>\n",
       "      <td>4</td>\n",
       "      <td>manual(m6)</td>\n",
       "      <td>f</td>\n",
       "      <td>20</td>\n",
       "      <td>31</td>\n",
       "      <td>p</td>\n",
       "      <td>compact</td>\n",
       "    </tr>\n",
       "    <tr>\n",
       "      <th>4</th>\n",
       "      <td>audi</td>\n",
       "      <td>a4</td>\n",
       "      <td>2.0</td>\n",
       "      <td>2008</td>\n",
       "      <td>4</td>\n",
       "      <td>auto(av)</td>\n",
       "      <td>f</td>\n",
       "      <td>21</td>\n",
       "      <td>30</td>\n",
       "      <td>p</td>\n",
       "      <td>compact</td>\n",
       "    </tr>\n",
       "    <tr>\n",
       "      <th>5</th>\n",
       "      <td>audi</td>\n",
       "      <td>a4</td>\n",
       "      <td>2.8</td>\n",
       "      <td>1999</td>\n",
       "      <td>6</td>\n",
       "      <td>auto(l5)</td>\n",
       "      <td>f</td>\n",
       "      <td>16</td>\n",
       "      <td>26</td>\n",
       "      <td>p</td>\n",
       "      <td>compact</td>\n",
       "    </tr>\n",
       "  </tbody>\n",
       "</table>\n",
       "</div>"
      ],
      "text/plain": [
       "  manufacturer model  displ  year  cyl       trans drv  cty  hwy fl    class\n",
       "1         audi    a4    1.8  1999    4    auto(l5)   f   18   29  p  compact\n",
       "2         audi    a4    1.8  1999    4  manual(m5)   f   21   29  p  compact\n",
       "3         audi    a4    2.0  2008    4  manual(m6)   f   20   31  p  compact\n",
       "4         audi    a4    2.0  2008    4    auto(av)   f   21   30  p  compact\n",
       "5         audi    a4    2.8  1999    6    auto(l5)   f   16   26  p  compact"
      ]
     },
     "execution_count": 165,
     "metadata": {},
     "output_type": "execute_result"
    }
   ],
   "source": [
    "mpg = data('mpg')\n",
    "mpg.head()"
   ]
  },
  {
   "cell_type": "markdown",
   "id": "c2713f20",
   "metadata": {},
   "source": [
    "Null: There is no relationship between transmission type and car class  \n",
    "Alternative: There is a relationship between transmission type and car class"
   ]
  },
  {
   "cell_type": "code",
   "execution_count": 166,
   "id": "2c59b432",
   "metadata": {},
   "outputs": [
    {
     "data": {
      "text/plain": [
       "1        auto(l5)\n",
       "2      manual(m5)\n",
       "3      manual(m6)\n",
       "4        auto(av)\n",
       "5        auto(l5)\n",
       "          ...    \n",
       "230      auto(s6)\n",
       "231    manual(m6)\n",
       "232      auto(l5)\n",
       "233    manual(m5)\n",
       "234      auto(s6)\n",
       "Name: trans, Length: 234, dtype: object"
      ]
     },
     "execution_count": 166,
     "metadata": {},
     "output_type": "execute_result"
    }
   ],
   "source": [
    "mpg['trans']"
   ]
  },
  {
   "cell_type": "code",
   "execution_count": null,
   "id": "dbda25a3",
   "metadata": {},
   "outputs": [],
   "source": [
    "# np.where(condition, output if yes, output if no)"
   ]
  },
  {
   "cell_type": "code",
   "execution_count": 168,
   "id": "2760865c",
   "metadata": {},
   "outputs": [
    {
     "data": {
      "text/plain": [
       "1       True\n",
       "2      False\n",
       "3      False\n",
       "4       True\n",
       "5       True\n",
       "       ...  \n",
       "230     True\n",
       "231    False\n",
       "232     True\n",
       "233    False\n",
       "234     True\n",
       "Name: trans, Length: 234, dtype: bool"
      ]
     },
     "execution_count": 168,
     "metadata": {},
     "output_type": "execute_result"
    }
   ],
   "source": [
    "mpg['trans'].str.startswith('a')"
   ]
  },
  {
   "cell_type": "code",
   "execution_count": 169,
   "id": "23252049",
   "metadata": {},
   "outputs": [
    {
     "data": {
      "text/plain": [
       "array(['Auto', 'Manual', 'Manual', 'Auto', 'Auto', 'Manual', 'Auto',\n",
       "       'Manual', 'Auto', 'Manual', 'Auto', 'Auto', 'Manual', 'Auto',\n",
       "       'Manual', 'Auto', 'Auto', 'Auto', 'Auto', 'Auto', 'Auto', 'Auto',\n",
       "       'Auto', 'Manual', 'Auto', 'Manual', 'Auto', 'Manual', 'Auto',\n",
       "       'Auto', 'Auto', 'Auto', 'Auto', 'Auto', 'Auto', 'Auto', 'Auto',\n",
       "       'Auto', 'Auto', 'Auto', 'Auto', 'Auto', 'Auto', 'Auto', 'Auto',\n",
       "       'Auto', 'Auto', 'Auto', 'Manual', 'Auto', 'Auto', 'Manual', 'Auto',\n",
       "       'Auto', 'Auto', 'Manual', 'Auto', 'Auto', 'Auto', 'Auto', 'Auto',\n",
       "       'Auto', 'Auto', 'Auto', 'Manual', 'Auto', 'Auto', 'Auto', 'Manual',\n",
       "       'Manual', 'Auto', 'Manual', 'Auto', 'Auto', 'Auto', 'Auto', 'Auto',\n",
       "       'Auto', 'Manual', 'Auto', 'Auto', 'Auto', 'Auto', 'Auto', 'Manual',\n",
       "       'Manual', 'Auto', 'Auto', 'Auto', 'Auto', 'Manual', 'Auto',\n",
       "       'Manual', 'Auto', 'Auto', 'Manual', 'Manual', 'Auto', 'Manual',\n",
       "       'Manual', 'Auto', 'Manual', 'Manual', 'Auto', 'Manual', 'Auto',\n",
       "       'Auto', 'Manual', 'Auto', 'Manual', 'Auto', 'Manual', 'Auto',\n",
       "       'Manual', 'Auto', 'Auto', 'Manual', 'Manual', 'Auto', 'Auto',\n",
       "       'Manual', 'Manual', 'Auto', 'Auto', 'Auto', 'Auto', 'Auto', 'Auto',\n",
       "       'Auto', 'Auto', 'Auto', 'Auto', 'Auto', 'Auto', 'Auto', 'Auto',\n",
       "       'Auto', 'Auto', 'Auto', 'Auto', 'Auto', 'Manual', 'Auto', 'Auto',\n",
       "       'Manual', 'Manual', 'Auto', 'Auto', 'Manual', 'Auto', 'Auto',\n",
       "       'Manual', 'Auto', 'Auto', 'Auto', 'Auto', 'Auto', 'Auto', 'Auto',\n",
       "       'Manual', 'Auto', 'Manual', 'Manual', 'Auto', 'Auto', 'Auto',\n",
       "       'Manual', 'Manual', 'Auto', 'Auto', 'Auto', 'Manual', 'Manual',\n",
       "       'Manual', 'Auto', 'Auto', 'Manual', 'Auto', 'Auto', 'Manual',\n",
       "       'Auto', 'Manual', 'Auto', 'Auto', 'Manual', 'Auto', 'Auto',\n",
       "       'Manual', 'Manual', 'Auto', 'Auto', 'Manual', 'Auto', 'Auto',\n",
       "       'Auto', 'Manual', 'Manual', 'Auto', 'Auto', 'Auto', 'Manual',\n",
       "       'Auto', 'Manual', 'Manual', 'Auto', 'Manual', 'Auto', 'Manual',\n",
       "       'Auto', 'Manual', 'Auto', 'Manual', 'Manual', 'Manual', 'Auto',\n",
       "       'Auto', 'Manual', 'Auto', 'Manual', 'Auto', 'Manual', 'Manual',\n",
       "       'Auto', 'Manual', 'Auto', 'Manual', 'Auto', 'Manual', 'Auto',\n",
       "       'Auto', 'Manual', 'Auto', 'Manual', 'Auto'], dtype='<U6')"
      ]
     },
     "execution_count": 169,
     "metadata": {},
     "output_type": "execute_result"
    }
   ],
   "source": [
    "np.where(mpg['trans'].str.startswith('a'), 'Auto', 'Manual')"
   ]
  },
  {
   "cell_type": "code",
   "execution_count": 170,
   "id": "573224f3",
   "metadata": {},
   "outputs": [
    {
     "data": {
      "text/html": [
       "<div>\n",
       "<style scoped>\n",
       "    .dataframe tbody tr th:only-of-type {\n",
       "        vertical-align: middle;\n",
       "    }\n",
       "\n",
       "    .dataframe tbody tr th {\n",
       "        vertical-align: top;\n",
       "    }\n",
       "\n",
       "    .dataframe thead th {\n",
       "        text-align: right;\n",
       "    }\n",
       "</style>\n",
       "<table border=\"1\" class=\"dataframe\">\n",
       "  <thead>\n",
       "    <tr style=\"text-align: right;\">\n",
       "      <th></th>\n",
       "      <th>manufacturer</th>\n",
       "      <th>model</th>\n",
       "      <th>displ</th>\n",
       "      <th>year</th>\n",
       "      <th>cyl</th>\n",
       "      <th>trans</th>\n",
       "      <th>drv</th>\n",
       "      <th>cty</th>\n",
       "      <th>hwy</th>\n",
       "      <th>fl</th>\n",
       "      <th>class</th>\n",
       "      <th>trans_simple</th>\n",
       "    </tr>\n",
       "  </thead>\n",
       "  <tbody>\n",
       "    <tr>\n",
       "      <th>1</th>\n",
       "      <td>audi</td>\n",
       "      <td>a4</td>\n",
       "      <td>1.8</td>\n",
       "      <td>1999</td>\n",
       "      <td>4</td>\n",
       "      <td>auto(l5)</td>\n",
       "      <td>f</td>\n",
       "      <td>18</td>\n",
       "      <td>29</td>\n",
       "      <td>p</td>\n",
       "      <td>compact</td>\n",
       "      <td>Auto</td>\n",
       "    </tr>\n",
       "    <tr>\n",
       "      <th>2</th>\n",
       "      <td>audi</td>\n",
       "      <td>a4</td>\n",
       "      <td>1.8</td>\n",
       "      <td>1999</td>\n",
       "      <td>4</td>\n",
       "      <td>manual(m5)</td>\n",
       "      <td>f</td>\n",
       "      <td>21</td>\n",
       "      <td>29</td>\n",
       "      <td>p</td>\n",
       "      <td>compact</td>\n",
       "      <td>Manual</td>\n",
       "    </tr>\n",
       "    <tr>\n",
       "      <th>3</th>\n",
       "      <td>audi</td>\n",
       "      <td>a4</td>\n",
       "      <td>2.0</td>\n",
       "      <td>2008</td>\n",
       "      <td>4</td>\n",
       "      <td>manual(m6)</td>\n",
       "      <td>f</td>\n",
       "      <td>20</td>\n",
       "      <td>31</td>\n",
       "      <td>p</td>\n",
       "      <td>compact</td>\n",
       "      <td>Manual</td>\n",
       "    </tr>\n",
       "    <tr>\n",
       "      <th>4</th>\n",
       "      <td>audi</td>\n",
       "      <td>a4</td>\n",
       "      <td>2.0</td>\n",
       "      <td>2008</td>\n",
       "      <td>4</td>\n",
       "      <td>auto(av)</td>\n",
       "      <td>f</td>\n",
       "      <td>21</td>\n",
       "      <td>30</td>\n",
       "      <td>p</td>\n",
       "      <td>compact</td>\n",
       "      <td>Auto</td>\n",
       "    </tr>\n",
       "    <tr>\n",
       "      <th>5</th>\n",
       "      <td>audi</td>\n",
       "      <td>a4</td>\n",
       "      <td>2.8</td>\n",
       "      <td>1999</td>\n",
       "      <td>6</td>\n",
       "      <td>auto(l5)</td>\n",
       "      <td>f</td>\n",
       "      <td>16</td>\n",
       "      <td>26</td>\n",
       "      <td>p</td>\n",
       "      <td>compact</td>\n",
       "      <td>Auto</td>\n",
       "    </tr>\n",
       "  </tbody>\n",
       "</table>\n",
       "</div>"
      ],
      "text/plain": [
       "  manufacturer model  displ  year  cyl       trans drv  cty  hwy fl    class  \\\n",
       "1         audi    a4    1.8  1999    4    auto(l5)   f   18   29  p  compact   \n",
       "2         audi    a4    1.8  1999    4  manual(m5)   f   21   29  p  compact   \n",
       "3         audi    a4    2.0  2008    4  manual(m6)   f   20   31  p  compact   \n",
       "4         audi    a4    2.0  2008    4    auto(av)   f   21   30  p  compact   \n",
       "5         audi    a4    2.8  1999    6    auto(l5)   f   16   26  p  compact   \n",
       "\n",
       "  trans_simple  \n",
       "1         Auto  \n",
       "2       Manual  \n",
       "3       Manual  \n",
       "4         Auto  \n",
       "5         Auto  "
      ]
     },
     "execution_count": 170,
     "metadata": {},
     "output_type": "execute_result"
    }
   ],
   "source": [
    "mpg['trans_simple'] = np.where(mpg['trans'].str.startswith('a'), 'Auto', 'Manual')\n",
    "mpg.head()"
   ]
  },
  {
   "cell_type": "code",
   "execution_count": 171,
   "id": "28843b43",
   "metadata": {},
   "outputs": [
    {
     "data": {
      "text/plain": [
       "suv           62\n",
       "compact       47\n",
       "midsize       41\n",
       "subcompact    35\n",
       "pickup        33\n",
       "minivan       11\n",
       "2seater        5\n",
       "Name: class, dtype: int64"
      ]
     },
     "execution_count": 171,
     "metadata": {},
     "output_type": "execute_result"
    }
   ],
   "source": [
    "mpg['class'].value_counts()"
   ]
  },
  {
   "cell_type": "code",
   "execution_count": 172,
   "id": "d6d7efa1",
   "metadata": {},
   "outputs": [
    {
     "data": {
      "text/html": [
       "<div>\n",
       "<style scoped>\n",
       "    .dataframe tbody tr th:only-of-type {\n",
       "        vertical-align: middle;\n",
       "    }\n",
       "\n",
       "    .dataframe tbody tr th {\n",
       "        vertical-align: top;\n",
       "    }\n",
       "\n",
       "    .dataframe thead th {\n",
       "        text-align: right;\n",
       "    }\n",
       "</style>\n",
       "<table border=\"1\" class=\"dataframe\">\n",
       "  <thead>\n",
       "    <tr style=\"text-align: right;\">\n",
       "      <th>trans_simple</th>\n",
       "      <th>Auto</th>\n",
       "      <th>Manual</th>\n",
       "    </tr>\n",
       "    <tr>\n",
       "      <th>class</th>\n",
       "      <th></th>\n",
       "      <th></th>\n",
       "    </tr>\n",
       "  </thead>\n",
       "  <tbody>\n",
       "    <tr>\n",
       "      <th>2seater</th>\n",
       "      <td>2</td>\n",
       "      <td>3</td>\n",
       "    </tr>\n",
       "    <tr>\n",
       "      <th>compact</th>\n",
       "      <td>24</td>\n",
       "      <td>23</td>\n",
       "    </tr>\n",
       "    <tr>\n",
       "      <th>midsize</th>\n",
       "      <td>29</td>\n",
       "      <td>12</td>\n",
       "    </tr>\n",
       "    <tr>\n",
       "      <th>minivan</th>\n",
       "      <td>11</td>\n",
       "      <td>0</td>\n",
       "    </tr>\n",
       "    <tr>\n",
       "      <th>pickup</th>\n",
       "      <td>20</td>\n",
       "      <td>13</td>\n",
       "    </tr>\n",
       "    <tr>\n",
       "      <th>subcompact</th>\n",
       "      <td>16</td>\n",
       "      <td>19</td>\n",
       "    </tr>\n",
       "    <tr>\n",
       "      <th>suv</th>\n",
       "      <td>55</td>\n",
       "      <td>7</td>\n",
       "    </tr>\n",
       "  </tbody>\n",
       "</table>\n",
       "</div>"
      ],
      "text/plain": [
       "trans_simple  Auto  Manual\n",
       "class                     \n",
       "2seater          2       3\n",
       "compact         24      23\n",
       "midsize         29      12\n",
       "minivan         11       0\n",
       "pickup          20      13\n",
       "subcompact      16      19\n",
       "suv             55       7"
      ]
     },
     "execution_count": 172,
     "metadata": {},
     "output_type": "execute_result"
    }
   ],
   "source": [
    "pd.crosstab(mpg['class'], mpg['trans_simple'])"
   ]
  },
  {
   "cell_type": "code",
   "execution_count": 173,
   "id": "024d710a",
   "metadata": {},
   "outputs": [
    {
     "data": {
      "text/plain": [
       "(33.7700251570052, 7.4513729838250925e-06)"
      ]
     },
     "execution_count": 173,
     "metadata": {},
     "output_type": "execute_result"
    }
   ],
   "source": [
    "chi2, p, degf, expected = stats.chi2_contingency(pd.crosstab(mpg['class'], mpg['trans_simple']))\n",
    "chi2, p"
   ]
  },
  {
   "cell_type": "code",
   "execution_count": null,
   "id": "7fa91004",
   "metadata": {},
   "outputs": [],
   "source": []
  },
  {
   "cell_type": "markdown",
   "id": "0f3e7017",
   "metadata": {},
   "source": [
    "4. Use the data from the employees database to answer these questions:"
   ]
  },
  {
   "cell_type": "code",
   "execution_count": 92,
   "id": "e4b8eca9",
   "metadata": {},
   "outputs": [
    {
     "data": {
      "text/html": [
       "<div>\n",
       "<style scoped>\n",
       "    .dataframe tbody tr th:only-of-type {\n",
       "        vertical-align: middle;\n",
       "    }\n",
       "\n",
       "    .dataframe tbody tr th {\n",
       "        vertical-align: top;\n",
       "    }\n",
       "\n",
       "    .dataframe thead th {\n",
       "        text-align: right;\n",
       "    }\n",
       "</style>\n",
       "<table border=\"1\" class=\"dataframe\">\n",
       "  <thead>\n",
       "    <tr style=\"text-align: right;\">\n",
       "      <th></th>\n",
       "      <th>emp_no</th>\n",
       "      <th>birth_date</th>\n",
       "      <th>first_name</th>\n",
       "      <th>last_name</th>\n",
       "      <th>gender</th>\n",
       "      <th>hire_date</th>\n",
       "      <th>salary</th>\n",
       "      <th>from_date</th>\n",
       "      <th>to_date</th>\n",
       "    </tr>\n",
       "  </thead>\n",
       "  <tbody>\n",
       "    <tr>\n",
       "      <th>0</th>\n",
       "      <td>10001</td>\n",
       "      <td>1953-09-02</td>\n",
       "      <td>Georgi</td>\n",
       "      <td>Facello</td>\n",
       "      <td>M</td>\n",
       "      <td>1986-06-26</td>\n",
       "      <td>88958</td>\n",
       "      <td>2002-06-22</td>\n",
       "      <td>9999-01-01</td>\n",
       "    </tr>\n",
       "    <tr>\n",
       "      <th>1</th>\n",
       "      <td>10002</td>\n",
       "      <td>1964-06-02</td>\n",
       "      <td>Bezalel</td>\n",
       "      <td>Simmel</td>\n",
       "      <td>F</td>\n",
       "      <td>1985-11-21</td>\n",
       "      <td>72527</td>\n",
       "      <td>2001-08-02</td>\n",
       "      <td>9999-01-01</td>\n",
       "    </tr>\n",
       "    <tr>\n",
       "      <th>2</th>\n",
       "      <td>10003</td>\n",
       "      <td>1959-12-03</td>\n",
       "      <td>Parto</td>\n",
       "      <td>Bamford</td>\n",
       "      <td>M</td>\n",
       "      <td>1986-08-28</td>\n",
       "      <td>43311</td>\n",
       "      <td>2001-12-01</td>\n",
       "      <td>9999-01-01</td>\n",
       "    </tr>\n",
       "    <tr>\n",
       "      <th>3</th>\n",
       "      <td>10004</td>\n",
       "      <td>1954-05-01</td>\n",
       "      <td>Chirstian</td>\n",
       "      <td>Koblick</td>\n",
       "      <td>M</td>\n",
       "      <td>1986-12-01</td>\n",
       "      <td>74057</td>\n",
       "      <td>2001-11-27</td>\n",
       "      <td>9999-01-01</td>\n",
       "    </tr>\n",
       "    <tr>\n",
       "      <th>4</th>\n",
       "      <td>10005</td>\n",
       "      <td>1955-01-21</td>\n",
       "      <td>Kyoichi</td>\n",
       "      <td>Maliniak</td>\n",
       "      <td>M</td>\n",
       "      <td>1989-09-12</td>\n",
       "      <td>94692</td>\n",
       "      <td>2001-09-09</td>\n",
       "      <td>9999-01-01</td>\n",
       "    </tr>\n",
       "  </tbody>\n",
       "</table>\n",
       "</div>"
      ],
      "text/plain": [
       "   emp_no  birth_date first_name last_name gender   hire_date  salary  \\\n",
       "0   10001  1953-09-02     Georgi   Facello      M  1986-06-26   88958   \n",
       "1   10002  1964-06-02    Bezalel    Simmel      F  1985-11-21   72527   \n",
       "2   10003  1959-12-03      Parto   Bamford      M  1986-08-28   43311   \n",
       "3   10004  1954-05-01  Chirstian   Koblick      M  1986-12-01   74057   \n",
       "4   10005  1955-01-21    Kyoichi  Maliniak      M  1989-09-12   94692   \n",
       "\n",
       "    from_date     to_date  \n",
       "0  2002-06-22  9999-01-01  \n",
       "1  2001-08-02  9999-01-01  \n",
       "2  2001-12-01  9999-01-01  \n",
       "3  2001-11-27  9999-01-01  \n",
       "4  2001-09-09  9999-01-01  "
      ]
     },
     "execution_count": 92,
     "metadata": {},
     "output_type": "execute_result"
    }
   ],
   "source": [
    "df.head()"
   ]
  },
  {
   "cell_type": "code",
   "execution_count": 102,
   "id": "81aa451d",
   "metadata": {},
   "outputs": [
    {
     "data": {
      "text/html": [
       "<div>\n",
       "<style scoped>\n",
       "    .dataframe tbody tr th:only-of-type {\n",
       "        vertical-align: middle;\n",
       "    }\n",
       "\n",
       "    .dataframe tbody tr th {\n",
       "        vertical-align: top;\n",
       "    }\n",
       "\n",
       "    .dataframe thead th {\n",
       "        text-align: right;\n",
       "    }\n",
       "</style>\n",
       "<table border=\"1\" class=\"dataframe\">\n",
       "  <thead>\n",
       "    <tr style=\"text-align: right;\">\n",
       "      <th></th>\n",
       "      <th>emp_no</th>\n",
       "      <th>birth_date</th>\n",
       "      <th>first_name</th>\n",
       "      <th>last_name</th>\n",
       "      <th>gender</th>\n",
       "      <th>hire_date</th>\n",
       "      <th>emp_no</th>\n",
       "      <th>dept_no</th>\n",
       "      <th>from_date</th>\n",
       "      <th>to_date</th>\n",
       "      <th>dept_no</th>\n",
       "      <th>dept_name</th>\n",
       "      <th>emp_no</th>\n",
       "      <th>salary</th>\n",
       "      <th>from_date</th>\n",
       "      <th>to_date</th>\n",
       "    </tr>\n",
       "  </thead>\n",
       "  <tbody>\n",
       "    <tr>\n",
       "      <th>0</th>\n",
       "      <td>498170</td>\n",
       "      <td>1954-01-17</td>\n",
       "      <td>Rafail</td>\n",
       "      <td>Leppanen</td>\n",
       "      <td>M</td>\n",
       "      <td>1997-05-16</td>\n",
       "      <td>498170</td>\n",
       "      <td>d009</td>\n",
       "      <td>1997-05-16</td>\n",
       "      <td>9999-01-01</td>\n",
       "      <td>d009</td>\n",
       "      <td>Customer Service</td>\n",
       "      <td>498170</td>\n",
       "      <td>51190</td>\n",
       "      <td>2002-05-15</td>\n",
       "      <td>9999-01-01</td>\n",
       "    </tr>\n",
       "    <tr>\n",
       "      <th>1</th>\n",
       "      <td>498177</td>\n",
       "      <td>1962-12-28</td>\n",
       "      <td>Marsja</td>\n",
       "      <td>Birsak</td>\n",
       "      <td>M</td>\n",
       "      <td>1990-07-17</td>\n",
       "      <td>498177</td>\n",
       "      <td>d009</td>\n",
       "      <td>1997-05-13</td>\n",
       "      <td>9999-01-01</td>\n",
       "      <td>d009</td>\n",
       "      <td>Customer Service</td>\n",
       "      <td>498177</td>\n",
       "      <td>52046</td>\n",
       "      <td>2002-05-12</td>\n",
       "      <td>9999-01-01</td>\n",
       "    </tr>\n",
       "    <tr>\n",
       "      <th>2</th>\n",
       "      <td>498178</td>\n",
       "      <td>1962-11-23</td>\n",
       "      <td>Sanjay</td>\n",
       "      <td>Glinert</td>\n",
       "      <td>M</td>\n",
       "      <td>1988-07-24</td>\n",
       "      <td>498178</td>\n",
       "      <td>d009</td>\n",
       "      <td>1988-07-24</td>\n",
       "      <td>9999-01-01</td>\n",
       "      <td>d009</td>\n",
       "      <td>Customer Service</td>\n",
       "      <td>498178</td>\n",
       "      <td>70307</td>\n",
       "      <td>2002-07-21</td>\n",
       "      <td>9999-01-01</td>\n",
       "    </tr>\n",
       "    <tr>\n",
       "      <th>3</th>\n",
       "      <td>498209</td>\n",
       "      <td>1963-06-17</td>\n",
       "      <td>Amabile</td>\n",
       "      <td>Snedden</td>\n",
       "      <td>F</td>\n",
       "      <td>1987-01-03</td>\n",
       "      <td>498209</td>\n",
       "      <td>d009</td>\n",
       "      <td>1999-12-24</td>\n",
       "      <td>9999-01-01</td>\n",
       "      <td>d009</td>\n",
       "      <td>Customer Service</td>\n",
       "      <td>498209</td>\n",
       "      <td>46083</td>\n",
       "      <td>2002-07-20</td>\n",
       "      <td>9999-01-01</td>\n",
       "    </tr>\n",
       "    <tr>\n",
       "      <th>4</th>\n",
       "      <td>498210</td>\n",
       "      <td>1961-10-12</td>\n",
       "      <td>Fuqing</td>\n",
       "      <td>Callaway</td>\n",
       "      <td>M</td>\n",
       "      <td>1993-02-11</td>\n",
       "      <td>498210</td>\n",
       "      <td>d009</td>\n",
       "      <td>1998-05-16</td>\n",
       "      <td>9999-01-01</td>\n",
       "      <td>d009</td>\n",
       "      <td>Customer Service</td>\n",
       "      <td>498210</td>\n",
       "      <td>52159</td>\n",
       "      <td>2002-05-15</td>\n",
       "      <td>9999-01-01</td>\n",
       "    </tr>\n",
       "  </tbody>\n",
       "</table>\n",
       "</div>"
      ],
      "text/plain": [
       "   emp_no  birth_date first_name last_name gender   hire_date  emp_no dept_no  \\\n",
       "0  498170  1954-01-17     Rafail  Leppanen      M  1997-05-16  498170    d009   \n",
       "1  498177  1962-12-28     Marsja    Birsak      M  1990-07-17  498177    d009   \n",
       "2  498178  1962-11-23     Sanjay   Glinert      M  1988-07-24  498178    d009   \n",
       "3  498209  1963-06-17    Amabile   Snedden      F  1987-01-03  498209    d009   \n",
       "4  498210  1961-10-12     Fuqing  Callaway      M  1993-02-11  498210    d009   \n",
       "\n",
       "    from_date     to_date dept_no         dept_name  emp_no  salary  \\\n",
       "0  1997-05-16  9999-01-01    d009  Customer Service  498170   51190   \n",
       "1  1997-05-13  9999-01-01    d009  Customer Service  498177   52046   \n",
       "2  1988-07-24  9999-01-01    d009  Customer Service  498178   70307   \n",
       "3  1999-12-24  9999-01-01    d009  Customer Service  498209   46083   \n",
       "4  1998-05-16  9999-01-01    d009  Customer Service  498210   52159   \n",
       "\n",
       "    from_date     to_date  \n",
       "0  2002-05-15  9999-01-01  \n",
       "1  2002-05-12  9999-01-01  \n",
       "2  2002-07-21  9999-01-01  \n",
       "3  2002-07-20  9999-01-01  \n",
       "4  2002-05-15  9999-01-01  "
      ]
     },
     "execution_count": 102,
     "metadata": {},
     "output_type": "execute_result"
    }
   ],
   "source": [
    "def get_db_url(username, password, host, db):\n",
    "    return f'mysql+pymysql://{username}:{password}@{host}/{db}'\n",
    "\n",
    "url = get_db_url(env.user, env.password, env.host, db='employees') # run a sql querry joining the salaries table to the employees table to retrieve the from and to date columns along with the salaries.\n",
    "\n",
    "query = '''\n",
    "SELECT *\n",
    "FROM employees AS e\n",
    "JOIN dept_emp AS de\n",
    "ON de.emp_no = e.emp_no\n",
    "JOIN departments AS d\n",
    "ON d.dept_no = de.dept_no\n",
    "JOIN salaries AS s\n",
    "ON s.emp_no = e.emp_no\n",
    "WHERE s.to_date = '9999-01-01'\n",
    "ORDER BY d.dept_name;\n",
    "'''\n",
    "\n",
    "df = pd.read_sql(query, url)\n",
    "df.head()"
   ]
  },
  {
   "cell_type": "markdown",
   "id": "34d9f3e5",
   "metadata": {},
   "source": [
    "- Is an employee's gender independent of whether an employee works in sales or marketing? (only look at current employees)"
   ]
  },
  {
   "cell_type": "markdown",
   "id": "9a343a59",
   "metadata": {},
   "source": [
    "𝐻0  (Null Hypothesis): An employee's gender is independent of whether they work in sales or maketing.\n",
    "\n",
    "𝐻𝑎  (Alternative Hypothesis): An employee's gender is dependent on whether they work in sales or marketing."
   ]
  },
  {
   "cell_type": "code",
   "execution_count": 103,
   "id": "e7c16202",
   "metadata": {},
   "outputs": [
    {
     "data": {
      "text/plain": [
       "M    159209\n",
       "F    106123\n",
       "Name: gender, dtype: int64"
      ]
     },
     "execution_count": 103,
     "metadata": {},
     "output_type": "execute_result"
    }
   ],
   "source": [
    "df['gender'].value_counts()"
   ]
  },
  {
   "cell_type": "code",
   "execution_count": 104,
   "id": "8db0ccbc",
   "metadata": {},
   "outputs": [
    {
     "data": {
      "text/plain": [
       "Development           68392\n",
       "Production            58706\n",
       "Sales                 42000\n",
       "Customer Service      18978\n",
       "Research              16904\n",
       "Marketing             16252\n",
       "Quality Management    15990\n",
       "Human Resources       14260\n",
       "Finance               13850\n",
       "Name: dept_name, dtype: int64"
      ]
     },
     "execution_count": 104,
     "metadata": {},
     "output_type": "execute_result"
    }
   ],
   "source": [
    "df['dept_name'].value_counts()"
   ]
  },
  {
   "cell_type": "code",
   "execution_count": 121,
   "id": "a9705aca",
   "metadata": {},
   "outputs": [],
   "source": [
    "df['dept_name_df'] = (df['dept_name'] == 'Sales').astype('int') | (df['dept_name'] == 'Marketing').astype('int')\n"
   ]
  },
  {
   "cell_type": "code",
   "execution_count": 122,
   "id": "92032cb4",
   "metadata": {},
   "outputs": [
    {
     "data": {
      "text/html": [
       "<div>\n",
       "<style scoped>\n",
       "    .dataframe tbody tr th:only-of-type {\n",
       "        vertical-align: middle;\n",
       "    }\n",
       "\n",
       "    .dataframe tbody tr th {\n",
       "        vertical-align: top;\n",
       "    }\n",
       "\n",
       "    .dataframe thead th {\n",
       "        text-align: right;\n",
       "    }\n",
       "</style>\n",
       "<table border=\"1\" class=\"dataframe\">\n",
       "  <thead>\n",
       "    <tr style=\"text-align: right;\">\n",
       "      <th>dept_name_df</th>\n",
       "      <th>0</th>\n",
       "      <th>1</th>\n",
       "    </tr>\n",
       "    <tr>\n",
       "      <th>gender</th>\n",
       "      <th></th>\n",
       "      <th></th>\n",
       "    </tr>\n",
       "  </thead>\n",
       "  <tbody>\n",
       "    <tr>\n",
       "      <th>F</th>\n",
       "      <td>82996</td>\n",
       "      <td>23127</td>\n",
       "    </tr>\n",
       "    <tr>\n",
       "      <th>M</th>\n",
       "      <td>124084</td>\n",
       "      <td>35125</td>\n",
       "    </tr>\n",
       "  </tbody>\n",
       "</table>\n",
       "</div>"
      ],
      "text/plain": [
       "dept_name_df       0      1\n",
       "gender                     \n",
       "F              82996  23127\n",
       "M             124084  35125"
      ]
     },
     "execution_count": 122,
     "metadata": {},
     "output_type": "execute_result"
    }
   ],
   "source": [
    "\n",
    "observed = pd.crosstab(df.gender, df.dept_name_df)\n",
    "observed"
   ]
  },
  {
   "cell_type": "code",
   "execution_count": 123,
   "id": "62df3a4b",
   "metadata": {},
   "outputs": [],
   "source": [
    "alpha = .05\n",
    "chi2, p, df, expected = stats.chi2_contingency(observed)"
   ]
  },
  {
   "cell_type": "code",
   "execution_count": 124,
   "id": "b78d1209",
   "metadata": {},
   "outputs": [
    {
     "name": "stdout",
     "output_type": "stream",
     "text": [
      "Observed Values\n",
      "\n",
      "[[ 82996  23127]\n",
      " [124084  35125]]\n",
      "---\n",
      "Expected Values\n",
      "\n",
      "[[ 82824.3515294  23298.6484706]\n",
      " [124255.6484706  34953.3515294]]\n",
      "---\n",
      "\n",
      "chi^2 = 2.6847\n",
      "p-value = 0.1013\n",
      "Is p-value < alpha? False\n"
     ]
    }
   ],
   "source": [
    "# print 'Observed Values' followed by a new line\n",
    "print('Observed Values\\n')\n",
    "\n",
    "# print the values from the 'observed' dataframe\n",
    "print(observed.values)\n",
    "\n",
    "# print --- and then a new line, 'Expected Values', followed by another new line\n",
    "print('---\\nExpected Values\\n')\n",
    "\n",
    "# print the expected values array\n",
    "print(expected)\n",
    "\n",
    "# print a new line\n",
    "print('---\\n')\n",
    "\n",
    "# print the chi2 value, formatted to a float with 4 digits. \n",
    "print(f'chi^2 = {chi2:.4f}') \n",
    "\n",
    "# print the p-value, formatted to a float with 4 digits. \n",
    "print(f'p-value = {p:.4f}')\n",
    "print('Is p-value < alpha?', p < alpha)"
   ]
  },
  {
   "cell_type": "markdown",
   "id": "a3aa2e0f",
   "metadata": {},
   "source": [
    "**Takeaways**\n",
    "\n",
    "We can see by comparing the contingency tables that the observed values are very close to the expected values. We can confirm that, with the data available, there does not appear to be a significant relationship between gender of the employees and sales or marketing. We accept the null hypothesis."
   ]
  },
  {
   "cell_type": "markdown",
   "id": "d161fc73",
   "metadata": {},
   "source": [
    "# Review Question 4A"
   ]
  },
  {
   "cell_type": "code",
   "execution_count": 174,
   "id": "a952c730",
   "metadata": {},
   "outputs": [],
   "source": [
    "query = '''\n",
    "SELECT gender, dept_name\n",
    "FROM employees\n",
    "JOIN dept_emp USING(emp_no)\n",
    "JOIN departments USING(dept_no)\n",
    "WHERE to_date > CURDATE()\n",
    "AND dept_name IN ('Sales', 'Marketing');\n",
    "'''"
   ]
  },
  {
   "cell_type": "code",
   "execution_count": 175,
   "id": "daf187f6",
   "metadata": {},
   "outputs": [
    {
     "data": {
      "text/html": [
       "<div>\n",
       "<style scoped>\n",
       "    .dataframe tbody tr th:only-of-type {\n",
       "        vertical-align: middle;\n",
       "    }\n",
       "\n",
       "    .dataframe tbody tr th {\n",
       "        vertical-align: top;\n",
       "    }\n",
       "\n",
       "    .dataframe thead th {\n",
       "        text-align: right;\n",
       "    }\n",
       "</style>\n",
       "<table border=\"1\" class=\"dataframe\">\n",
       "  <thead>\n",
       "    <tr style=\"text-align: right;\">\n",
       "      <th></th>\n",
       "      <th>gender</th>\n",
       "      <th>dept_name</th>\n",
       "    </tr>\n",
       "  </thead>\n",
       "  <tbody>\n",
       "    <tr>\n",
       "      <th>0</th>\n",
       "      <td>F</td>\n",
       "      <td>Marketing</td>\n",
       "    </tr>\n",
       "    <tr>\n",
       "      <th>1</th>\n",
       "      <td>M</td>\n",
       "      <td>Marketing</td>\n",
       "    </tr>\n",
       "    <tr>\n",
       "      <th>2</th>\n",
       "      <td>F</td>\n",
       "      <td>Marketing</td>\n",
       "    </tr>\n",
       "    <tr>\n",
       "      <th>3</th>\n",
       "      <td>F</td>\n",
       "      <td>Marketing</td>\n",
       "    </tr>\n",
       "    <tr>\n",
       "      <th>4</th>\n",
       "      <td>F</td>\n",
       "      <td>Marketing</td>\n",
       "    </tr>\n",
       "  </tbody>\n",
       "</table>\n",
       "</div>"
      ],
      "text/plain": [
       "  gender  dept_name\n",
       "0      F  Marketing\n",
       "1      M  Marketing\n",
       "2      F  Marketing\n",
       "3      F  Marketing\n",
       "4      F  Marketing"
      ]
     },
     "execution_count": 175,
     "metadata": {},
     "output_type": "execute_result"
    }
   ],
   "source": [
    "emp = pd.read_sql(query, url)\n",
    "emp.head()"
   ]
  },
  {
   "cell_type": "code",
   "execution_count": 176,
   "id": "4694c0a6",
   "metadata": {},
   "outputs": [
    {
     "data": {
      "text/html": [
       "<div>\n",
       "<style scoped>\n",
       "    .dataframe tbody tr th:only-of-type {\n",
       "        vertical-align: middle;\n",
       "    }\n",
       "\n",
       "    .dataframe tbody tr th {\n",
       "        vertical-align: top;\n",
       "    }\n",
       "\n",
       "    .dataframe thead th {\n",
       "        text-align: right;\n",
       "    }\n",
       "</style>\n",
       "<table border=\"1\" class=\"dataframe\">\n",
       "  <thead>\n",
       "    <tr style=\"text-align: right;\">\n",
       "      <th>dept_name</th>\n",
       "      <th>Marketing</th>\n",
       "      <th>Sales</th>\n",
       "    </tr>\n",
       "    <tr>\n",
       "      <th>gender</th>\n",
       "      <th></th>\n",
       "      <th></th>\n",
       "    </tr>\n",
       "  </thead>\n",
       "  <tbody>\n",
       "    <tr>\n",
       "      <th>F</th>\n",
       "      <td>5864</td>\n",
       "      <td>14999</td>\n",
       "    </tr>\n",
       "    <tr>\n",
       "      <th>M</th>\n",
       "      <td>8978</td>\n",
       "      <td>22702</td>\n",
       "    </tr>\n",
       "  </tbody>\n",
       "</table>\n",
       "</div>"
      ],
      "text/plain": [
       "dept_name  Marketing  Sales\n",
       "gender                     \n",
       "F               5864  14999\n",
       "M               8978  22702"
      ]
     },
     "execution_count": 176,
     "metadata": {},
     "output_type": "execute_result"
    }
   ],
   "source": [
    "pd.crosstab(emp['gender'], emp['dept_name'])"
   ]
  },
  {
   "cell_type": "code",
   "execution_count": 178,
   "id": "6403ebe7",
   "metadata": {},
   "outputs": [
    {
     "data": {
      "text/plain": [
       "(0.3240332004060638, 0.5691938610810126)"
      ]
     },
     "execution_count": 178,
     "metadata": {},
     "output_type": "execute_result"
    }
   ],
   "source": [
    "chi2, p, degf, expected = stats.chi2_contingency(pd.crosstab(emp['gender'], emp['dept_name']))\n",
    "chi2, p"
   ]
  },
  {
   "cell_type": "code",
   "execution_count": 179,
   "id": "db63eab4",
   "metadata": {},
   "outputs": [
    {
     "data": {
      "text/plain": [
       "array([[ 5893.2426013, 14969.7573987],\n",
       "       [ 8948.7573987, 22731.2426013]])"
      ]
     },
     "execution_count": 179,
     "metadata": {},
     "output_type": "execute_result"
    }
   ],
   "source": [
    "expected"
   ]
  },
  {
   "cell_type": "code",
   "execution_count": null,
   "id": "6a292d87",
   "metadata": {},
   "outputs": [],
   "source": []
  },
  {
   "cell_type": "markdown",
   "id": "f95434f0",
   "metadata": {},
   "source": [
    "- Is an employee's gender independent of whether or not they are or have been a manager?"
   ]
  },
  {
   "cell_type": "code",
   "execution_count": 133,
   "id": "a3eae6f4",
   "metadata": {},
   "outputs": [],
   "source": [
    "query = '''\n",
    "SELECT *\n",
    "FROM employees AS e\n",
    "JOIN dept_manager AS dm\n",
    "ON dm.emp_no = e.emp_no\n",
    "JOIN departments AS d\n",
    "ON d.dept_no = dm.dept_no\n",
    "JOIN salaries AS s\n",
    "ON s.emp_no = dm.emp_no\n",
    "ORDER BY d.dept_name;\n",
    "'''"
   ]
  },
  {
   "cell_type": "code",
   "execution_count": 134,
   "id": "ba7242a7",
   "metadata": {},
   "outputs": [
    {
     "data": {
      "text/html": [
       "<div>\n",
       "<style scoped>\n",
       "    .dataframe tbody tr th:only-of-type {\n",
       "        vertical-align: middle;\n",
       "    }\n",
       "\n",
       "    .dataframe tbody tr th {\n",
       "        vertical-align: top;\n",
       "    }\n",
       "\n",
       "    .dataframe thead th {\n",
       "        text-align: right;\n",
       "    }\n",
       "</style>\n",
       "<table border=\"1\" class=\"dataframe\">\n",
       "  <thead>\n",
       "    <tr style=\"text-align: right;\">\n",
       "      <th></th>\n",
       "      <th>emp_no</th>\n",
       "      <th>birth_date</th>\n",
       "      <th>first_name</th>\n",
       "      <th>last_name</th>\n",
       "      <th>gender</th>\n",
       "      <th>hire_date</th>\n",
       "      <th>emp_no</th>\n",
       "      <th>dept_no</th>\n",
       "      <th>from_date</th>\n",
       "      <th>to_date</th>\n",
       "      <th>dept_no</th>\n",
       "      <th>dept_name</th>\n",
       "      <th>emp_no</th>\n",
       "      <th>salary</th>\n",
       "      <th>from_date</th>\n",
       "      <th>to_date</th>\n",
       "    </tr>\n",
       "  </thead>\n",
       "  <tbody>\n",
       "    <tr>\n",
       "      <th>0</th>\n",
       "      <td>111692</td>\n",
       "      <td>1954-10-05</td>\n",
       "      <td>Tonny</td>\n",
       "      <td>Butterworth</td>\n",
       "      <td>F</td>\n",
       "      <td>1985-01-01</td>\n",
       "      <td>111692</td>\n",
       "      <td>d009</td>\n",
       "      <td>1985-01-01</td>\n",
       "      <td>1988-10-17</td>\n",
       "      <td>d009</td>\n",
       "      <td>Customer Service</td>\n",
       "      <td>111692</td>\n",
       "      <td>40000</td>\n",
       "      <td>1985-01-01</td>\n",
       "      <td>1986-01-01</td>\n",
       "    </tr>\n",
       "    <tr>\n",
       "      <th>1</th>\n",
       "      <td>111692</td>\n",
       "      <td>1954-10-05</td>\n",
       "      <td>Tonny</td>\n",
       "      <td>Butterworth</td>\n",
       "      <td>F</td>\n",
       "      <td>1985-01-01</td>\n",
       "      <td>111692</td>\n",
       "      <td>d009</td>\n",
       "      <td>1985-01-01</td>\n",
       "      <td>1988-10-17</td>\n",
       "      <td>d009</td>\n",
       "      <td>Customer Service</td>\n",
       "      <td>111692</td>\n",
       "      <td>42706</td>\n",
       "      <td>1986-01-01</td>\n",
       "      <td>1987-01-01</td>\n",
       "    </tr>\n",
       "    <tr>\n",
       "      <th>2</th>\n",
       "      <td>111692</td>\n",
       "      <td>1954-10-05</td>\n",
       "      <td>Tonny</td>\n",
       "      <td>Butterworth</td>\n",
       "      <td>F</td>\n",
       "      <td>1985-01-01</td>\n",
       "      <td>111692</td>\n",
       "      <td>d009</td>\n",
       "      <td>1985-01-01</td>\n",
       "      <td>1988-10-17</td>\n",
       "      <td>d009</td>\n",
       "      <td>Customer Service</td>\n",
       "      <td>111692</td>\n",
       "      <td>46154</td>\n",
       "      <td>1987-01-01</td>\n",
       "      <td>1988-01-01</td>\n",
       "    </tr>\n",
       "    <tr>\n",
       "      <th>3</th>\n",
       "      <td>111692</td>\n",
       "      <td>1954-10-05</td>\n",
       "      <td>Tonny</td>\n",
       "      <td>Butterworth</td>\n",
       "      <td>F</td>\n",
       "      <td>1985-01-01</td>\n",
       "      <td>111692</td>\n",
       "      <td>d009</td>\n",
       "      <td>1985-01-01</td>\n",
       "      <td>1988-10-17</td>\n",
       "      <td>d009</td>\n",
       "      <td>Customer Service</td>\n",
       "      <td>111692</td>\n",
       "      <td>46488</td>\n",
       "      <td>1988-01-01</td>\n",
       "      <td>1988-12-31</td>\n",
       "    </tr>\n",
       "    <tr>\n",
       "      <th>4</th>\n",
       "      <td>111692</td>\n",
       "      <td>1954-10-05</td>\n",
       "      <td>Tonny</td>\n",
       "      <td>Butterworth</td>\n",
       "      <td>F</td>\n",
       "      <td>1985-01-01</td>\n",
       "      <td>111692</td>\n",
       "      <td>d009</td>\n",
       "      <td>1985-01-01</td>\n",
       "      <td>1988-10-17</td>\n",
       "      <td>d009</td>\n",
       "      <td>Customer Service</td>\n",
       "      <td>111692</td>\n",
       "      <td>49839</td>\n",
       "      <td>1988-12-31</td>\n",
       "      <td>1989-12-31</td>\n",
       "    </tr>\n",
       "  </tbody>\n",
       "</table>\n",
       "</div>"
      ],
      "text/plain": [
       "   emp_no  birth_date first_name    last_name gender   hire_date  emp_no  \\\n",
       "0  111692  1954-10-05      Tonny  Butterworth      F  1985-01-01  111692   \n",
       "1  111692  1954-10-05      Tonny  Butterworth      F  1985-01-01  111692   \n",
       "2  111692  1954-10-05      Tonny  Butterworth      F  1985-01-01  111692   \n",
       "3  111692  1954-10-05      Tonny  Butterworth      F  1985-01-01  111692   \n",
       "4  111692  1954-10-05      Tonny  Butterworth      F  1985-01-01  111692   \n",
       "\n",
       "  dept_no   from_date     to_date dept_no         dept_name  emp_no  salary  \\\n",
       "0    d009  1985-01-01  1988-10-17    d009  Customer Service  111692   40000   \n",
       "1    d009  1985-01-01  1988-10-17    d009  Customer Service  111692   42706   \n",
       "2    d009  1985-01-01  1988-10-17    d009  Customer Service  111692   46154   \n",
       "3    d009  1985-01-01  1988-10-17    d009  Customer Service  111692   46488   \n",
       "4    d009  1985-01-01  1988-10-17    d009  Customer Service  111692   49839   \n",
       "\n",
       "    from_date     to_date  \n",
       "0  1985-01-01  1986-01-01  \n",
       "1  1986-01-01  1987-01-01  \n",
       "2  1987-01-01  1988-01-01  \n",
       "3  1988-01-01  1988-12-31  \n",
       "4  1988-12-31  1989-12-31  "
      ]
     },
     "execution_count": 134,
     "metadata": {},
     "output_type": "execute_result"
    }
   ],
   "source": [
    "df = pd.read_sql(query, url)\n",
    "df.head()"
   ]
  },
  {
   "cell_type": "markdown",
   "id": "d5d273e0",
   "metadata": {},
   "source": [
    "𝐻0  (Null Hypothesis): An employee's gender is independent of whether they are or have been a manager.\n",
    "\n",
    "𝐻𝑎  (Alternative Hypothesis): An employee's gender is dependent on whether or not they are or have been a manager."
   ]
  },
  {
   "cell_type": "code",
   "execution_count": 135,
   "id": "78f26fa8",
   "metadata": {},
   "outputs": [
    {
     "data": {
      "text/plain": [
       "F    212\n",
       "M    176\n",
       "Name: gender, dtype: int64"
      ]
     },
     "execution_count": 135,
     "metadata": {},
     "output_type": "execute_result"
    }
   ],
   "source": [
    "df['gender'].value_counts()"
   ]
  },
  {
   "cell_type": "code",
   "execution_count": 149,
   "id": "6d1d1ec1",
   "metadata": {},
   "outputs": [
    {
     "data": {
      "text/plain": [
       "0      72\n",
       "1      72\n",
       "2      72\n",
       "3      72\n",
       "4      72\n",
       "       ..\n",
       "383    72\n",
       "384    72\n",
       "385    72\n",
       "386    72\n",
       "387    72\n",
       "Name: is_manager, Length: 388, dtype: int64"
      ]
     },
     "execution_count": 149,
     "metadata": {},
     "output_type": "execute_result"
    }
   ],
   "source": [
    "df['is_manager'] = df['emp_no'].nunique().sum()\n",
    "df.is_manager"
   ]
  },
  {
   "cell_type": "code",
   "execution_count": 150,
   "id": "9c3be925",
   "metadata": {},
   "outputs": [
    {
     "data": {
      "text/html": [
       "<div>\n",
       "<style scoped>\n",
       "    .dataframe tbody tr th:only-of-type {\n",
       "        vertical-align: middle;\n",
       "    }\n",
       "\n",
       "    .dataframe tbody tr th {\n",
       "        vertical-align: top;\n",
       "    }\n",
       "\n",
       "    .dataframe thead th {\n",
       "        text-align: right;\n",
       "    }\n",
       "</style>\n",
       "<table border=\"1\" class=\"dataframe\">\n",
       "  <thead>\n",
       "    <tr style=\"text-align: right;\">\n",
       "      <th>is_manager</th>\n",
       "      <th>72</th>\n",
       "    </tr>\n",
       "    <tr>\n",
       "      <th>gender</th>\n",
       "      <th></th>\n",
       "    </tr>\n",
       "  </thead>\n",
       "  <tbody>\n",
       "    <tr>\n",
       "      <th>F</th>\n",
       "      <td>212</td>\n",
       "    </tr>\n",
       "    <tr>\n",
       "      <th>M</th>\n",
       "      <td>176</td>\n",
       "    </tr>\n",
       "  </tbody>\n",
       "</table>\n",
       "</div>"
      ],
      "text/plain": [
       "is_manager   72\n",
       "gender         \n",
       "F           212\n",
       "M           176"
      ]
     },
     "execution_count": 150,
     "metadata": {},
     "output_type": "execute_result"
    }
   ],
   "source": [
    "observed = pd.crosstab(df.gender, df.is_manager)\n",
    "observed"
   ]
  },
  {
   "cell_type": "code",
   "execution_count": 151,
   "id": "72a38f50",
   "metadata": {},
   "outputs": [],
   "source": [
    "alpha = .05\n",
    "chi2, p, df, expected = stats.chi2_contingency(observed)"
   ]
  },
  {
   "cell_type": "code",
   "execution_count": 152,
   "id": "70c0900a",
   "metadata": {},
   "outputs": [
    {
     "name": "stdout",
     "output_type": "stream",
     "text": [
      "Observed Values\n",
      "\n",
      "[[212]\n",
      " [176]]\n",
      "---\n",
      "Expected Values\n",
      "\n",
      "[[212.]\n",
      " [176.]]\n",
      "---\n",
      "\n",
      "chi^2 = 0.0000\n",
      "p-value = 1.0000\n",
      "Is p-value < alpha? False\n"
     ]
    }
   ],
   "source": [
    "# print 'Observed Values' followed by a new line\n",
    "print('Observed Values\\n')\n",
    "\n",
    "# print the values from the 'observed' dataframe\n",
    "print(observed.values)\n",
    "\n",
    "# print --- and then a new line, 'Expected Values', followed by another new line\n",
    "print('---\\nExpected Values\\n')\n",
    "\n",
    "# print the expected values array\n",
    "print(expected)\n",
    "\n",
    "# print a new line\n",
    "print('---\\n')\n",
    "\n",
    "# print the chi2 value, formatted to a float with 4 digits. \n",
    "print(f'chi^2 = {chi2:.4f}') \n",
    "\n",
    "# print the p-value, formatted to a float with 4 digits. \n",
    "print(f'p-value = {p:.4f}')\n",
    "print('Is p-value < alpha?', p < alpha)"
   ]
  },
  {
   "cell_type": "markdown",
   "id": "b832d75e",
   "metadata": {},
   "source": [
    "**Takeaways**\n",
    "\n",
    "We can see by comparing the contingency tables that the observed values are very close to the expected values. We can confirm that, with the data available, there does not appear to be a significant relationship between an employee's gender and wheter or not the employee is or was a manager. We accept the null hypothesis."
   ]
  },
  {
   "cell_type": "markdown",
   "id": "855500eb",
   "metadata": {},
   "source": [
    "# Review Question 4B"
   ]
  },
  {
   "cell_type": "code",
   "execution_count": 184,
   "id": "06282c3d",
   "metadata": {},
   "outputs": [],
   "source": [
    "query = '''\n",
    "SELECT gender, dept_no\n",
    "FROM employees\n",
    "LEFT JOIN dept_manager USING(emp_no)\n",
    "'''"
   ]
  },
  {
   "cell_type": "code",
   "execution_count": 185,
   "id": "6d66a1e0",
   "metadata": {},
   "outputs": [
    {
     "data": {
      "text/html": [
       "<div>\n",
       "<style scoped>\n",
       "    .dataframe tbody tr th:only-of-type {\n",
       "        vertical-align: middle;\n",
       "    }\n",
       "\n",
       "    .dataframe tbody tr th {\n",
       "        vertical-align: top;\n",
       "    }\n",
       "\n",
       "    .dataframe thead th {\n",
       "        text-align: right;\n",
       "    }\n",
       "</style>\n",
       "<table border=\"1\" class=\"dataframe\">\n",
       "  <thead>\n",
       "    <tr style=\"text-align: right;\">\n",
       "      <th></th>\n",
       "      <th>gender</th>\n",
       "      <th>dept_no</th>\n",
       "    </tr>\n",
       "  </thead>\n",
       "  <tbody>\n",
       "    <tr>\n",
       "      <th>0</th>\n",
       "      <td>M</td>\n",
       "      <td>None</td>\n",
       "    </tr>\n",
       "    <tr>\n",
       "      <th>1</th>\n",
       "      <td>F</td>\n",
       "      <td>None</td>\n",
       "    </tr>\n",
       "    <tr>\n",
       "      <th>2</th>\n",
       "      <td>M</td>\n",
       "      <td>None</td>\n",
       "    </tr>\n",
       "    <tr>\n",
       "      <th>3</th>\n",
       "      <td>M</td>\n",
       "      <td>None</td>\n",
       "    </tr>\n",
       "    <tr>\n",
       "      <th>4</th>\n",
       "      <td>M</td>\n",
       "      <td>None</td>\n",
       "    </tr>\n",
       "  </tbody>\n",
       "</table>\n",
       "</div>"
      ],
      "text/plain": [
       "  gender dept_no\n",
       "0      M    None\n",
       "1      F    None\n",
       "2      M    None\n",
       "3      M    None\n",
       "4      M    None"
      ]
     },
     "execution_count": 185,
     "metadata": {},
     "output_type": "execute_result"
    }
   ],
   "source": [
    "emp = pd.read_sql(query, url)\n",
    "emp.head()"
   ]
  },
  {
   "cell_type": "code",
   "execution_count": 186,
   "id": "82faa311",
   "metadata": {},
   "outputs": [
    {
     "data": {
      "text/plain": [
       "0         True\n",
       "1         True\n",
       "2         True\n",
       "3         True\n",
       "4         True\n",
       "          ... \n",
       "300019    True\n",
       "300020    True\n",
       "300021    True\n",
       "300022    True\n",
       "300023    True\n",
       "Name: dept_no, Length: 300024, dtype: bool"
      ]
     },
     "execution_count": 186,
     "metadata": {},
     "output_type": "execute_result"
    }
   ],
   "source": [
    "emp['dept_no'].isna()"
   ]
  },
  {
   "cell_type": "code",
   "execution_count": 187,
   "id": "22fec837",
   "metadata": {},
   "outputs": [
    {
     "data": {
      "text/plain": [
       "array(['No', 'No', 'No', ..., 'No', 'No', 'No'], dtype='<U3')"
      ]
     },
     "execution_count": 187,
     "metadata": {},
     "output_type": "execute_result"
    }
   ],
   "source": [
    "np.where(emp['dept_no'].isna(), 'No', 'Yes')"
   ]
  },
  {
   "cell_type": "code",
   "execution_count": 188,
   "id": "3eb9dc0d",
   "metadata": {},
   "outputs": [
    {
     "data": {
      "text/html": [
       "<div>\n",
       "<style scoped>\n",
       "    .dataframe tbody tr th:only-of-type {\n",
       "        vertical-align: middle;\n",
       "    }\n",
       "\n",
       "    .dataframe tbody tr th {\n",
       "        vertical-align: top;\n",
       "    }\n",
       "\n",
       "    .dataframe thead th {\n",
       "        text-align: right;\n",
       "    }\n",
       "</style>\n",
       "<table border=\"1\" class=\"dataframe\">\n",
       "  <thead>\n",
       "    <tr style=\"text-align: right;\">\n",
       "      <th></th>\n",
       "      <th>gender</th>\n",
       "      <th>dept_no</th>\n",
       "      <th>is_manager</th>\n",
       "    </tr>\n",
       "  </thead>\n",
       "  <tbody>\n",
       "    <tr>\n",
       "      <th>0</th>\n",
       "      <td>M</td>\n",
       "      <td>None</td>\n",
       "      <td>No</td>\n",
       "    </tr>\n",
       "    <tr>\n",
       "      <th>1</th>\n",
       "      <td>F</td>\n",
       "      <td>None</td>\n",
       "      <td>No</td>\n",
       "    </tr>\n",
       "    <tr>\n",
       "      <th>2</th>\n",
       "      <td>M</td>\n",
       "      <td>None</td>\n",
       "      <td>No</td>\n",
       "    </tr>\n",
       "    <tr>\n",
       "      <th>3</th>\n",
       "      <td>M</td>\n",
       "      <td>None</td>\n",
       "      <td>No</td>\n",
       "    </tr>\n",
       "    <tr>\n",
       "      <th>4</th>\n",
       "      <td>M</td>\n",
       "      <td>None</td>\n",
       "      <td>No</td>\n",
       "    </tr>\n",
       "  </tbody>\n",
       "</table>\n",
       "</div>"
      ],
      "text/plain": [
       "  gender dept_no is_manager\n",
       "0      M    None         No\n",
       "1      F    None         No\n",
       "2      M    None         No\n",
       "3      M    None         No\n",
       "4      M    None         No"
      ]
     },
     "execution_count": 188,
     "metadata": {},
     "output_type": "execute_result"
    }
   ],
   "source": [
    "emp['is_manager'] = np.where(emp['dept_no'].isna(), 'No', 'Yes')\n",
    "emp.head()"
   ]
  },
  {
   "cell_type": "code",
   "execution_count": 189,
   "id": "88b85aba",
   "metadata": {},
   "outputs": [
    {
     "data": {
      "text/html": [
       "<div>\n",
       "<style scoped>\n",
       "    .dataframe tbody tr th:only-of-type {\n",
       "        vertical-align: middle;\n",
       "    }\n",
       "\n",
       "    .dataframe tbody tr th {\n",
       "        vertical-align: top;\n",
       "    }\n",
       "\n",
       "    .dataframe thead th {\n",
       "        text-align: right;\n",
       "    }\n",
       "</style>\n",
       "<table border=\"1\" class=\"dataframe\">\n",
       "  <thead>\n",
       "    <tr style=\"text-align: right;\">\n",
       "      <th>is_manager</th>\n",
       "      <th>No</th>\n",
       "      <th>Yes</th>\n",
       "    </tr>\n",
       "    <tr>\n",
       "      <th>gender</th>\n",
       "      <th></th>\n",
       "      <th></th>\n",
       "    </tr>\n",
       "  </thead>\n",
       "  <tbody>\n",
       "    <tr>\n",
       "      <th>F</th>\n",
       "      <td>120038</td>\n",
       "      <td>13</td>\n",
       "    </tr>\n",
       "    <tr>\n",
       "      <th>M</th>\n",
       "      <td>179962</td>\n",
       "      <td>11</td>\n",
       "    </tr>\n",
       "  </tbody>\n",
       "</table>\n",
       "</div>"
      ],
      "text/plain": [
       "is_manager      No  Yes\n",
       "gender                 \n",
       "F           120038   13\n",
       "M           179962   11"
      ]
     },
     "execution_count": 189,
     "metadata": {},
     "output_type": "execute_result"
    }
   ],
   "source": [
    "pd.crosstab(emp['gender'], emp['is_manager'])"
   ]
  },
  {
   "cell_type": "code",
   "execution_count": 190,
   "id": "85d1ff87",
   "metadata": {},
   "outputs": [
    {
     "data": {
      "text/plain": [
       "(1.4566857643547197, 0.22745818732810363)"
      ]
     },
     "execution_count": 190,
     "metadata": {},
     "output_type": "execute_result"
    }
   ],
   "source": [
    "chi2, p, degf, expected = stats.chi2_contingency(pd.crosstab(emp['gender'], emp['is_manager']))\n",
    "chi2, p"
   ]
  },
  {
   "cell_type": "code",
   "execution_count": 191,
   "id": "35beb060",
   "metadata": {},
   "outputs": [
    {
     "data": {
      "text/plain": [
       "array([[1.20041397e+05, 9.60331174e+00],\n",
       "       [1.79958603e+05, 1.43966883e+01]])"
      ]
     },
     "execution_count": 191,
     "metadata": {},
     "output_type": "execute_result"
    }
   ],
   "source": [
    "expected"
   ]
  },
  {
   "cell_type": "code",
   "execution_count": null,
   "id": "e3793933",
   "metadata": {},
   "outputs": [],
   "source": []
  }
 ],
 "metadata": {
  "kernelspec": {
   "display_name": "Python 3 (ipykernel)",
   "language": "python",
   "name": "python3"
  },
  "language_info": {
   "codemirror_mode": {
    "name": "ipython",
    "version": 3
   },
   "file_extension": ".py",
   "mimetype": "text/x-python",
   "name": "python",
   "nbconvert_exporter": "python",
   "pygments_lexer": "ipython3",
   "version": "3.9.13"
  }
 },
 "nbformat": 4,
 "nbformat_minor": 5
}
