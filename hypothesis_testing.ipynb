{
 "cells": [
  {
   "cell_type": "markdown",
   "id": "0a0f1fd1",
   "metadata": {},
   "source": [
    "# Exercises"
   ]
  },
  {
   "cell_type": "markdown",
   "id": "fe11bc22",
   "metadata": {},
   "source": [
    "Do your work for this exercise in a jupyter notebook named hypothesis_testing.ipynb.\n",
    "\n",
    "For each of the following questions, formulate a null and alternative hypothesis (be as specific as you can be), then give an example of what a true positive, true negative, type I and type II errors would look like. Note that some of the questions are intentionally phrased in a vague way. It is your job to reword these as more precise questions that could be tested."
   ]
  },
  {
   "cell_type": "markdown",
   "id": "73d17fc3",
   "metadata": {},
   "source": [
    "- Has the network latency gone up since we switched internet service providers?"
   ]
  },
  {
   "cell_type": "markdown",
   "id": "13138d3a",
   "metadata": {},
   "source": [
    "1. Null = The latency between the new and old service providers remained the same.\n",
    "\n",
    "2. Alternative = The latency between the new and old service providers has increased.\n",
    "\n",
    "3. true positive = The latency shows an average difference of 10 seconds\n",
    "\n",
    "4. true negative = The latency shows an average difference of .00001 seconds\n",
    "\n",
    "5. type I = The latency shows an average difference of .05 seconds but it is not noticeable\n",
    "\n",
    "6. type II = The latency shows an average difference of .03"
   ]
  },
  {
   "cell_type": "markdown",
   "id": "294cfa5d",
   "metadata": {},
   "source": [
    "- Is the website redesign any good?"
   ]
  },
  {
   "cell_type": "markdown",
   "id": "2dbaa635",
   "metadata": {},
   "source": [
    "1. Null = Click through rate is the same.\n",
    "2. Alternative = Higher click through rate.\n",
    "3. true positive = Click rates did not change\n",
    "4. true negative = Click rates increased by 1000\n",
    "5. type I = Click rates only increased by 10.\n",
    "6. type II = Click rates decreased by 10.\n"
   ]
  },
  {
   "cell_type": "markdown",
   "id": "f4be768e",
   "metadata": {},
   "source": [
    "- Is our television ad driving more sales"
   ]
  },
  {
   "cell_type": "markdown",
   "id": "dd1aa64a",
   "metadata": {},
   "source": [
    "1. Null = Sales have remained the same, did not increase or decrease.\n",
    "2. Alternative = Sales have increased.\n",
    "3. true positive = Sales remained the same.\n",
    "4. true negative = Sales increased by $10, 000 from last year.\n",
    "5. type I = Sales only increased by $100.\n",
    "6. type II = Sales decreased by $100."
   ]
  },
  {
   "cell_type": "code",
   "execution_count": null,
   "id": "72b06df6",
   "metadata": {},
   "outputs": [],
   "source": []
  }
 ],
 "metadata": {
  "kernelspec": {
   "display_name": "Python 3 (ipykernel)",
   "language": "python",
   "name": "python3"
  },
  "language_info": {
   "codemirror_mode": {
    "name": "ipython",
    "version": 3
   },
   "file_extension": ".py",
   "mimetype": "text/x-python",
   "name": "python",
   "nbconvert_exporter": "python",
   "pygments_lexer": "ipython3",
   "version": "3.9.13"
  }
 },
 "nbformat": 4,
 "nbformat_minor": 5
}
