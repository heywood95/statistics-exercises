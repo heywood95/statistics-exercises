{
 "cells": [
  {
   "cell_type": "markdown",
   "id": "0a0f1fd1",
   "metadata": {},
   "source": [
    "# Exercises"
   ]
  },
  {
   "cell_type": "markdown",
   "id": "fe11bc22",
   "metadata": {},
   "source": [
    "Do your work for this exercise in a jupyter notebook named hypothesis_testing.ipynb.\n",
    "\n",
    "For each of the following questions, formulate a null and alternative hypothesis (be as specific as you can be), then give an example of what a true positive, true negative, type I and type II errors would look like. Note that some of the questions are intentionally phrased in a vague way. It is your job to reword these as more precise questions that could be tested."
   ]
  },
  {
   "cell_type": "markdown",
   "id": "73d17fc3",
   "metadata": {},
   "source": [
    "- Has the network latency gone up since we switched internet service providers?"
   ]
  },
  {
   "cell_type": "markdown",
   "id": "13138d3a",
   "metadata": {},
   "source": [
    "1. Null = The latency between the new and old service providers remained the same.\n",
    "\n",
    "2. Alternative = The latency between the new and old service providers has increased.\n",
    "\n",
    "3. true positive = The latency shows an average difference of 10 seconds\n",
    "\n",
    "4. true negative = The latency shows an average difference of .00001 seconds\n",
    "\n",
    "5. type I = The latency shows an average difference of .05 seconds but it is not noticeable\n",
    "\n",
    "6. type II = The latency shows an average difference of .03"
   ]
  },
  {
   "cell_type": "markdown",
   "id": "294cfa5d",
   "metadata": {},
   "source": [
    "- Is the website redesign any good?"
   ]
  },
  {
   "cell_type": "markdown",
   "id": "2dbaa635",
   "metadata": {},
   "source": [
    "1. Null = Click through rate is the same.\n",
    "2. Alternative = Higher click through rate.\n",
    "3. true positive = Click rates did not change\n",
    "4. true negative = Click rates increased by 1000\n",
    "5. type I = Click rates only increased by 10.\n",
    "6. type II = Click rates decreased by 10.\n"
   ]
  },
  {
   "cell_type": "markdown",
   "id": "f4be768e",
   "metadata": {},
   "source": [
    "- Is our television ad driving more sales"
   ]
  },
  {
   "cell_type": "markdown",
   "id": "dd1aa64a",
   "metadata": {},
   "source": [
    "1. Null = Sales have remained the same, did not increase or decrease.\n",
    "2. Alternative = Sales have increased.\n",
    "3. true positive = Sales remained the same.\n",
    "4. true negative = Sales increased by $10, 000 from last year.\n",
    "5. type I = Sales only increased by $100.\n",
    "6. type II = Sales decreased by $100."
   ]
  },
  {
   "cell_type": "markdown",
   "id": "97a501df",
   "metadata": {},
   "source": [
    "# Exercises T-Test"
   ]
  },
  {
   "cell_type": "markdown",
   "id": "a1ca750f",
   "metadata": {},
   "source": [
    "1. Answer with the type of test you would use (assume normal distribution):\n",
    "\n",
    "- Is there a difference in grades of students on the second floor compared to grades of all students?"
   ]
  },
  {
   "cell_type": "markdown",
   "id": "eb6b4e5f",
   "metadata": {},
   "source": [
    "A. One sample T-Test, 2-tail"
   ]
  },
  {
   "cell_type": "markdown",
   "id": "f26e1ca2",
   "metadata": {},
   "source": [
    "- Are adults who drink milk taller than adults who dont drink milk?"
   ]
  },
  {
   "cell_type": "markdown",
   "id": "3290a967",
   "metadata": {},
   "source": [
    "A. Independent T-Test, 1-tail"
   ]
  },
  {
   "cell_type": "markdown",
   "id": "93f5f380",
   "metadata": {},
   "source": [
    "- Is the the price of gas higher in texas or in new mexico?"
   ]
  },
  {
   "cell_type": "markdown",
   "id": "e108388b",
   "metadata": {},
   "source": [
    "A. Independent t-test, 1-tail"
   ]
  },
  {
   "cell_type": "markdown",
   "id": "6eaabdd5",
   "metadata": {},
   "source": [
    "- Are there differences in stress levels between students who take data science vs students who take web development vs students who take cloud academy?"
   ]
  },
  {
   "cell_type": "markdown",
   "id": "913b34d2",
   "metadata": {},
   "source": [
    "A. ANOVA"
   ]
  },
  {
   "cell_type": "markdown",
   "id": "947fe6db",
   "metadata": {},
   "source": [
    "2. Ace Realty wants to determine whether the average time it takes to sell homes is different for its two offices. A sample of 40 sales from office #1 revealed a mean of 90 days and a standard deviation of 15 days. A sample of 50 sales from office #2 revealed a mean of 100 days and a standard deviation of 20 days. Use a .05 level of significance."
   ]
  },
  {
   "cell_type": "code",
   "execution_count": 100,
   "id": "59716eec",
   "metadata": {},
   "outputs": [],
   "source": [
    "alpha = .05"
   ]
  },
  {
   "cell_type": "code",
   "execution_count": 105,
   "id": "1ed49d01",
   "metadata": {},
   "outputs": [],
   "source": [
    "sample1 = 40\n",
    "mean1 = 90\n",
    "std_dev1 = 15\n",
    "\n",
    "sample2 = 50\n",
    "mean2 = 100\n",
    "std_dev2 = 20\n",
    "\n",
    "office1 = stats.norm(mean1, std_dev1).cdf(sample1)\n",
    "office2 = stats.norm(mean2, std_dev2).cdf(sample2)"
   ]
  },
  {
   "cell_type": "code",
   "execution_count": 106,
   "id": "e75674b4",
   "metadata": {},
   "outputs": [
    {
     "data": {
      "text/plain": [
       "(0.0004290603331968372, 0.006209665325776132)"
      ]
     },
     "execution_count": 106,
     "metadata": {},
     "output_type": "execute_result"
    }
   ],
   "source": [
    "office1, office2"
   ]
  },
  {
   "cell_type": "code",
   "execution_count": 110,
   "id": "dd93499d",
   "metadata": {},
   "outputs": [
    {
     "data": {
      "text/plain": [
       "(array([0., 0., 0., 0., 1., 0., 0., 0., 0., 0.]),\n",
       " array([-0.49379033, -0.39379033, -0.29379033, -0.19379033, -0.09379033,\n",
       "         0.00620967,  0.10620967,  0.20620967,  0.30620967,  0.40620967,\n",
       "         0.50620967]),\n",
       " <BarContainer object of 10 artists>)"
      ]
     },
     "execution_count": 110,
     "metadata": {},
     "output_type": "execute_result"
    },
    {
     "data": {
      "image/png": "[encoded data removed]",
      "text/plain": [
       "<Figure size 640x480 with 1 Axes>"
      ]
     },
     "metadata": {},
     "output_type": "display_data"
    }
   ],
   "source": [
    "plt.hist(office1)\n",
    "plt.hist(office2)"
   ]
  },
  {
   "cell_type": "code",
   "execution_count": 111,
   "id": "b052fe16",
   "metadata": {},
   "outputs": [],
   "source": [
    "from scipy import stats\n",
    "from pydataset import data"
   ]
  },
  {
   "cell_type": "code",
   "execution_count": 112,
   "id": "14bd728c",
   "metadata": {},
   "outputs": [],
   "source": [
    "office_one = stats.norm(90, 15)\n",
    "office_two = stats.norm(100, 20)"
   ]
  },
  {
   "cell_type": "code",
   "execution_count": 113,
   "id": "ad4d611b",
   "metadata": {},
   "outputs": [],
   "source": [
    "dist_one = office_one.rvs(40)\n",
    "dist_two = office_two.rvs(50)"
   ]
  },
  {
   "cell_type": "code",
   "execution_count": 115,
   "id": "eb120714",
   "metadata": {},
   "outputs": [
    {
     "data": {
      "text/plain": [
       "(262.0807621971434, 458.86090943362376)"
      ]
     },
     "execution_count": 115,
     "metadata": {},
     "output_type": "execute_result"
    }
   ],
   "source": [
    "dist_one.var(), dist_two.var()"
   ]
  },
  {
   "cell_type": "code",
   "execution_count": 116,
   "id": "ace82173",
   "metadata": {},
   "outputs": [
    {
     "data": {
      "text/plain": [
       "LeveneResult(statistic=0.4428292043999735, pvalue=0.5075005260197754)"
      ]
     },
     "execution_count": 116,
     "metadata": {},
     "output_type": "execute_result"
    }
   ],
   "source": [
    "stats.levene(dist_one, dist_two)"
   ]
  },
  {
   "cell_type": "code",
   "execution_count": 119,
   "id": "aee7580e",
   "metadata": {},
   "outputs": [
    {
     "data": {
      "text/plain": [
       "(1.688031764751321, 0.09495555821049692)"
      ]
     },
     "execution_count": 119,
     "metadata": {},
     "output_type": "execute_result"
    }
   ],
   "source": [
    "t, p = stats.ttest_ind(dist_two, dist_one, equal_var=False)\n",
    "t, p"
   ]
  },
  {
   "cell_type": "markdown",
   "id": "6ca17c22",
   "metadata": {},
   "source": [
    "Null: There's no diference between the two distrtibutions\n",
    "Alternative: there's a significant difference between the two distributions"
   ]
  },
  {
   "cell_type": "code",
   "execution_count": 120,
   "id": "18a99211",
   "metadata": {},
   "outputs": [
    {
     "name": "stdout",
     "output_type": "stream",
     "text": [
      "Fail to reject null\n"
     ]
    }
   ],
   "source": [
    "alpha = .05\n",
    "\n",
    "if p <= alpha:\n",
    "    print('Reject null')\n",
    "else:\n",
    "    print('Fail to reject null')\n",
    "    # "
   ]
  },
  {
   "cell_type": "markdown",
   "id": "b41ec389",
   "metadata": {},
   "source": [
    "Takeaway: we rejected the null hypothesis, there is a signficant difference between the two offices"
   ]
  },
  {
   "cell_type": "markdown",
   "id": "38b9d63f",
   "metadata": {},
   "source": [
    "3. Load the mpg dataset and use it to answer the following questions:"
   ]
  },
  {
   "cell_type": "code",
   "execution_count": 1,
   "id": "0ac65306",
   "metadata": {},
   "outputs": [],
   "source": [
    "#import seaborn as sns\n",
    "#mpg = sns.load_dataset('mpg')\n",
    "from pydataset import data\n",
    "mpg = data('mpg')\n",
    "import pandas as pd\n",
    "import matplotlib.pyplot as plt\n",
    "import scipy.stats as stats\n",
    "import seaborn as sns\n",
    "import env\n"
   ]
  },
  {
   "cell_type": "markdown",
   "id": "ae780ed6",
   "metadata": {},
   "source": [
    "- Is there a difference in fuel-efficiency in cars from 2008 vs 1999? Independent Test"
   ]
  },
  {
   "cell_type": "code",
   "execution_count": 27,
   "id": "6190b3a8",
   "metadata": {},
   "outputs": [
    {
     "data": {
      "text/html": [
       "<div>\n",
       "<style scoped>\n",
       "    .dataframe tbody tr th:only-of-type {\n",
       "        vertical-align: middle;\n",
       "    }\n",
       "\n",
       "    .dataframe tbody tr th {\n",
       "        vertical-align: top;\n",
       "    }\n",
       "\n",
       "    .dataframe thead th {\n",
       "        text-align: right;\n",
       "    }\n",
       "</style>\n",
       "<table border=\"1\" class=\"dataframe\">\n",
       "  <thead>\n",
       "    <tr style=\"text-align: right;\">\n",
       "      <th></th>\n",
       "      <th>manufacturer</th>\n",
       "      <th>model</th>\n",
       "      <th>displ</th>\n",
       "      <th>year</th>\n",
       "      <th>cyl</th>\n",
       "      <th>trans</th>\n",
       "      <th>drv</th>\n",
       "      <th>cty</th>\n",
       "      <th>hwy</th>\n",
       "      <th>fl</th>\n",
       "      <th>class</th>\n",
       "    </tr>\n",
       "  </thead>\n",
       "  <tbody>\n",
       "    <tr>\n",
       "      <th>1</th>\n",
       "      <td>audi</td>\n",
       "      <td>a4</td>\n",
       "      <td>1.8</td>\n",
       "      <td>1999</td>\n",
       "      <td>4</td>\n",
       "      <td>auto(l5)</td>\n",
       "      <td>f</td>\n",
       "      <td>18</td>\n",
       "      <td>29</td>\n",
       "      <td>p</td>\n",
       "      <td>compact</td>\n",
       "    </tr>\n",
       "    <tr>\n",
       "      <th>2</th>\n",
       "      <td>audi</td>\n",
       "      <td>a4</td>\n",
       "      <td>1.8</td>\n",
       "      <td>1999</td>\n",
       "      <td>4</td>\n",
       "      <td>manual(m5)</td>\n",
       "      <td>f</td>\n",
       "      <td>21</td>\n",
       "      <td>29</td>\n",
       "      <td>p</td>\n",
       "      <td>compact</td>\n",
       "    </tr>\n",
       "    <tr>\n",
       "      <th>3</th>\n",
       "      <td>audi</td>\n",
       "      <td>a4</td>\n",
       "      <td>2.0</td>\n",
       "      <td>2008</td>\n",
       "      <td>4</td>\n",
       "      <td>manual(m6)</td>\n",
       "      <td>f</td>\n",
       "      <td>20</td>\n",
       "      <td>31</td>\n",
       "      <td>p</td>\n",
       "      <td>compact</td>\n",
       "    </tr>\n",
       "    <tr>\n",
       "      <th>4</th>\n",
       "      <td>audi</td>\n",
       "      <td>a4</td>\n",
       "      <td>2.0</td>\n",
       "      <td>2008</td>\n",
       "      <td>4</td>\n",
       "      <td>auto(av)</td>\n",
       "      <td>f</td>\n",
       "      <td>21</td>\n",
       "      <td>30</td>\n",
       "      <td>p</td>\n",
       "      <td>compact</td>\n",
       "    </tr>\n",
       "    <tr>\n",
       "      <th>5</th>\n",
       "      <td>audi</td>\n",
       "      <td>a4</td>\n",
       "      <td>2.8</td>\n",
       "      <td>1999</td>\n",
       "      <td>6</td>\n",
       "      <td>auto(l5)</td>\n",
       "      <td>f</td>\n",
       "      <td>16</td>\n",
       "      <td>26</td>\n",
       "      <td>p</td>\n",
       "      <td>compact</td>\n",
       "    </tr>\n",
       "  </tbody>\n",
       "</table>\n",
       "</div>"
      ],
      "text/plain": [
       "  manufacturer model  displ  year  cyl       trans drv  cty  hwy fl    class\n",
       "1         audi    a4    1.8  1999    4    auto(l5)   f   18   29  p  compact\n",
       "2         audi    a4    1.8  1999    4  manual(m5)   f   21   29  p  compact\n",
       "3         audi    a4    2.0  2008    4  manual(m6)   f   20   31  p  compact\n",
       "4         audi    a4    2.0  2008    4    auto(av)   f   21   30  p  compact\n",
       "5         audi    a4    2.8  1999    6    auto(l5)   f   16   26  p  compact"
      ]
     },
     "execution_count": 27,
     "metadata": {},
     "output_type": "execute_result"
    }
   ],
   "source": [
    "mpg.head()"
   ]
  },
  {
   "cell_type": "code",
   "execution_count": 26,
   "id": "290adaf6",
   "metadata": {},
   "outputs": [],
   "source": [
    "alpha = .05"
   ]
  },
  {
   "cell_type": "code",
   "execution_count": 3,
   "id": "8ef12b92",
   "metadata": {},
   "outputs": [
    {
     "data": {
      "text/plain": [
       "1999    117\n",
       "2008    117\n",
       "Name: year, dtype: int64"
      ]
     },
     "execution_count": 3,
     "metadata": {},
     "output_type": "execute_result"
    }
   ],
   "source": [
    "mpg.year.value_counts()"
   ]
  },
  {
   "cell_type": "code",
   "execution_count": 4,
   "id": "60e73848",
   "metadata": {},
   "outputs": [
    {
     "data": {
      "text/plain": [
       "manufacturer    0\n",
       "model           0\n",
       "displ           0\n",
       "year            0\n",
       "cyl             0\n",
       "trans           0\n",
       "drv             0\n",
       "cty             0\n",
       "hwy             0\n",
       "fl              0\n",
       "class           0\n",
       "dtype: int64"
      ]
     },
     "execution_count": 4,
     "metadata": {},
     "output_type": "execute_result"
    }
   ],
   "source": [
    "mpg.isna().sum()\n",
    "\n",
    "mpg = mpg[~mpg.hwy.isna()]\n",
    "mpg = mpg[~mpg.year.isna()]\n",
    "mpg.isna().sum()"
   ]
  },
  {
   "cell_type": "code",
   "execution_count": 16,
   "id": "8760c842",
   "metadata": {},
   "outputs": [
    {
     "data": {
      "text/plain": [
       "<AxesSubplot:>"
      ]
     },
     "execution_count": 16,
     "metadata": {},
     "output_type": "execute_result"
    },
    {
     "data": {
      "image/png": "[encoded data removed]",
      "text/plain": [
       "<Figure size 640x480 with 1 Axes>"
      ]
     },
     "metadata": {},
     "output_type": "display_data"
    }
   ],
   "source": [
    "mpg[mpg.year==1999].hwy.hist()\n",
    "mpg[mpg.year==2008].hwy.hist()"
   ]
  },
  {
   "cell_type": "code",
   "execution_count": 17,
   "id": "35e4b1ec",
   "metadata": {},
   "outputs": [],
   "source": [
    "ninety_nine = mpg[mpg.year==1999].hwy\n",
    "zero_eight = mpg[mpg.year==2008].hwy"
   ]
  },
  {
   "cell_type": "code",
   "execution_count": 25,
   "id": "f744e21d",
   "metadata": {},
   "outputs": [
    {
     "data": {
      "text/plain": [
       "3     31\n",
       "4     30\n",
       "7     27\n",
       "10    28\n",
       "11    27\n",
       "Name: hwy, dtype: int64"
      ]
     },
     "execution_count": 25,
     "metadata": {},
     "output_type": "execute_result"
    }
   ],
   "source": [
    "zero_eight.head()\n",
    "#ninety_nine.head()"
   ]
  },
  {
   "cell_type": "code",
   "execution_count": 20,
   "id": "f3451fe2",
   "metadata": {},
   "outputs": [
    {
     "data": {
      "text/plain": [
       "LeveneResult(statistic=0.0212016152523693, pvalue=0.8843574825616618)"
      ]
     },
     "execution_count": 20,
     "metadata": {},
     "output_type": "execute_result"
    }
   ],
   "source": [
    "stats.levene(ninety_nine, zero_eight)"
   ]
  },
  {
   "cell_type": "code",
   "execution_count": 22,
   "id": "c647abb1",
   "metadata": {},
   "outputs": [
    {
     "name": "stdout",
     "output_type": "stream",
     "text": [
      "We fail to find a signficant difference\n"
     ]
    }
   ],
   "source": [
    "t, p = stats.ttest_ind(ninety_nine, zero_eight, equal_var=False)\n",
    "\n",
    "if p < .05:\n",
    "    print('There is a significant difference between the fuel-efficiency of vehicles in 1999 and 2008')\n",
    "else:\n",
    "    print('We fail to find a signficant difference')"
   ]
  },
  {
   "cell_type": "code",
   "execution_count": 122,
   "id": "9cd36e15",
   "metadata": {},
   "outputs": [
    {
     "data": {
      "text/html": [
       "<div>\n",
       "<style scoped>\n",
       "    .dataframe tbody tr th:only-of-type {\n",
       "        vertical-align: middle;\n",
       "    }\n",
       "\n",
       "    .dataframe tbody tr th {\n",
       "        vertical-align: top;\n",
       "    }\n",
       "\n",
       "    .dataframe thead th {\n",
       "        text-align: right;\n",
       "    }\n",
       "</style>\n",
       "<table border=\"1\" class=\"dataframe\">\n",
       "  <thead>\n",
       "    <tr style=\"text-align: right;\">\n",
       "      <th></th>\n",
       "      <th>manufacturer</th>\n",
       "      <th>model</th>\n",
       "      <th>displ</th>\n",
       "      <th>year</th>\n",
       "      <th>cyl</th>\n",
       "      <th>trans</th>\n",
       "      <th>drv</th>\n",
       "      <th>cty</th>\n",
       "      <th>hwy</th>\n",
       "      <th>fl</th>\n",
       "      <th>class</th>\n",
       "      <th>fuel_eff</th>\n",
       "    </tr>\n",
       "  </thead>\n",
       "  <tbody>\n",
       "    <tr>\n",
       "      <th>1</th>\n",
       "      <td>audi</td>\n",
       "      <td>a4</td>\n",
       "      <td>1.8</td>\n",
       "      <td>1999</td>\n",
       "      <td>4</td>\n",
       "      <td>auto(l5)</td>\n",
       "      <td>f</td>\n",
       "      <td>18</td>\n",
       "      <td>29</td>\n",
       "      <td>p</td>\n",
       "      <td>compact</td>\n",
       "      <td>23.5</td>\n",
       "    </tr>\n",
       "    <tr>\n",
       "      <th>2</th>\n",
       "      <td>audi</td>\n",
       "      <td>a4</td>\n",
       "      <td>1.8</td>\n",
       "      <td>1999</td>\n",
       "      <td>4</td>\n",
       "      <td>manual(m5)</td>\n",
       "      <td>f</td>\n",
       "      <td>21</td>\n",
       "      <td>29</td>\n",
       "      <td>p</td>\n",
       "      <td>compact</td>\n",
       "      <td>25.0</td>\n",
       "    </tr>\n",
       "    <tr>\n",
       "      <th>3</th>\n",
       "      <td>audi</td>\n",
       "      <td>a4</td>\n",
       "      <td>2.0</td>\n",
       "      <td>2008</td>\n",
       "      <td>4</td>\n",
       "      <td>manual(m6)</td>\n",
       "      <td>f</td>\n",
       "      <td>20</td>\n",
       "      <td>31</td>\n",
       "      <td>p</td>\n",
       "      <td>compact</td>\n",
       "      <td>25.5</td>\n",
       "    </tr>\n",
       "    <tr>\n",
       "      <th>4</th>\n",
       "      <td>audi</td>\n",
       "      <td>a4</td>\n",
       "      <td>2.0</td>\n",
       "      <td>2008</td>\n",
       "      <td>4</td>\n",
       "      <td>auto(av)</td>\n",
       "      <td>f</td>\n",
       "      <td>21</td>\n",
       "      <td>30</td>\n",
       "      <td>p</td>\n",
       "      <td>compact</td>\n",
       "      <td>25.5</td>\n",
       "    </tr>\n",
       "    <tr>\n",
       "      <th>5</th>\n",
       "      <td>audi</td>\n",
       "      <td>a4</td>\n",
       "      <td>2.8</td>\n",
       "      <td>1999</td>\n",
       "      <td>6</td>\n",
       "      <td>auto(l5)</td>\n",
       "      <td>f</td>\n",
       "      <td>16</td>\n",
       "      <td>26</td>\n",
       "      <td>p</td>\n",
       "      <td>compact</td>\n",
       "      <td>21.0</td>\n",
       "    </tr>\n",
       "  </tbody>\n",
       "</table>\n",
       "</div>"
      ],
      "text/plain": [
       "  manufacturer model  displ  year  cyl       trans drv  cty  hwy fl    class  \\\n",
       "1         audi    a4    1.8  1999    4    auto(l5)   f   18   29  p  compact   \n",
       "2         audi    a4    1.8  1999    4  manual(m5)   f   21   29  p  compact   \n",
       "3         audi    a4    2.0  2008    4  manual(m6)   f   20   31  p  compact   \n",
       "4         audi    a4    2.0  2008    4    auto(av)   f   21   30  p  compact   \n",
       "5         audi    a4    2.8  1999    6    auto(l5)   f   16   26  p  compact   \n",
       "\n",
       "   fuel_eff  \n",
       "1      23.5  \n",
       "2      25.0  \n",
       "3      25.5  \n",
       "4      25.5  \n",
       "5      21.0  "
      ]
     },
     "execution_count": 122,
     "metadata": {},
     "output_type": "execute_result"
    }
   ],
   "source": [
    "mpg['fuel_eff'] = (mpg['cty'] + mpg['hwy']) / 2\n",
    "mpg.head()"
   ]
  },
  {
   "cell_type": "code",
   "execution_count": 125,
   "id": "be01791f",
   "metadata": {},
   "outputs": [],
   "source": [
    "new_eff = mpg[mpg['year'] == 2008]['fuel_eff']\n",
    "old_eff = mpg[mpg['year'] == 1999]['fuel_eff']"
   ]
  },
  {
   "cell_type": "code",
   "execution_count": 126,
   "id": "00a8b3bc",
   "metadata": {},
   "outputs": [
    {
     "data": {
      "text/plain": [
       "(24.097480106100797, 27.122605363984682)"
      ]
     },
     "execution_count": 126,
     "metadata": {},
     "output_type": "execute_result"
    }
   ],
   "source": [
    "new_eff.var(), old_eff.var()"
   ]
  },
  {
   "cell_type": "markdown",
   "id": "2473e41d",
   "metadata": {},
   "source": [
    "Null: there is no difference in fuel efficiency between cars made in 2008 and 1999\n",
    "Alternative: there is a significant difference in fuel efficiency between cars made in 2008 and 1999"
   ]
  },
  {
   "cell_type": "code",
   "execution_count": 128,
   "id": "7ea8d427",
   "metadata": {},
   "outputs": [
    {
     "data": {
      "text/plain": [
       "(-0.21960177245940962, 0.8263750772060638)"
      ]
     },
     "execution_count": 128,
     "metadata": {},
     "output_type": "execute_result"
    }
   ],
   "source": [
    "t2, p2 = stats.ttest_ind(new_eff, old_eff, equal_var=False)\n",
    "t2, p2"
   ]
  },
  {
   "cell_type": "code",
   "execution_count": 129,
   "id": "7212c4e5",
   "metadata": {},
   "outputs": [
    {
     "name": "stdout",
     "output_type": "stream",
     "text": [
      "Fail to reject null\n"
     ]
    }
   ],
   "source": [
    "alpha = .05\n",
    "\n",
    "if p <= alpha:\n",
    "    print('Reject null')\n",
    "else:\n",
    "    print('Fail to reject null')"
   ]
  },
  {
   "cell_type": "markdown",
   "id": "a382ce8b",
   "metadata": {},
   "source": [
    "Takeaway: we failed to reject the null hypothesis, there is no signficant difference in fuel efficiency between cars made in 1999 and 2008."
   ]
  },
  {
   "cell_type": "markdown",
   "id": "594c9e12",
   "metadata": {},
   "source": [
    "- Are compact cars more fuel-efficient than the average car? one-sample test, 1-tail"
   ]
  },
  {
   "cell_type": "code",
   "execution_count": 37,
   "id": "e8006e20",
   "metadata": {},
   "outputs": [
    {
     "data": {
      "text/plain": [
       "manufacturer    0\n",
       "model           0\n",
       "displ           0\n",
       "year            0\n",
       "cyl             0\n",
       "trans           0\n",
       "drv             0\n",
       "cty             0\n",
       "hwy             0\n",
       "fl              0\n",
       "class           0\n",
       "dtype: int64"
      ]
     },
     "execution_count": 37,
     "metadata": {},
     "output_type": "execute_result"
    }
   ],
   "source": [
    "mpg.isna().sum()\n",
    "mpg = mpg[~mpg.hwy.isna()]\n",
    "mpg.isna().sum()"
   ]
  },
  {
   "cell_type": "code",
   "execution_count": 42,
   "id": "57534562",
   "metadata": {},
   "outputs": [
    {
     "data": {
      "text/plain": [
       "suv           62\n",
       "compact       47\n",
       "midsize       41\n",
       "subcompact    35\n",
       "pickup        33\n",
       "minivan       11\n",
       "2seater        5\n",
       "Name: class, dtype: int64"
      ]
     },
     "execution_count": 42,
     "metadata": {},
     "output_type": "execute_result"
    }
   ],
   "source": [
    "mpg['class'].value_counts()"
   ]
  },
  {
   "cell_type": "code",
   "execution_count": 46,
   "id": "04acd2b5",
   "metadata": {},
   "outputs": [
    {
     "data": {
      "text/plain": [
       "<AxesSubplot:>"
      ]
     },
     "execution_count": 46,
     "metadata": {},
     "output_type": "execute_result"
    },
    {
     "data": {
      "image/png": "[encoded data removed]",
      "text/plain": [
       "<Figure size 640x480 with 1 Axes>"
      ]
     },
     "metadata": {},
     "output_type": "display_data"
    }
   ],
   "source": [
    "mpg[mpg['class'] != 'compact'].hwy.hist()\n",
    "mpg[mpg['class'] == 'compact'].hwy.hist()"
   ]
  },
  {
   "cell_type": "code",
   "execution_count": 48,
   "id": "05f1be8a",
   "metadata": {},
   "outputs": [],
   "source": [
    "normal_car = mpg[mpg['class'] != 'compact'].hwy\n",
    "compact_car = mpg[mpg['class'] == 'compact'].hwy"
   ]
  },
  {
   "cell_type": "code",
   "execution_count": 49,
   "id": "71cfb56b",
   "metadata": {},
   "outputs": [
    {
     "data": {
      "text/plain": [
       "LeveneResult(statistic=20.48883757052893, pvalue=9.586415103710692e-06)"
      ]
     },
     "execution_count": 49,
     "metadata": {},
     "output_type": "execute_result"
    }
   ],
   "source": [
    "stats.levene(normal_car, compact_car)"
   ]
  },
  {
   "cell_type": "code",
   "execution_count": 50,
   "id": "5abc4fc1",
   "metadata": {},
   "outputs": [
    {
     "name": "stdout",
     "output_type": "stream",
     "text": [
      "There is a significant difference between the fuel-efficiency of normal cars and compact cars\n"
     ]
    }
   ],
   "source": [
    "t, p = stats.ttest_ind(normal_car, compact_car, equal_var=False)\n",
    "\n",
    "if p < .05:\n",
    "    print('There is a significant difference between the fuel-efficiency of normal cars and compact cars')\n",
    "else:\n",
    "    print('We fail to find a signficant difference')"
   ]
  },
  {
   "cell_type": "markdown",
   "id": "daee123d",
   "metadata": {},
   "source": [
    "null: compact cars are not more efficeint than the average car\n",
    "alternative: compact cars are more efficient than the average car"
   ]
  },
  {
   "cell_type": "code",
   "execution_count": 132,
   "id": "b602a41c",
   "metadata": {},
   "outputs": [],
   "source": [
    "compact_eff = mpg[mpg['class'] == 'compact']['fuel_eff']\n",
    "mean_eff = mpg['fuel_eff'].mean()\n"
   ]
  },
  {
   "cell_type": "code",
   "execution_count": 134,
   "id": "113e0075",
   "metadata": {},
   "outputs": [
    {
     "data": {
      "text/plain": [
       "(7.896888573132533, 4.198563794317163e-10)"
      ]
     },
     "execution_count": 134,
     "metadata": {},
     "output_type": "execute_result"
    }
   ],
   "source": [
    "t3, p3 = stats.ttest_1samp(compact_eff, mean_eff)\n",
    "t3, p3"
   ]
  },
  {
   "cell_type": "code",
   "execution_count": 135,
   "id": "d293eee8",
   "metadata": {},
   "outputs": [
    {
     "name": "stdout",
     "output_type": "stream",
     "text": [
      "Reject null\n"
     ]
    }
   ],
   "source": [
    "alpha = .05\n",
    "\n",
    "if t3 > 0 and p3/2 <= alpha:\n",
    "    print('Reject null')\n",
    "else:\n",
    "    print('Fail to reject null')"
   ]
  },
  {
   "cell_type": "markdown",
   "id": "42274617",
   "metadata": {},
   "source": [
    "Takeaway: reject the null hypothesis, compact cars are significantly more efficient than the average car"
   ]
  },
  {
   "cell_type": "markdown",
   "id": "176a28f5",
   "metadata": {},
   "source": [
    "- Do manual cars get better gas mileage than automatic cars? Independent test, 1-tail"
   ]
  },
  {
   "cell_type": "code",
   "execution_count": 55,
   "id": "3056a0db",
   "metadata": {},
   "outputs": [
    {
     "data": {
      "text/plain": [
       "auto(l4)      83\n",
       "manual(m5)    58\n",
       "auto(l5)      39\n",
       "manual(m6)    19\n",
       "auto(s6)      16\n",
       "auto(l6)       6\n",
       "auto(av)       5\n",
       "auto(s5)       3\n",
       "auto(s4)       3\n",
       "auto(l3)       2\n",
       "Name: trans, dtype: int64"
      ]
     },
     "execution_count": 55,
     "metadata": {},
     "output_type": "execute_result"
    }
   ],
   "source": [
    "mpg.trans.value_counts()"
   ]
  },
  {
   "cell_type": "code",
   "execution_count": 62,
   "id": "a5ef2d74",
   "metadata": {},
   "outputs": [
    {
     "data": {
      "text/plain": [
       "<AxesSubplot:>"
      ]
     },
     "execution_count": 62,
     "metadata": {},
     "output_type": "execute_result"
    },
    {
     "data": {
      "image/png": "[encoded data removed]",
      "text/plain": [
       "<Figure size 640x480 with 1 Axes>"
      ]
     },
     "metadata": {},
     "output_type": "display_data"
    }
   ],
   "source": [
    "mpg[mpg['trans'].str.startswith('a')].hwy.hist()\n",
    "mpg[mpg['trans'].str.startswith('m')].hwy.hist()"
   ]
  },
  {
   "cell_type": "code",
   "execution_count": 95,
   "id": "e0dfdc36",
   "metadata": {},
   "outputs": [],
   "source": [
    "automatic = mpg[mpg['trans'].str.startswith('a')].hwy\n",
    "manual = mpg[mpg['trans'].str.startswith('m')].hwy"
   ]
  },
  {
   "cell_type": "code",
   "execution_count": 98,
   "id": "2f2cb32a",
   "metadata": {},
   "outputs": [
    {
     "data": {
      "text/plain": [
       "1    29\n",
       "4    30\n",
       "5    26\n",
       "7    27\n",
       "9    25\n",
       "Name: hwy, dtype: int64"
      ]
     },
     "execution_count": 98,
     "metadata": {},
     "output_type": "execute_result"
    }
   ],
   "source": [
    "automatic.head()"
   ]
  },
  {
   "cell_type": "code",
   "execution_count": 97,
   "id": "d4f5f901",
   "metadata": {},
   "outputs": [
    {
     "data": {
      "text/plain": [
       "LeveneResult(statistic=1.190286842268245, pvalue=0.2764034768395809)"
      ]
     },
     "execution_count": 97,
     "metadata": {},
     "output_type": "execute_result"
    }
   ],
   "source": [
    "stats.levene(automatic, manual)"
   ]
  },
  {
   "cell_type": "code",
   "execution_count": 99,
   "id": "2f524574",
   "metadata": {},
   "outputs": [
    {
     "name": "stdout",
     "output_type": "stream",
     "text": [
      "There is a significant difference between the fuel-efficiency of automatic and manual transmissions\n"
     ]
    }
   ],
   "source": [
    "t, p = stats.ttest_ind(automatic, manual, equal_var=False)\n",
    "\n",
    "if p < .05:\n",
    "    print('There is a significant difference between the fuel-efficiency of automatic and manual transmissions')\n",
    "else:\n",
    "    print('We fail to find a signficant difference')"
   ]
  },
  {
   "cell_type": "markdown",
   "id": "cc99cfae",
   "metadata": {},
   "source": [
    "Null: manual cars are not more efficient than automatics\n",
    "Alternative: manual cars are more efficient than automatics"
   ]
  },
  {
   "cell_type": "code",
   "execution_count": 136,
   "id": "0882d945",
   "metadata": {},
   "outputs": [],
   "source": [
    "manual_eff = mpg[mpg['trans'].str.startswith('m')]['fuel_eff']\n",
    "auto_eff = mpg[mpg['trans'].str.startswith('a')]['fuel_eff']"
   ]
  },
  {
   "cell_type": "code",
   "execution_count": 137,
   "id": "47a5c724",
   "metadata": {},
   "outputs": [
    {
     "data": {
      "text/plain": [
       "(26.635167464114826, 21.942777233382337)"
      ]
     },
     "execution_count": 137,
     "metadata": {},
     "output_type": "execute_result"
    }
   ],
   "source": [
    "manual_eff.var(), auto_eff.var()"
   ]
  },
  {
   "cell_type": "code",
   "execution_count": 138,
   "id": "3ffb28d5",
   "metadata": {},
   "outputs": [
    {
     "data": {
      "text/plain": [
       "(4.443514012903072, 1.7952248999917893e-05)"
      ]
     },
     "execution_count": 138,
     "metadata": {},
     "output_type": "execute_result"
    }
   ],
   "source": [
    "t4, p4 = stats.ttest_ind(manual_eff, auto_eff, equal_var=False)\n",
    "t4, p4"
   ]
  },
  {
   "cell_type": "code",
   "execution_count": 139,
   "id": "cf2ce807",
   "metadata": {},
   "outputs": [
    {
     "name": "stdout",
     "output_type": "stream",
     "text": [
      "Reject null\n"
     ]
    }
   ],
   "source": [
    "alpha = .05\n",
    "\n",
    "if t4 > 0 and p4/2 < alpha:\n",
    "    print('Reject null')\n",
    "else:\n",
    "    print('Fail to reject null')"
   ]
  },
  {
   "cell_type": "markdown",
   "id": "483e4100",
   "metadata": {},
   "source": [
    "Takeaway: manual cars are significantly more efficient than automatic cars"
   ]
  },
  {
   "cell_type": "code",
   "execution_count": null,
   "id": "1236552f",
   "metadata": {},
   "outputs": [],
   "source": []
  }
 ],
 "metadata": {
  "kernelspec": {
   "display_name": "Python 3 (ipykernel)",
   "language": "python",
   "name": "python3"
  },
  "language_info": {
   "codemirror_mode": {
    "name": "ipython",
    "version": 3
   },
   "file_extension": ".py",
   "mimetype": "text/x-python",
   "name": "python",
   "nbconvert_exporter": "python",
   "pygments_lexer": "ipython3",
   "version": "3.9.13"
  }
 },
 "nbformat": 4,
 "nbformat_minor": 5
}
